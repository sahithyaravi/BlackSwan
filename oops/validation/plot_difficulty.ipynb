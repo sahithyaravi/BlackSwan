{
 "cells": [
  {
   "cell_type": "markdown",
   "metadata": {},
   "source": [
    "### Common Visualization functions for all tasks"
   ]
  },
  {
   "cell_type": "code",
   "execution_count": 4,
   "metadata": {},
   "outputs": [],
   "source": [
    "file_path = \"/Users/sahiravi/Documents/VAR/difficulty_human.csv\""
   ]
  },
  {
   "cell_type": "code",
   "execution_count": 5,
   "metadata": {},
   "outputs": [],
   "source": [
    "import pandas as pd\n",
    "import ast\n",
    "import matplotlib.pyplot as plt\n",
    "from IPython.display import display, Video, HTML\n",
    "import seaborn as sns\n",
    "\n",
    "# Function to find the distribution of the four metrics\n",
    "def calculate_metric_distribution(df, task_prefix=\"\"):\n",
    "    metrics = ['unpredictability', 'clarity', 'complexity', 'events']\n",
    "    metric_counts = {metric: [] for metric in metrics}\n",
    "    \n",
    "    # Collect scores from the dataset\n",
    "    for index, row in df.iterrows():\n",
    "        submitted_data_dict = ast.literal_eval(row['Submitted Data'])\n",
    "        task_data = submitted_data_dict.get(\"Data\", {}).get(\"taskData\", {})\n",
    "        \n",
    "        for metric in metrics:\n",
    "            score = task_data.get(f\"{task_prefix}{metric}\", None)\n",
    "            if score is not None:\n",
    "                metric_counts[metric].append(int(score))\n",
    "    \n",
    "    # Plot distribution for each metric with percentages on bars\n",
    "    fig, axes = plt.subplots(2, 2, figsize=(12, 8))\n",
    "    axes = axes.flatten()\n",
    "    \n",
    "    for i, metric in enumerate(metrics):\n",
    "        metric_data = metric_counts[metric]\n",
    "        \n",
    "        if len(metric_data) > 0:\n",
    "            ax = sns.histplot(metric_data, bins=5, ax=axes[i], kde=False, stat='percent', color='skyblue')\n",
    "            axes[i].set_title(f'Distribution of {metric.capitalize()} Scores')\n",
    "            axes[i].set_xlabel('Score')\n",
    "            axes[i].set_ylabel('Percentage')\n",
    "\n",
    "            # Add percentages on top of the bars\n",
    "            total = len(metric_data)\n",
    "            for p in ax.patches:\n",
    "                percentage = f'{(p.get_height()):.1f}%'\n",
    "                ax.annotate(percentage, \n",
    "                            (p.get_x() + p.get_width() / 2., p.get_height()), \n",
    "                            ha='center', va='center', xytext=(0, 9), \n",
    "                            textcoords='offset points', fontsize=10, color='black')\n",
    "        else:\n",
    "            axes[i].set_title(f'No Data for {metric.capitalize()}')\n",
    "    \n",
    "    plt.tight_layout()\n",
    "    plt.show()\n",
    "    \n",
    "    # Calculate and display the average score for each metric\n",
    "    for metric in metrics:\n",
    "        if len(metric_counts[metric]) > 0:\n",
    "            avg_score = sum(metric_counts[metric]) / len(metric_counts[metric])\n",
    "            print(f\"Average {metric.capitalize()} Score: {avg_score:.2f}\")\n",
    "        else:\n",
    "            print(f\"No data available for {metric.capitalize()}.\")\n",
    "\n",
    "# Function to parse \"Task Data\" and extract video links based on headers\n",
    "def get_videos_and_reference(task_data):\n",
    "    task_data_dict = ast.literal_eval(task_data)\n",
    "    row_data = task_data_dict.get(\"RowData\", [])\n",
    "    \n",
    "    videos = {}\n",
    "    reference_text = None\n",
    "    \n",
    "    # Combine base URL and video names for each header\n",
    "    base_url = next((item['CellData'] for item in row_data if item['ColumnHeader'] == 'full_video_url'), None)\n",
    "    diff = next((item['CellData'] for item in row_data if item['ColumnHeader'] == 'difficulty'), None)\n",
    "\n",
    "    videos[base_url] = f\"{base_url}\"\n",
    "  \n",
    "    return videos, diff\n",
    "\n",
    "# Function to extract metrics based on the task configuration (t1, t2, t3)\n",
    "def get_metrics(submitted_data, task_prefix=\"\"):\n",
    "    submitted_data_dict = ast.literal_eval(submitted_data)\n",
    "    task_data = submitted_data_dict.get(\"Data\", {}).get(\"taskData\", {})\n",
    "    \n",
    "    metrics = ['unpredictability', 'clarity', 'complexity', 'events']\n",
    "    metrics_info = []\n",
    "    unpred_mapped = \"easy\"\n",
    "    # Gather each metric score and its corresponding reason\n",
    "    for metric in metrics:\n",
    "        score = task_data.get(f\"{task_prefix}{metric}\", \"N/A\")\n",
    "        # reason = task_data.get(f\"{metric}Reason\", \"N/A\")\n",
    "        metrics_info.append(f\"{metric.capitalize()} Score: {score}\")\n",
    "\n",
    "        if metric==\"unpredictability\":\n",
    "            # 1, 2 (Low) → 1 (Low)\n",
    "            # 3 (Medium) → 2 (Medium)\n",
    "            # 4, 5 (High) → 3 (High)\n",
    "\n",
    "            if score == 1 or score == 2:\n",
    "                unpred_mapped = \"easy\"\n",
    "            elif score == 3:\n",
    "                unpred_mapped = \"medium\"\n",
    "            else:\n",
    "                unpred_mapped = \"hard\"\n",
    "        # metrics_info.append(f\"{metric.capitalize()} Reason: {reason}\")\n",
    "    \n",
    "    return \"\\n\".join(metrics_info), unpred_mapped\n",
    "\n",
    "# Function to display videos side by side\n",
    "def display_videos(videos_dict):\n",
    "    video_tags = []\n",
    "    for header, video_link in videos_dict.items():\n",
    "        if video_link:\n",
    "            video_tags.append(f'<video src=\"{video_link}\" controls width=\"300\"></video>')\n",
    "    \n",
    "    return HTML(\" \".join(video_tags))\n",
    "\n",
    "# Configuration: choose 't1', 't2', or 't3'\n",
    "\n",
    "def visualize(csv_file):\n",
    "\n",
    "    match = 0   \n",
    "    df = pd.read_csv(csv_file)\n",
    "\n",
    "    # Filter out rows where \"Task Data\" is None or NaN\n",
    "    df_filtered = df[df['Task Data'].notna()]\n",
    "\n",
    "    # Display each video (or videos) based on configuration along with reference text and metrics\n",
    "    for index, row in df_filtered.iterrows():\n",
    "        videos, dif = get_videos_and_reference(row['Task Data'])\n",
    "        \n",
    "        print(\"Difficulty Automatic:\\n\", dif)\n",
    "        \n",
    "        # Display the videos side by side\n",
    "        display(display_videos(videos))\n",
    "        \n",
    "        # Get and print the corresponding metrics\n",
    "        metrics_info, unpred_mapped = get_metrics(row['Submitted Data'])\n",
    "        print(\"Metrics:\\n\", metrics_info)\n",
    "        print(\"\\n\" + \"=\"*50 + \"\\n\")\n",
    "\n",
    "        if dif == unpred_mapped:\n",
    "            match += 1\n",
    "\n",
    "    print(\"Difficulty match with human\", match)\n",
    "    calculate_metric_distribution(df_filtered)"
   ]
  },
  {
   "cell_type": "markdown",
   "metadata": {},
   "source": [
    "###  Plot"
   ]
  },
  {
   "cell_type": "code",
   "execution_count": 6,
   "metadata": {},
   "outputs": [
    {
     "name": "stdout",
     "output_type": "stream",
     "text": [
      "Difficulty Automatic:\n",
      " easy\n"
     ]
    },
    {
     "data": {
      "text/html": [
       "<video src=\"https://ubc-cv-sherlock.s3.us-west-2.amazonaws.com/oops/oops_val_v7_merged/1943_E_merged.mp4\" controls width=\"300\"></video>"
      ],
      "text/plain": [
       "<IPython.core.display.HTML object>"
      ]
     },
     "metadata": {},
     "output_type": "display_data"
    },
    {
     "name": "stdout",
     "output_type": "stream",
     "text": [
      "Metrics:\n",
      " Unpredictability Score: 5\n",
      "Clarity Score: 2\n",
      "Complexity Score: 2\n",
      "Events Score: 1\n",
      "\n",
      "==================================================\n",
      "\n",
      "Difficulty Automatic:\n",
      " easy\n"
     ]
    },
    {
     "data": {
      "text/html": [
       "<video src=\"https://ubc-cv-sherlock.s3.us-west-2.amazonaws.com/oops/oops_val_v8_merged/2636_E_merged.mp4\" controls width=\"300\"></video>"
      ],
      "text/plain": [
       "<IPython.core.display.HTML object>"
      ]
     },
     "metadata": {},
     "output_type": "display_data"
    },
    {
     "name": "stdout",
     "output_type": "stream",
     "text": [
      "Metrics:\n",
      " Unpredictability Score: 3\n",
      "Clarity Score: 5\n",
      "Complexity Score: 2\n",
      "Events Score: 3\n",
      "\n",
      "==================================================\n",
      "\n",
      "Difficulty Automatic:\n",
      " easy\n"
     ]
    },
    {
     "data": {
      "text/html": [
       "<video src=\"https://ubc-cv-sherlock.s3.us-west-2.amazonaws.com/oops/oops_val_v10_merged/3643_E_merged.mp4\" controls width=\"300\"></video>"
      ],
      "text/plain": [
       "<IPython.core.display.HTML object>"
      ]
     },
     "metadata": {},
     "output_type": "display_data"
    },
    {
     "name": "stdout",
     "output_type": "stream",
     "text": [
      "Metrics:\n",
      " Unpredictability Score: 4\n",
      "Clarity Score: 5\n",
      "Complexity Score: 2\n",
      "Events Score: 2\n",
      "\n",
      "==================================================\n",
      "\n",
      "Difficulty Automatic:\n",
      " easy\n"
     ]
    },
    {
     "data": {
      "text/html": [
       "<video src=\"https://ubc-cv-sherlock.s3.us-west-2.amazonaws.com/oops/oops_val_v8_merged/2864_E_merged.mp4\" controls width=\"300\"></video>"
      ],
      "text/plain": [
       "<IPython.core.display.HTML object>"
      ]
     },
     "metadata": {},
     "output_type": "display_data"
    },
    {
     "name": "stdout",
     "output_type": "stream",
     "text": [
      "Metrics:\n",
      " Unpredictability Score: 3\n",
      "Clarity Score: 5\n",
      "Complexity Score: 2\n",
      "Events Score: 1\n",
      "\n",
      "==================================================\n",
      "\n",
      "Difficulty Automatic:\n",
      " easy\n"
     ]
    },
    {
     "data": {
      "text/html": [
       "<video src=\"https://ubc-cv-sherlock.s3.us-west-2.amazonaws.com/oops/oops_val_v10_merged/3844_E_merged.mp4\" controls width=\"300\"></video>"
      ],
      "text/plain": [
       "<IPython.core.display.HTML object>"
      ]
     },
     "metadata": {},
     "output_type": "display_data"
    },
    {
     "name": "stdout",
     "output_type": "stream",
     "text": [
      "Metrics:\n",
      " Unpredictability Score: 5\n",
      "Clarity Score: 5\n",
      "Complexity Score: 1\n",
      "Events Score: 3\n",
      "\n",
      "==================================================\n",
      "\n",
      "Difficulty Automatic:\n",
      " easy\n"
     ]
    },
    {
     "data": {
      "text/html": [
       "<video src=\"https://ubc-cv-sherlock.s3.us-west-2.amazonaws.com/oops/oops_val_v11_merged/4209_E_merged.mp4\" controls width=\"300\"></video>"
      ],
      "text/plain": [
       "<IPython.core.display.HTML object>"
      ]
     },
     "metadata": {},
     "output_type": "display_data"
    },
    {
     "name": "stdout",
     "output_type": "stream",
     "text": [
      "Metrics:\n",
      " Unpredictability Score: 4\n",
      "Clarity Score: 4\n",
      "Complexity Score: 2\n",
      "Events Score: 2\n",
      "\n",
      "==================================================\n",
      "\n",
      "Difficulty Automatic:\n",
      " easy\n"
     ]
    },
    {
     "data": {
      "text/html": [
       "<video src=\"https://ubc-cv-sherlock.s3.us-west-2.amazonaws.com/oops/oops_val_v6_merged/1730_E_merged.mp4\" controls width=\"300\"></video>"
      ],
      "text/plain": [
       "<IPython.core.display.HTML object>"
      ]
     },
     "metadata": {},
     "output_type": "display_data"
    },
    {
     "name": "stdout",
     "output_type": "stream",
     "text": [
      "Metrics:\n",
      " Unpredictability Score: 4\n",
      "Clarity Score: 5\n",
      "Complexity Score: 2\n",
      "Events Score: 4\n",
      "\n",
      "==================================================\n",
      "\n",
      "Difficulty Automatic:\n",
      " easy\n"
     ]
    },
    {
     "data": {
      "text/html": [
       "<video src=\"https://ubc-cv-sherlock.s3.us-west-2.amazonaws.com/oops/oops_val_v6_merged/1160_E_merged.mp4\" controls width=\"300\"></video>"
      ],
      "text/plain": [
       "<IPython.core.display.HTML object>"
      ]
     },
     "metadata": {},
     "output_type": "display_data"
    },
    {
     "name": "stdout",
     "output_type": "stream",
     "text": [
      "Metrics:\n",
      " Unpredictability Score: 1\n",
      "Clarity Score: 5\n",
      "Complexity Score: 3\n",
      "Events Score: 3\n",
      "\n",
      "==================================================\n",
      "\n",
      "Difficulty Automatic:\n",
      " easy\n"
     ]
    },
    {
     "data": {
      "text/html": [
       "<video src=\"https://ubc-cv-sherlock.s3.us-west-2.amazonaws.com/oops/oops_val_v9_merged/3423_E_merged.mp4\" controls width=\"300\"></video>"
      ],
      "text/plain": [
       "<IPython.core.display.HTML object>"
      ]
     },
     "metadata": {},
     "output_type": "display_data"
    },
    {
     "name": "stdout",
     "output_type": "stream",
     "text": [
      "Metrics:\n",
      " Unpredictability Score: 3\n",
      "Clarity Score: 5\n",
      "Complexity Score: 1\n",
      "Events Score: 1\n",
      "\n",
      "==================================================\n",
      "\n",
      "Difficulty Automatic:\n",
      " medium\n"
     ]
    },
    {
     "data": {
      "text/html": [
       "<video src=\"https://ubc-cv-sherlock.s3.us-west-2.amazonaws.com/oops/oops_val_v11_merged/4216_E_merged.mp4\" controls width=\"300\"></video>"
      ],
      "text/plain": [
       "<IPython.core.display.HTML object>"
      ]
     },
     "metadata": {},
     "output_type": "display_data"
    },
    {
     "name": "stdout",
     "output_type": "stream",
     "text": [
      "Metrics:\n",
      " Unpredictability Score: 5\n",
      "Clarity Score: 4\n",
      "Complexity Score: 4\n",
      "Events Score: 2\n",
      "\n",
      "==================================================\n",
      "\n",
      "Difficulty Automatic:\n",
      " medium\n"
     ]
    },
    {
     "data": {
      "text/html": [
       "<video src=\"https://ubc-cv-sherlock.s3.us-west-2.amazonaws.com/oops/oops_val_v8_merged/2771_E_merged.mp4\" controls width=\"300\"></video>"
      ],
      "text/plain": [
       "<IPython.core.display.HTML object>"
      ]
     },
     "metadata": {},
     "output_type": "display_data"
    },
    {
     "name": "stdout",
     "output_type": "stream",
     "text": [
      "Metrics:\n",
      " Unpredictability Score: 2\n",
      "Clarity Score: 4\n",
      "Complexity Score: 1\n",
      "Events Score: 1\n",
      "\n",
      "==================================================\n",
      "\n",
      "Difficulty Automatic:\n",
      " medium\n"
     ]
    },
    {
     "data": {
      "text/html": [
       "<video src=\"https://ubc-cv-sherlock.s3.us-west-2.amazonaws.com/oops/oops_val_v8_merged/2836_E_merged.mp4\" controls width=\"300\"></video>"
      ],
      "text/plain": [
       "<IPython.core.display.HTML object>"
      ]
     },
     "metadata": {},
     "output_type": "display_data"
    },
    {
     "name": "stdout",
     "output_type": "stream",
     "text": [
      "Metrics:\n",
      " Unpredictability Score: 4\n",
      "Clarity Score: 5\n",
      "Complexity Score: 2\n",
      "Events Score: 2\n",
      "\n",
      "==================================================\n",
      "\n",
      "Difficulty Automatic:\n",
      " medium\n"
     ]
    },
    {
     "data": {
      "text/html": [
       "<video src=\"https://ubc-cv-sherlock.s3.us-west-2.amazonaws.com/oops/oops_val_v10_merged/3938_E_merged.mp4\" controls width=\"300\"></video>"
      ],
      "text/plain": [
       "<IPython.core.display.HTML object>"
      ]
     },
     "metadata": {},
     "output_type": "display_data"
    },
    {
     "name": "stdout",
     "output_type": "stream",
     "text": [
      "Metrics:\n",
      " Unpredictability Score: 3\n",
      "Clarity Score: 5\n",
      "Complexity Score: 2\n",
      "Events Score: 2\n",
      "\n",
      "==================================================\n",
      "\n",
      "Difficulty Automatic:\n",
      " medium\n"
     ]
    },
    {
     "data": {
      "text/html": [
       "<video src=\"https://ubc-cv-sherlock.s3.us-west-2.amazonaws.com/oops/oops_val_v9_merged/3158_E_merged.mp4\" controls width=\"300\"></video>"
      ],
      "text/plain": [
       "<IPython.core.display.HTML object>"
      ]
     },
     "metadata": {},
     "output_type": "display_data"
    },
    {
     "name": "stdout",
     "output_type": "stream",
     "text": [
      "Metrics:\n",
      " Unpredictability Score: 4\n",
      "Clarity Score: 5\n",
      "Complexity Score: 1\n",
      "Events Score: 1\n",
      "\n",
      "==================================================\n",
      "\n",
      "Difficulty Automatic:\n",
      " medium\n"
     ]
    },
    {
     "data": {
      "text/html": [
       "<video src=\"https://ubc-cv-sherlock.s3.us-west-2.amazonaws.com/oops/oops_val_v10_merged/3956_E_merged.mp4\" controls width=\"300\"></video>"
      ],
      "text/plain": [
       "<IPython.core.display.HTML object>"
      ]
     },
     "metadata": {},
     "output_type": "display_data"
    },
    {
     "name": "stdout",
     "output_type": "stream",
     "text": [
      "Metrics:\n",
      " Unpredictability Score: 2\n",
      "Clarity Score: 4\n",
      "Complexity Score: 2\n",
      "Events Score: 4\n",
      "\n",
      "==================================================\n",
      "\n",
      "Difficulty Automatic:\n",
      " easy\n"
     ]
    },
    {
     "data": {
      "text/html": [
       "<video src=\"https://ubc-cv-sherlock.s3.us-west-2.amazonaws.com/oops/oops_val_v8_merged/2768_E_merged.mp4\" controls width=\"300\"></video>"
      ],
      "text/plain": [
       "<IPython.core.display.HTML object>"
      ]
     },
     "metadata": {},
     "output_type": "display_data"
    },
    {
     "name": "stdout",
     "output_type": "stream",
     "text": [
      "Metrics:\n",
      " Unpredictability Score: 4\n",
      "Clarity Score: 2\n",
      "Complexity Score: 4\n",
      "Events Score: 2\n",
      "\n",
      "==================================================\n",
      "\n",
      "Difficulty Automatic:\n",
      " medium\n"
     ]
    },
    {
     "data": {
      "text/html": [
       "<video src=\"https://ubc-cv-sherlock.s3.us-west-2.amazonaws.com/oops/oops_val_v6_merged/1517_E_merged.mp4\" controls width=\"300\"></video>"
      ],
      "text/plain": [
       "<IPython.core.display.HTML object>"
      ]
     },
     "metadata": {},
     "output_type": "display_data"
    },
    {
     "name": "stdout",
     "output_type": "stream",
     "text": [
      "Metrics:\n",
      " Unpredictability Score: 4\n",
      "Clarity Score: 4\n",
      "Complexity Score: 4\n",
      "Events Score: 2\n",
      "\n",
      "==================================================\n",
      "\n",
      "Difficulty Automatic:\n",
      " medium\n"
     ]
    },
    {
     "data": {
      "text/html": [
       "<video src=\"https://ubc-cv-sherlock.s3.us-west-2.amazonaws.com/oops/oops_val_v6_merged/1161_E_merged.mp4\" controls width=\"300\"></video>"
      ],
      "text/plain": [
       "<IPython.core.display.HTML object>"
      ]
     },
     "metadata": {},
     "output_type": "display_data"
    },
    {
     "name": "stdout",
     "output_type": "stream",
     "text": [
      "Metrics:\n",
      " Unpredictability Score: 4\n",
      "Clarity Score: 3\n",
      "Complexity Score: 3\n",
      "Events Score: 2\n",
      "\n",
      "==================================================\n",
      "\n",
      "Difficulty Automatic:\n",
      " medium\n"
     ]
    },
    {
     "data": {
      "text/html": [
       "<video src=\"https://ubc-cv-sherlock.s3.us-west-2.amazonaws.com/oops/oops_val_v6_merged/1687_E_merged.mp4\" controls width=\"300\"></video>"
      ],
      "text/plain": [
       "<IPython.core.display.HTML object>"
      ]
     },
     "metadata": {},
     "output_type": "display_data"
    },
    {
     "name": "stdout",
     "output_type": "stream",
     "text": [
      "Metrics:\n",
      " Unpredictability Score: 3\n",
      "Clarity Score: 4\n",
      "Complexity Score: 2\n",
      "Events Score: 2\n",
      "\n",
      "==================================================\n",
      "\n",
      "Difficulty Automatic:\n",
      " medium\n"
     ]
    },
    {
     "data": {
      "text/html": [
       "<video src=\"https://ubc-cv-sherlock.s3.us-west-2.amazonaws.com/oops/oops_val_v9_merged/3247_E_merged.mp4\" controls width=\"300\"></video>"
      ],
      "text/plain": [
       "<IPython.core.display.HTML object>"
      ]
     },
     "metadata": {},
     "output_type": "display_data"
    },
    {
     "name": "stdout",
     "output_type": "stream",
     "text": [
      "Metrics:\n",
      " Unpredictability Score: 2\n",
      "Clarity Score: 5\n",
      "Complexity Score: 4\n",
      "Events Score: 2\n",
      "\n",
      "==================================================\n",
      "\n",
      "Difficulty Automatic:\n",
      " hard\n"
     ]
    },
    {
     "data": {
      "text/html": [
       "<video src=\"https://ubc-cv-sherlock.s3.us-west-2.amazonaws.com/oops/oops_val_v7_merged/1828_E_merged.mp4\" controls width=\"300\"></video>"
      ],
      "text/plain": [
       "<IPython.core.display.HTML object>"
      ]
     },
     "metadata": {},
     "output_type": "display_data"
    },
    {
     "name": "stdout",
     "output_type": "stream",
     "text": [
      "Metrics:\n",
      " Unpredictability Score: 4\n",
      "Clarity Score: 4\n",
      "Complexity Score: 2\n",
      "Events Score: 2\n",
      "\n",
      "==================================================\n",
      "\n",
      "Difficulty Automatic:\n",
      " hard\n"
     ]
    },
    {
     "data": {
      "text/html": [
       "<video src=\"https://ubc-cv-sherlock.s3.us-west-2.amazonaws.com/oops/oops_val_v9_merged/3227_E_merged.mp4\" controls width=\"300\"></video>"
      ],
      "text/plain": [
       "<IPython.core.display.HTML object>"
      ]
     },
     "metadata": {},
     "output_type": "display_data"
    },
    {
     "name": "stdout",
     "output_type": "stream",
     "text": [
      "Metrics:\n",
      " Unpredictability Score: 4\n",
      "Clarity Score: 3\n",
      "Complexity Score: 3\n",
      "Events Score: 4\n",
      "\n",
      "==================================================\n",
      "\n",
      "Difficulty Automatic:\n",
      " hard\n"
     ]
    },
    {
     "data": {
      "text/html": [
       "<video src=\"https://ubc-cv-sherlock.s3.us-west-2.amazonaws.com/oops/oops_val_v7_merged/2419_E_merged.mp4\" controls width=\"300\"></video>"
      ],
      "text/plain": [
       "<IPython.core.display.HTML object>"
      ]
     },
     "metadata": {},
     "output_type": "display_data"
    },
    {
     "name": "stdout",
     "output_type": "stream",
     "text": [
      "Metrics:\n",
      " Unpredictability Score: 2\n",
      "Clarity Score: 1\n",
      "Complexity Score: 2\n",
      "Events Score: 1\n",
      "\n",
      "==================================================\n",
      "\n",
      "Difficulty Automatic:\n",
      " hard\n"
     ]
    },
    {
     "data": {
      "text/html": [
       "<video src=\"https://ubc-cv-sherlock.s3.us-west-2.amazonaws.com/oops/oops_val_v6_merged/1534_E_merged.mp4\" controls width=\"300\"></video>"
      ],
      "text/plain": [
       "<IPython.core.display.HTML object>"
      ]
     },
     "metadata": {},
     "output_type": "display_data"
    },
    {
     "name": "stdout",
     "output_type": "stream",
     "text": [
      "Metrics:\n",
      " Unpredictability Score: 2\n",
      "Clarity Score: 4\n",
      "Complexity Score: 2\n",
      "Events Score: 2\n",
      "\n",
      "==================================================\n",
      "\n",
      "Difficulty Automatic:\n",
      " hard\n"
     ]
    },
    {
     "data": {
      "text/html": [
       "<video src=\"https://ubc-cv-sherlock.s3.us-west-2.amazonaws.com/oops/oops_val_v9_merged/3448_E_merged.mp4\" controls width=\"300\"></video>"
      ],
      "text/plain": [
       "<IPython.core.display.HTML object>"
      ]
     },
     "metadata": {},
     "output_type": "display_data"
    },
    {
     "name": "stdout",
     "output_type": "stream",
     "text": [
      "Metrics:\n",
      " Unpredictability Score: 4\n",
      "Clarity Score: 4\n",
      "Complexity Score: 2\n",
      "Events Score: 4\n",
      "\n",
      "==================================================\n",
      "\n",
      "Difficulty Automatic:\n",
      " hard\n"
     ]
    },
    {
     "data": {
      "text/html": [
       "<video src=\"https://ubc-cv-sherlock.s3.us-west-2.amazonaws.com/oops/oops_val_v7_merged/2248_E_merged.mp4\" controls width=\"300\"></video>"
      ],
      "text/plain": [
       "<IPython.core.display.HTML object>"
      ]
     },
     "metadata": {},
     "output_type": "display_data"
    },
    {
     "name": "stdout",
     "output_type": "stream",
     "text": [
      "Metrics:\n",
      " Unpredictability Score: 5\n",
      "Clarity Score: 5\n",
      "Complexity Score: 5\n",
      "Events Score: 5\n",
      "\n",
      "==================================================\n",
      "\n",
      "Difficulty Automatic:\n",
      " hard\n"
     ]
    },
    {
     "data": {
      "text/html": [
       "<video src=\"https://ubc-cv-sherlock.s3.us-west-2.amazonaws.com/oops/oops_val_v8_merged/2757_E_merged.mp4\" controls width=\"300\"></video>"
      ],
      "text/plain": [
       "<IPython.core.display.HTML object>"
      ]
     },
     "metadata": {},
     "output_type": "display_data"
    },
    {
     "name": "stdout",
     "output_type": "stream",
     "text": [
      "Metrics:\n",
      " Unpredictability Score: 2\n",
      "Clarity Score: 4\n",
      "Complexity Score: 2\n",
      "Events Score: 1\n",
      "\n",
      "==================================================\n",
      "\n",
      "Difficulty Automatic:\n",
      " hard\n"
     ]
    },
    {
     "data": {
      "text/html": [
       "<video src=\"https://ubc-cv-sherlock.s3.us-west-2.amazonaws.com/oops/oops_val_v11_merged/4089_E_merged.mp4\" controls width=\"300\"></video>"
      ],
      "text/plain": [
       "<IPython.core.display.HTML object>"
      ]
     },
     "metadata": {},
     "output_type": "display_data"
    },
    {
     "name": "stdout",
     "output_type": "stream",
     "text": [
      "Metrics:\n",
      " Unpredictability Score: 1\n",
      "Clarity Score: 3\n",
      "Complexity Score: 2\n",
      "Events Score: 1\n",
      "\n",
      "==================================================\n",
      "\n",
      "Difficulty Automatic:\n",
      " hard\n"
     ]
    },
    {
     "data": {
      "text/html": [
       "<video src=\"https://ubc-cv-sherlock.s3.us-west-2.amazonaws.com/oops/oops_val_v10_merged/3821_E_merged.mp4\" controls width=\"300\"></video>"
      ],
      "text/plain": [
       "<IPython.core.display.HTML object>"
      ]
     },
     "metadata": {},
     "output_type": "display_data"
    },
    {
     "name": "stdout",
     "output_type": "stream",
     "text": [
      "Metrics:\n",
      " Unpredictability Score: 3\n",
      "Clarity Score: 5\n",
      "Complexity Score: 3\n",
      "Events Score: 1\n",
      "\n",
      "==================================================\n",
      "\n",
      "Difficulty Automatic:\n",
      " hard\n"
     ]
    },
    {
     "data": {
      "text/html": [
       "<video src=\"https://ubc-cv-sherlock.s3.us-west-2.amazonaws.com/oops/oops_val_v7_merged/2202_E_merged.mp4\" controls width=\"300\"></video>"
      ],
      "text/plain": [
       "<IPython.core.display.HTML object>"
      ]
     },
     "metadata": {},
     "output_type": "display_data"
    },
    {
     "name": "stdout",
     "output_type": "stream",
     "text": [
      "Metrics:\n",
      " Unpredictability Score: 2\n",
      "Clarity Score: 4\n",
      "Complexity Score: 2\n",
      "Events Score: 2\n",
      "\n",
      "==================================================\n",
      "\n",
      "Difficulty match with human 10\n"
     ]
    },
    {
     "data": {
      "image/png": "[encoded data removed]",
      "text/plain": [
       "<Figure size 1200x800 with 4 Axes>"
      ]
     },
     "metadata": {},
     "output_type": "display_data"
    },
    {
     "name": "stdout",
     "output_type": "stream",
     "text": [
      "Average Unpredictability Score: 3.27\n",
      "Average Clarity Score: 4.10\n",
      "Average Complexity Score: 2.37\n",
      "Average Events Score: 2.17\n"
     ]
    }
   ],
   "source": [
    "\n",
    "visualize(csv_file=file_path)"
   ]
  }
 ],
 "metadata": {
  "kernelspec": {
   "display_name": "var",
   "language": "python",
   "name": "python3"
  },
  "language_info": {
   "codemirror_mode": {
    "name": "ipython",
    "version": 3
   },
   "file_extension": ".py",
   "mimetype": "text/x-python",
   "name": "python",
   "nbconvert_exporter": "python",
   "pygments_lexer": "ipython3",
   "version": "3.10.0"
  }
 },
 "nbformat": 4,
 "nbformat_minor": 2
}
