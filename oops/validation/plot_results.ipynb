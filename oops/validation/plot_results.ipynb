{
 "cells": [
  {
   "cell_type": "markdown",
   "metadata": {},
   "source": [
    "### Common Visualization functions for all tasks"
   ]
  },
  {
   "cell_type": "code",
   "execution_count": 8,
   "metadata": {},
   "outputs": [],
   "source": [
    "t1_path = \"/h/sahiravi/VAR/t1_humaneval_v2.csv\"\n",
    "t2_path = \"/h/sahiravi/VAR/t2_humaneval_v2.csv\"\n",
    "t3_path = \"/h/sahiravi/VAR/t3_humaneval_v2.csv\""
   ]
  },
  {
   "cell_type": "code",
   "execution_count": 12,
   "metadata": {},
   "outputs": [],
   "source": [
    "import pandas as pd\n",
    "import ast\n",
    "import matplotlib.pyplot as plt\n",
    "from IPython.display import display, Video, HTML\n",
    "import seaborn as sns\n",
    "\n",
    "# Function to find the distribution of the four metrics\n",
    "def calculate_metric_distribution(df, task_prefix):\n",
    "    metrics = ['vis', 'depth', 'grammar', 'correctness', 'detail']\n",
    "    metric_counts = {metric: [] for metric in metrics}\n",
    "    \n",
    "    # Collect scores from the dataset\n",
    "    for index, row in df.iterrows():\n",
    "        submitted_data_dict = ast.literal_eval(row['Submitted Data'])\n",
    "        task_data = submitted_data_dict.get(\"Data\", {}).get(\"taskData\", {})\n",
    "        \n",
    "        for metric in metrics:\n",
    "            score = task_data.get(f\"{task_prefix}_{metric}\", None)\n",
    "            if score is not None:\n",
    "                metric_counts[metric].append(int(score))\n",
    "    \n",
    "    # Plot distribution for each metric with percentages on bars\n",
    "    fig, axes = plt.subplots(2, 3, figsize=(12, 8))\n",
    "    axes = axes.flatten()\n",
    "    \n",
    "    for i, metric in enumerate(metrics):\n",
    "        metric_data = metric_counts[metric]\n",
    "        \n",
    "        if len(metric_data) > 0:\n",
    "            ax = sns.histplot(metric_data, bins=5, ax=axes[i], kde=False, stat='percent', color='skyblue')\n",
    "            axes[i].set_title(f'Distribution of {metric.capitalize()} Scores')\n",
    "            axes[i].set_xlabel('Score')\n",
    "            axes[i].set_ylabel('Percentage')\n",
    "\n",
    "            # Add percentages on top of the bars\n",
    "            total = len(metric_data)\n",
    "            for p in ax.patches:\n",
    "                percentage = f'{(p.get_height()):.1f}%'\n",
    "                ax.annotate(percentage, \n",
    "                            (p.get_x() + p.get_width() / 2., p.get_height()), \n",
    "                            ha='center', va='center', xytext=(0, 9), \n",
    "                            textcoords='offset points', fontsize=10, color='black')\n",
    "        else:\n",
    "            axes[i].set_title(f'No Data for {metric.capitalize()}')\n",
    "    \n",
    "    plt.tight_layout()\n",
    "    plt.show()\n",
    "    \n",
    "    # Calculate and display the average score for each metric\n",
    "    for metric in metrics:\n",
    "        if len(metric_counts[metric]) > 0:\n",
    "            avg_score = sum(metric_counts[metric]) / len(metric_counts[metric])\n",
    "            print(f\"Average {metric.capitalize()} Score: {avg_score:.2f}\")\n",
    "        else:\n",
    "            print(f\"No data available for {metric.capitalize()}.\")\n",
    "\n",
    "# Function to parse \"Task Data\" and extract video links based on headers\n",
    "def get_videos_and_reference(task_data, headers):\n",
    "    task_data_dict = ast.literal_eval(task_data)\n",
    "    row_data = task_data_dict.get(\"RowData\", [])\n",
    "    \n",
    "    videos = {}\n",
    "    reference_text = None\n",
    "    \n",
    "    # Extract the video URLs and reference text\n",
    "    for item in row_data:\n",
    "        column_header = item['ColumnHeader']\n",
    "        if column_header in headers:\n",
    "            videos[column_header] = item['CellData']\n",
    "        if column_header == 'reference_text':\n",
    "            reference_text = item['CellData']\n",
    "    \n",
    "    # Combine base URL and video names for each header\n",
    "    base_url = next((item['CellData'] for item in row_data if item['ColumnHeader'] == 'videos_url'), None)\n",
    "    for header in headers:\n",
    "        if header in videos:\n",
    "            videos[header] = f\"{base_url}{videos[header]}\"\n",
    "        else:\n",
    "            videos[header] = None\n",
    "    \n",
    "    return videos, reference_text\n",
    "\n",
    "# Function to extract metrics based on the task configuration (t1, t2, t3)\n",
    "def get_metrics(submitted_data, task_prefix):\n",
    "    submitted_data_dict = ast.literal_eval(submitted_data)\n",
    "    task_data = submitted_data_dict.get(\"Data\", {}).get(\"taskData\", {})\n",
    "    \n",
    "    metrics = ['correctness', 'depth','grammar', 'vis', 'detail']\n",
    "    metrics_info = []\n",
    "    \n",
    "    # Gather each metric score and its corresponding reason\n",
    "    for metric in metrics:\n",
    "        score = task_data.get(f\"{task_prefix}_{metric}\", \"N/A\")\n",
    "        reason = task_data.get(f\"{metric}Reason\", \"N/A\")\n",
    "        metrics_info.append(f\"{metric.capitalize()} Score: {score}\")\n",
    "        metrics_info.append(f\"{metric.capitalize()} Reason: {reason}\")\n",
    "    \n",
    "    return \"\\n\".join(metrics_info)\n",
    "\n",
    "# Function to display videos side by side\n",
    "def display_videos(videos_dict):\n",
    "    video_tags = []\n",
    "    for header, video_link in videos_dict.items():\n",
    "        if video_link:\n",
    "            video_tags.append(f'<video src=\"{video_link}\" controls width=\"300\"></video>')\n",
    "    \n",
    "    return HTML(\" \".join(video_tags))\n",
    "\n",
    "# Configuration: choose 't1', 't2', or 't3'\n",
    "\n",
    "def visualize(task_config, csv_file):\n",
    "    df = pd.read_csv(csv_file)\n",
    "\n",
    "    # Filter out rows where \"Task Data\" is None or NaN\n",
    "    df_filtered = df[df['Task Data'].notna()]\n",
    "    # Task header configuration\n",
    "    task_headers_map = {\n",
    "        't1': ['preevent'],\n",
    "        't2': ['preevent', 'postevent'],\n",
    "        't3': ['preevent', 'event', 'postevent']\n",
    "    }\n",
    "\n",
    "    # Display each video (or videos) based on configuration along with reference text and metrics\n",
    "    for index, row in df_filtered.iterrows():\n",
    "        headers = task_headers_map[task_config]\n",
    "        videos, reference_text = get_videos_and_reference(row['Task Data'], headers)\n",
    "        \n",
    "        # Display the reference text\n",
    "        print(f\"Text Description {index}: {reference_text}\")\n",
    "        \n",
    "        # Display the videos side by side\n",
    "        display(display_videos(videos))\n",
    "        \n",
    "        # Get and print the corresponding metrics\n",
    "        metrics_info = get_metrics(row['Submitted Data'], task_config)\n",
    "        print(\"Metrics:\\n\", metrics_info)\n",
    "        print(\"\\n\" + \"=\"*50 + \"\\n\")\n",
    "\n",
    "    calculate_metric_distribution(df_filtered, task_config)"
   ]
  },
  {
   "cell_type": "markdown",
   "metadata": {},
   "source": [
    "### Task 1 Plot"
   ]
  },
  {
   "cell_type": "code",
   "execution_count": 13,
   "metadata": {},
   "outputs": [
    {
     "name": "stdout",
     "output_type": "stream",
     "text": [
      "Text Description 0: The woman in the white shirt is seen swimming to the edge of the river after falling in the water.\n"
     ]
    },
    {
     "data": {
      "text/html": [
       "<video src=\"https://ubc-cv-sherlock.s3.us-west-2.amazonaws.com/oops/oops_val_v9/3303_A_preevent.mp4\" controls width=\"300\"></video>"
      ],
      "text/plain": [
       "<IPython.core.display.HTML object>"
      ]
     },
     "metadata": {},
     "output_type": "display_data"
    },
    {
     "name": "stdout",
     "output_type": "stream",
     "text": [
      "Metrics:\n",
      " Correctness Score: 2\n",
      "Correctness Reason: Part 2 is more likely to be the blonde haired woman in the white shirt falling from the swing into the water.\n",
      "Depth Score: 2\n",
      "Depth Reason: Prediction is probably wrong and the description does not capture the spirit of the action.\n",
      "Grammar Score: 1\n",
      "Grammar Reason: There are no grammar or spelling errors.\n",
      "Vis Score: 1\n",
      "Vis Reason: It seems to contradict what is about to happen.\n",
      "Detail Score: 2\n",
      "Detail Reason: There is very little detail.\n",
      "\n",
      "==================================================\n",
      "\n",
      "Text Description 1: The woman cheers as she successfully reaches the other side by hanging onto the swinging rope.\n"
     ]
    },
    {
     "data": {
      "text/html": [
       "<video src=\"https://ubc-cv-sherlock.s3.us-west-2.amazonaws.com/oops/oops_val_v9/3303_A_preevent.mp4\" controls width=\"300\"></video>"
      ],
      "text/plain": [
       "<IPython.core.display.HTML object>"
      ]
     },
     "metadata": {},
     "output_type": "display_data"
    },
    {
     "name": "stdout",
     "output_type": "stream",
     "text": [
      "Metrics:\n",
      " Correctness Score: 4\n",
      "Correctness Reason: Mostly correct but lacks clear mention of balance or specific consequences.\n",
      "Depth Score: 3\n",
      "Depth Reason: Provides some thought but lacks depth or meaningful insight.\n",
      "Grammar Score: 1\n",
      "Grammar Reason: there are no grammatical errors \n",
      "Vis Score: 1\n",
      "Vis Reason: the descriptive  follows what was happening in the video\n",
      "Detail Score: 4\n",
      "Detail Reason: has enough level of detail to differentiate between the woman and the tree\n",
      "\n",
      "==================================================\n",
      "\n",
      "Text Description 3: Black and red players collide at midfield, once gets hurt\n"
     ]
    },
    {
     "data": {
      "text/html": [
       "<video src=\"https://ubc-cv-sherlock.s3.us-west-2.amazonaws.com/oops/oops_val_v9/3310_A_preevent.mp4\" controls width=\"300\"></video>"
      ],
      "text/plain": [
       "<IPython.core.display.HTML object>"
      ]
     },
     "metadata": {},
     "output_type": "display_data"
    },
    {
     "name": "stdout",
     "output_type": "stream",
     "text": [
      "Metrics:\n",
      " Correctness Score: 2\n",
      "Correctness Reason: they collide but not in the mid field area\n",
      "Depth Score: 4\n",
      "Depth Reason: they were in motion so they would obviously collide\n",
      "Grammar Score: 1\n",
      "Grammar Reason: it had correct grammar\n",
      "Vis Score: 1\n",
      "Vis Reason: they would obviously collide\n",
      "Detail Score: 4\n",
      "Detail Reason: more detailed\n",
      "\n",
      "==================================================\n",
      "\n",
      "Text Description 6: Black player closest to ball falls on her face and gets embarrassed\n"
     ]
    },
    {
     "data": {
      "text/html": [
       "<video src=\"https://ubc-cv-sherlock.s3.us-west-2.amazonaws.com/oops/oops_val_v9/3310_A_preevent.mp4\" controls width=\"300\"></video>"
      ],
      "text/plain": [
       "<IPython.core.display.HTML object>"
      ]
     },
     "metadata": {},
     "output_type": "display_data"
    },
    {
     "name": "stdout",
     "output_type": "stream",
     "text": [
      "Metrics:\n",
      " Correctness Score: 5\n",
      "Correctness Reason: There is in fact a player in black near the ball, and she could fall on her face\n",
      "Depth Score: 3\n",
      "Depth Reason: Has detail, but doesn't say how the player falls \n",
      "Grammar Score: 1\n",
      "Grammar Reason: Incomplete sentence, but instructions don't say that's bad, and everything else is grammatically correct \n",
      "Vis Score: 1\n",
      "Vis Reason: Again, there is in fact a player in black near the ball, and she could fall \n",
      "Detail Score: 5\n",
      "Detail Reason: Sufficient detail to identify who will fall\n",
      "\n",
      "==================================================\n",
      "\n",
      "Text Description 10: Red Defender clears the ball away to safety\n"
     ]
    },
    {
     "data": {
      "text/html": [
       "<video src=\"https://ubc-cv-sherlock.s3.us-west-2.amazonaws.com/oops/oops_val_v9/3310_A_preevent.mp4\" controls width=\"300\"></video>"
      ],
      "text/plain": [
       "<IPython.core.display.HTML object>"
      ]
     },
     "metadata": {},
     "output_type": "display_data"
    },
    {
     "name": "stdout",
     "output_type": "stream",
     "text": [
      "Metrics:\n",
      " Correctness Score: 1\n",
      "Correctness Reason: It wasn't very descriptive. It was very simple. \n",
      "Depth Score: 1\n",
      "Depth Reason: Wasnt that much depth.\n",
      "Grammar Score: 1\n",
      "Grammar Reason: It was ok written.\n",
      "Vis Score: 1\n",
      "Vis Reason: It follows the description.\n",
      "Detail Score: 1\n",
      "Detail Reason: Not alot of detail. \n",
      "\n",
      "==================================================\n",
      "\n",
      "Text Description 12: The woman has fallen into the water and her friend jumps in after her to save her.\n"
     ]
    },
    {
     "data": {
      "text/html": [
       "<video src=\"https://ubc-cv-sherlock.s3.us-west-2.amazonaws.com/oops/oops_val_v9/3303_A_preevent.mp4\" controls width=\"300\"></video>"
      ],
      "text/plain": [
       "<IPython.core.display.HTML object>"
      ]
     },
     "metadata": {},
     "output_type": "display_data"
    },
    {
     "name": "stdout",
     "output_type": "stream",
     "text": [
      "Metrics:\n",
      " Correctness Score: 4\n",
      "Correctness Reason: It makes the most sense and is clear. \n",
      "Depth Score: 4\n",
      "Depth Reason: It was well written. \n",
      "Grammar Score: 1\n",
      "Grammar Reason: It is well written with a few minor errors.\n",
      "Vis Score: 1\n",
      "Vis Reason: It makes the most logical sense. \n",
      "Detail Score: 4\n",
      "Detail Reason: It had just the right amount of detail. \n",
      "\n",
      "==================================================\n",
      "\n",
      "Text Description 14: The man loses his balance and he and the woman both topple over and fall.\n"
     ]
    },
    {
     "data": {
      "text/html": [
       "<video src=\"https://ubc-cv-sherlock.s3.us-west-2.amazonaws.com/oops/oops_val_v9/3315_A_preevent.mp4\" controls width=\"300\"></video>"
      ],
      "text/plain": [
       "<IPython.core.display.HTML object>"
      ]
     },
     "metadata": {},
     "output_type": "display_data"
    },
    {
     "name": "stdout",
     "output_type": "stream",
     "text": [
      "Metrics:\n",
      " Correctness Score: 5\n",
      "Correctness Reason: This is the natural progression, that the man falls. \n",
      "Depth Score: 5\n",
      "Depth Reason: IT is a very clear response\n",
      "Grammar Score: 1\n",
      "Grammar Reason: IT is reasonable\n",
      "Vis Score: 1\n",
      "Vis Reason: No contradiction\n",
      "Detail Score: 4\n",
      "Detail Reason: It is not super detailed, but the response does not require detail\n",
      "\n",
      "==================================================\n",
      "\n",
      "Text Description 15: The woman tries to juggle and accidentally hits the man in the head with one of the items in her hands.\n"
     ]
    },
    {
     "data": {
      "text/html": [
       "<video src=\"https://ubc-cv-sherlock.s3.us-west-2.amazonaws.com/oops/oops_val_v9/3315_A_preevent.mp4\" controls width=\"300\"></video>"
      ],
      "text/plain": [
       "<IPython.core.display.HTML object>"
      ]
     },
     "metadata": {},
     "output_type": "display_data"
    },
    {
     "name": "stdout",
     "output_type": "stream",
     "text": [
      "Metrics:\n",
      " Correctness Score: 5\n",
      "Correctness Reason: Gives good description of the event\n",
      "Depth Score: 4\n",
      "Depth Reason: States she accidentally dropped item\n",
      "Grammar Score: 1\n",
      "Grammar Reason: Easy to read\n",
      "Vis Score: 1\n",
      "Vis Reason: It looked like the people were off balance to begin with so safe to assume an accident would occur\n",
      "Detail Score: 5\n",
      "Detail Reason: States the women on top dropped item\n",
      "\n",
      "==================================================\n",
      "\n",
      "Text Description 17: The man who threw the pitch does a double take between the batter and the space behind him.  The batter looks on while this happens.\n"
     ]
    },
    {
     "data": {
      "text/html": [
       "<video src=\"https://ubc-cv-sherlock.s3.us-west-2.amazonaws.com/oops/oops_val_v9/3323_A_preevent.mp4\" controls width=\"300\"></video>"
      ],
      "text/plain": [
       "<IPython.core.display.HTML object>"
      ]
     },
     "metadata": {},
     "output_type": "display_data"
    },
    {
     "name": "stdout",
     "output_type": "stream",
     "text": [
      "Metrics:\n",
      " Correctness Score: 5\n",
      "Correctness Reason: The end of the video suggests that this is what will happen as the man who threw the pitch is looking behind him and the batter is looking that way as well.\n",
      "Depth Score: 5\n",
      "Depth Reason: Yes the video is highly suggestive that this is what will happen, for the reasons I described in my answer to the first question.\n",
      "Grammar Score: 1\n",
      "Grammar Reason: The grammar is perfect.\n",
      "Vis Score: 1\n",
      "Vis Reason: The description follows it perfectly. There is no contradiction based on what I can see in the end of the first video.\n",
      "Detail Score: 5\n",
      "Detail Reason: There is a high level of detail; its easy to tell what are the people and objects and what are their actions.\n",
      "\n",
      "==================================================\n",
      "\n",
      "Text Description 18: The man who threw the pitch stands up and begins to express surprise.  The batter begins to make pleased gestures by swinging his bat around.\n"
     ]
    },
    {
     "data": {
      "text/html": [
       "<video src=\"https://ubc-cv-sherlock.s3.us-west-2.amazonaws.com/oops/oops_val_v9/3323_A_preevent.mp4\" controls width=\"300\"></video>"
      ],
      "text/plain": [
       "<IPython.core.display.HTML object>"
      ]
     },
     "metadata": {},
     "output_type": "display_data"
    },
    {
     "name": "stdout",
     "output_type": "stream",
     "text": [
      "Metrics:\n",
      " Correctness Score: 2\n",
      "Correctness Reason: It doesn't seem like either of the people are that excited about the hit off the bat. Usually there would be more of a reaction right after the hit.\n",
      "Depth Score: 3\n",
      "Depth Reason: There is some detail in the anticipated action in video 2. \n",
      "Grammar Score: 1\n",
      "Grammar Reason: No grammatical errors.\n",
      "Vis Score: 1\n",
      "Vis Reason: It is not impossible for the description to have happened.\n",
      "Detail Score: 4\n",
      "Detail Reason: It is clear from the description who is being referenced.\n",
      "\n",
      "==================================================\n",
      "\n",
      "Text Description 19: The skiier falls and begins to laugh as he lays in the snow.\n"
     ]
    },
    {
     "data": {
      "text/html": [
       "<video src=\"https://ubc-cv-sherlock.s3.us-west-2.amazonaws.com/oops/oops_val_v9/3324_A_preevent.mp4\" controls width=\"300\"></video>"
      ],
      "text/plain": [
       "<IPython.core.display.HTML object>"
      ]
     },
     "metadata": {},
     "output_type": "display_data"
    },
    {
     "name": "stdout",
     "output_type": "stream",
     "text": [
      "Metrics:\n",
      " Correctness Score: 5\n",
      "Correctness Reason: The text in green is exactly what I anticipated happening.\n",
      "Depth Score: 3\n",
      "Depth Reason: I thought the text could use some more imagination.\n",
      "Grammar Score: 1\n",
      "Grammar Reason: I didn't see any grammar mistakes in the example, although I thought the green text could be more descriptive.\n",
      "Vis Score: 1\n",
      "Vis Reason: I believe the description follows the video and accurately describes what is occurring or about to occur.\n",
      "Detail Score: 2\n",
      "Detail Reason: Similar to imagination, I felt there could be more detail in the description.\n",
      "\n",
      "==================================================\n",
      "\n",
      "Text Description 20: The skiier successfully lands the jump and continues down the mountain.\n"
     ]
    },
    {
     "data": {
      "text/html": [
       "<video src=\"https://ubc-cv-sherlock.s3.us-west-2.amazonaws.com/oops/oops_val_v9/3324_A_preevent.mp4\" controls width=\"300\"></video>"
      ],
      "text/plain": [
       "<IPython.core.display.HTML object>"
      ]
     },
     "metadata": {},
     "output_type": "display_data"
    },
    {
     "name": "stdout",
     "output_type": "stream",
     "text": [
      "Metrics:\n",
      " Correctness Score: 4\n",
      "Correctness Reason: I would have added they land the jump on the edge and continue to grind down the mountain, but it is 80-90% of what I would have typed to describe it.\n",
      "Depth Score: 5\n",
      "Depth Reason: I think the video provides enough reasoning to justify typing this response. It is exactly what I would have personally done had I been writing it out. The depth is a tad lacking, but not enough to knock this down to a 4.\n",
      "Grammar Score: 1\n",
      "Grammar Reason: Perfect english, no errors.\n",
      "Vis Score: 1\n",
      "Vis Reason: It is exactly what I personally would have typed out, so I feel like it follows the video as well as you could hope for.\n",
      "Detail Score: 2\n",
      "Detail Reason: It has good detail to know the main character, but it omits a vital point that the jump is being done on a surface edge and the main character is \"grinding\" along said edge which is a vital piece of detail. The typing implies they are doing an epic ski jump, not a casual minor one like they actually are.\n",
      "\n",
      "==================================================\n",
      "\n",
      "Text Description 23: The woman juggles items in the air as the man continues to balance on the board.\n"
     ]
    },
    {
     "data": {
      "text/html": [
       "<video src=\"https://ubc-cv-sherlock.s3.us-west-2.amazonaws.com/oops/oops_val_v9/3315_A_preevent.mp4\" controls width=\"300\"></video>"
      ],
      "text/plain": [
       "<IPython.core.display.HTML object>"
      ]
     },
     "metadata": {},
     "output_type": "display_data"
    },
    {
     "name": "stdout",
     "output_type": "stream",
     "text": [
      "Metrics:\n",
      " Correctness Score: 3\n",
      "Correctness Reason: It's possible but unlikely as they seem to have trouble balancing. \n",
      "Depth Score: 3\n",
      "Depth Reason: Basically describes what's happening but fails to explain why the situation would change. \n",
      "Grammar Score: 1\n",
      "Grammar Reason: Grammar is clear and easy to understand. \n",
      "Vis Score: 1\n",
      "Vis Reason: The scenario is possible based on what I see in the video. \n",
      "Detail Score: 4\n",
      "Detail Reason: The people are identified but cause of the change is not. \n",
      "\n",
      "==================================================\n",
      "\n",
      "Text Description 24: The man who threw the pitch stands up and turns around fully to look to where the ball was hit.  The batter continues to look on.\n"
     ]
    },
    {
     "data": {
      "text/html": [
       "<video src=\"https://ubc-cv-sherlock.s3.us-west-2.amazonaws.com/oops/oops_val_v9/3323_A_preevent.mp4\" controls width=\"300\"></video>"
      ],
      "text/plain": [
       "<IPython.core.display.HTML object>"
      ]
     },
     "metadata": {},
     "output_type": "display_data"
    },
    {
     "name": "stdout",
     "output_type": "stream",
     "text": [
      "Metrics:\n",
      " Correctness Score: 4\n",
      "Correctness Reason: The description is specific and fits what happened.\n",
      "Depth Score: 4\n",
      "Depth Reason: It seems unlikely that he would stand since he can see well already, but it's possible.\n",
      "Grammar Score: 1\n",
      "Grammar Reason: It is grammatically correct.\n",
      "Vis Score: 1\n",
      "Vis Reason: It seems reasonable.\n",
      "Detail Score: 5\n",
      "Detail Reason: There is enough detail to understand the answer fully.\n",
      "\n",
      "==================================================\n",
      "\n",
      "Text Description 26: The skiier does not successfully land the jump, falls, gets back up and continues to ski down the mountain.\n"
     ]
    },
    {
     "data": {
      "text/html": [
       "<video src=\"https://ubc-cv-sherlock.s3.us-west-2.amazonaws.com/oops/oops_val_v9/3324_A_preevent.mp4\" controls width=\"300\"></video>"
      ],
      "text/plain": [
       "<IPython.core.display.HTML object>"
      ]
     },
     "metadata": {},
     "output_type": "display_data"
    },
    {
     "name": "stdout",
     "output_type": "stream",
     "text": [
      "Metrics:\n",
      " Correctness Score: 5\n",
      "Correctness Reason: Th inference is a likely possibility based on the video context.\n",
      "Depth Score: 4\n",
      "Depth Reason: Thoughtful, but could have more details about how the fall or how the person gets up \n",
      "Grammar Score: 1\n",
      "Grammar Reason: No issues with grammar. \n",
      "Vis Score: 1\n",
      "Vis Reason: The description is possible and not a contradiction. \n",
      "Detail Score: 4\n",
      "Detail Reason: Could have more detail about the type of jump or the way in which the jump is not landed. \n",
      "\n",
      "==================================================\n",
      "\n"
     ]
    },
    {
     "data": {
      "image/png": "[encoded data removed]",
      "text/plain": [
       "<Figure size 1200x800 with 6 Axes>"
      ]
     },
     "metadata": {},
     "output_type": "display_data"
    },
    {
     "name": "stdout",
     "output_type": "stream",
     "text": [
      "Average Vis Score: 1.00\n",
      "Average Depth Score: 3.53\n",
      "Average Grammar Score: 1.00\n",
      "Average Correctness Score: 3.73\n",
      "Average Detail Score: 3.67\n"
     ]
    }
   ],
   "source": [
    "task_config = 't1'  # change this to 't1', 't2', or 't3'\n",
    "# Load the CSV file\n",
    "visualize(task_config, t1_path)"
   ]
  },
  {
   "cell_type": "markdown",
   "metadata": {},
   "source": [
    "### Task 2 Plot"
   ]
  },
  {
   "cell_type": "code",
   "execution_count": 14,
   "metadata": {},
   "outputs": [
    {
     "name": "stdout",
     "output_type": "stream",
     "text": [
      "Text Description 1: The woman lets go of the swinging rope and intentionally goes into the water.\n"
     ]
    },
    {
     "data": {
      "text/html": [
       "<video src=\"https://ubc-cv-sherlock.s3.us-west-2.amazonaws.com/oops/oops_val_v9/3303_A_preevent.mp4\" controls width=\"300\"></video> <video src=\"https://ubc-cv-sherlock.s3.us-west-2.amazonaws.com/oops/oops_val_v9/3303_C_postevent.mp4\" controls width=\"300\"></video>"
      ],
      "text/plain": [
       "<IPython.core.display.HTML object>"
      ]
     },
     "metadata": {},
     "output_type": "display_data"
    },
    {
     "name": "stdout",
     "output_type": "stream",
     "text": [
      "Metrics:\n",
      " Correctness Score: 5\n",
      "Correctness Reason: Because she did\n",
      "Depth Score: 4\n",
      "Depth Reason: Because it easily predictable\n",
      "Grammar Score: 1\n",
      "Grammar Reason: i could read it easily\n",
      "Vis Score: 1\n",
      "Vis Reason: not contradicting\n",
      "Detail Score: 5\n",
      "Detail Reason: yes\n",
      "\n",
      "==================================================\n",
      "\n",
      "Text Description 2: The woman has fallen into the water and her friend jumps in after her to save her.\n"
     ]
    },
    {
     "data": {
      "text/html": [
       "<video src=\"https://ubc-cv-sherlock.s3.us-west-2.amazonaws.com/oops/oops_val_v9/3303_A_preevent.mp4\" controls width=\"300\"></video> <video src=\"https://ubc-cv-sherlock.s3.us-west-2.amazonaws.com/oops/oops_val_v9/3303_C_postevent.mp4\" controls width=\"300\"></video>"
      ],
      "text/plain": [
       "<IPython.core.display.HTML object>"
      ]
     },
     "metadata": {},
     "output_type": "display_data"
    },
    {
     "name": "stdout",
     "output_type": "stream",
     "text": [
      "Metrics:\n",
      " Correctness Score: 2\n",
      "Correctness Reason:  The description states that the woman has fallen into the water and her friend jumps in to save her. While this scenario is plausible, without the specifics of Part 1 and Part 3, we cannot determine if this is the most accurate representation of what happened in Part 2. \n",
      "Depth Score: 2\n",
      "Depth Reason: The description provides a basic sequence of events but lacks deeper reasoning or context regarding why the woman fell or the urgency of the friend’s action. It presents a straightforward narrative without exploring motivations or surrounding circumstances, which could enhance understanding of the situation\n",
      "Grammar Score: 1\n",
      "Grammar Reason: The description is reasonably written with no major grammatical errors. It conveys the intended message clearly and effectively, making it easy to understand.\n",
      "Vis Score: 1\n",
      "Vis Reason: The scenario described follows logically from the implied events in Part 1 and Part 3, where a fall into the water could naturally lead to a friend jumping in to assist. There’s no inherent contradiction based on the given information, as the actions described are plausible within the context of the scene.\n",
      "\n",
      "\n",
      "Detail Score: 2\n",
      "Detail Reason: The description identifies two individuals (the woman and her friend) but does not specify their actions or the circumstances leading to the fall. It mentions the water but does not detail the environment or any relevant objects. This level of detail is adequate but could be improved for clarity and differentiation.\n",
      "\n",
      "==================================================\n",
      "\n",
      "Text Description 3: Black and red players collide at midfield, once gets hurt\n"
     ]
    },
    {
     "data": {
      "text/html": [
       "<video src=\"https://ubc-cv-sherlock.s3.us-west-2.amazonaws.com/oops/oops_val_v9/3310_A_preevent.mp4\" controls width=\"300\"></video> <video src=\"https://ubc-cv-sherlock.s3.us-west-2.amazonaws.com/oops/oops_val_v9/3310_C_postevent.mp4\" controls width=\"300\"></video>"
      ],
      "text/plain": [
       "<IPython.core.display.HTML object>"
      ]
     },
     "metadata": {},
     "output_type": "display_data"
    },
    {
     "name": "stdout",
     "output_type": "stream",
     "text": [
      "Metrics:\n",
      " Correctness Score: 4\n",
      "Correctness Reason: It gives the correct and concise details\n",
      "Depth Score: 4\n",
      "Depth Reason: in my opinion\n",
      "Grammar Score: 1\n",
      "Grammar Reason: No . because it is not badly written\n",
      "Vis Score: 1\n",
      "Vis Reason: the video is of good quality\n",
      "Detail Score: 4\n",
      "Detail Reason: because it shows they are playing football and referee blew when the laDY WAS INJURED.\n",
      "\n",
      "==================================================\n",
      "\n",
      "Text Description 4: Black player closest to ball falls on her face and gets embarrassed\n"
     ]
    },
    {
     "data": {
      "text/html": [
       "<video src=\"https://ubc-cv-sherlock.s3.us-west-2.amazonaws.com/oops/oops_val_v9/3310_A_preevent.mp4\" controls width=\"300\"></video> <video src=\"https://ubc-cv-sherlock.s3.us-west-2.amazonaws.com/oops/oops_val_v9/3310_C_postevent.mp4\" controls width=\"300\"></video>"
      ],
      "text/plain": [
       "<IPython.core.display.HTML object>"
      ]
     },
     "metadata": {},
     "output_type": "display_data"
    },
    {
     "name": "stdout",
     "output_type": "stream",
     "text": [
      "Metrics:\n",
      " Correctness Score: 5\n",
      "Correctness Reason: The description provided does not fully align with the context expected in Part 2 based on Part 1 and Part 3. While it describes an event involving a player falling and experiencing embarrassment, it lacks clarity on the circumstances leading to the fall and its significance within the broader narrative established by Parts 1 and 3.\n",
      "Depth Score: 5\n",
      "Depth Reason: he reasoning provided in the description is superficial. It mentions that the player fell and felt embarrassed but does not explore the emotions or implications of this action, such as how it affects the game or the reactions of other players or spectators. There is minimal reasoning offered to support this outcome.\n",
      "Grammar Score: 1\n",
      "Grammar Reason: Reasonably written\n",
      "Explanation: The description is mostly clear and free of grammatical errors. It succinctly conveys the action that occurred, albeit with a lack of detail and context.\n",
      "Vis Score: 1\n",
      "Vis Reason: he description does not contradict the visual representation likely present in Parts 1 and 3. A player falling and being embarrassed is a plausible scenario in a sports context and does not suggest any impossibilities based on what might transpire in the videos.\n",
      "Detail Score: 4\n",
      "Detail Reason:  The level of detail in the description is inadequate for a thorough understanding of the event. It describes a singular action (the player falling) without any context about the game situation, the player's position relative to others, or the significance of the moment, making it hard to fully grasp what transpired.\n",
      " The level of detail in the description is inadequate for a thorough understanding of the event. It describes a singular action (the player falling) without any context about the game situation, the player's position relative to others, or the significance of the moment, making it hard to fully grasp what transpired.\n",
      "\n",
      "\n",
      "\n",
      "\n",
      "==================================================\n",
      "\n",
      "Text Description 5: The woman in the white shirt is seen swimming to the edge of the river after falling in the water.\n"
     ]
    },
    {
     "data": {
      "text/html": [
       "<video src=\"https://ubc-cv-sherlock.s3.us-west-2.amazonaws.com/oops/oops_val_v9/3303_A_preevent.mp4\" controls width=\"300\"></video> <video src=\"https://ubc-cv-sherlock.s3.us-west-2.amazonaws.com/oops/oops_val_v9/3303_C_postevent.mp4\" controls width=\"300\"></video>"
      ],
      "text/plain": [
       "<IPython.core.display.HTML object>"
      ]
     },
     "metadata": {},
     "output_type": "display_data"
    },
    {
     "name": "stdout",
     "output_type": "stream",
     "text": [
      "Metrics:\n",
      " Correctness Score: 5\n",
      "Correctness Reason: Yes, it's fully correct.\n",
      "Depth Score: 3\n",
      "Depth Reason: Yes, it is thoughtfully written and it supports the description.\n",
      "Grammar Score: 1\n",
      "Grammar Reason: The grammar is well written.th\n",
      "Vis Score: 1\n",
      "Vis Reason: The visuals reasonably follows what happened in the video.\n",
      "Detail Score: 4\n",
      "Detail Reason: There was not enough of detail but one can use his discretion to make the best guess.\n",
      "\n",
      "==================================================\n",
      "\n",
      "Text Description 7: The man loses his balance and he falls, but the woman successfully lands on her feet.\n"
     ]
    },
    {
     "data": {
      "text/html": [
       "<video src=\"https://ubc-cv-sherlock.s3.us-west-2.amazonaws.com/oops/oops_val_v9/3315_A_preevent.mp4\" controls width=\"300\"></video> <video src=\"https://ubc-cv-sherlock.s3.us-west-2.amazonaws.com/oops/oops_val_v9/3315_C_postevent.mp4\" controls width=\"300\"></video>"
      ],
      "text/plain": [
       "<IPython.core.display.HTML object>"
      ]
     },
     "metadata": {},
     "output_type": "display_data"
    },
    {
     "name": "stdout",
     "output_type": "stream",
     "text": [
      "Metrics:\n",
      " Correctness Score: 4\n",
      "Correctness Reason: BECAUSE ITS THE LOGICAL THING TO HAPPEN\n",
      "Depth Score: 4\n",
      "Depth Reason: NOT MUCH EFFORT NEEDED TO COME UP WITH THIS SCENARIO\n",
      "Grammar Score: 1\n",
      "Grammar Reason: NO IT IS NOT BADLY WRITTEN \n",
      "Vis Score: 1\n",
      "Vis Reason: YES IT IS THE MOST LOGICAL ANSWER\n",
      "Detail Score: 4\n",
      "Detail Reason: YES THERE IS ONLY THOSE OBJECTS THAT ARE DESCRIBED. \n",
      "\n",
      "==================================================\n",
      "\n",
      "Text Description 10: The man who threw the pitch stands up and turns around fully to look to where the ball was hit.  The batter continues to look on.\n"
     ]
    },
    {
     "data": {
      "text/html": [
       "<video src=\"https://ubc-cv-sherlock.s3.us-west-2.amazonaws.com/oops/oops_val_v9/3323_A_preevent.mp4\" controls width=\"300\"></video> <video src=\"https://ubc-cv-sherlock.s3.us-west-2.amazonaws.com/oops/oops_val_v9/3323_C_postevent.mp4\" controls width=\"300\"></video>"
      ],
      "text/plain": [
       "<IPython.core.display.HTML object>"
      ]
     },
     "metadata": {},
     "output_type": "display_data"
    },
    {
     "name": "stdout",
     "output_type": "stream",
     "text": [
      "Metrics:\n",
      " Correctness Score: 5\n",
      "Correctness Reason: This explanation fits perfectly with the sequence of events. It aligns with both part 1 and part 3.\n",
      "Depth Score: 4\n",
      "Depth Reason: Reasonably thoughtful, but the explanation could include more depth.\n",
      "Grammar Score: 1\n",
      "Grammar Reason: Grammatically Correct\n",
      "Vis Score: 1\n",
      "Vis Reason: Follows the video content. The description makes sense based on the scenario in parts 1 and 3.\n",
      "Detail Score: 5\n",
      "Detail Reason: The level of detail is sufficient to perfectly identify the people, objects and cause of actions. The person turning is identified as the one that threw the pitch.\n",
      "\n",
      "==================================================\n",
      "\n",
      "Text Description 11: The man who threw the pitch does a double take between the batter and the space behind him.  The batter looks on while this happens.\n"
     ]
    },
    {
     "data": {
      "text/html": [
       "<video src=\"https://ubc-cv-sherlock.s3.us-west-2.amazonaws.com/oops/oops_val_v9/3323_A_preevent.mp4\" controls width=\"300\"></video> <video src=\"https://ubc-cv-sherlock.s3.us-west-2.amazonaws.com/oops/oops_val_v9/3323_C_postevent.mp4\" controls width=\"300\"></video>"
      ],
      "text/plain": [
       "<IPython.core.display.HTML object>"
      ]
     },
     "metadata": {},
     "output_type": "display_data"
    },
    {
     "name": "stdout",
     "output_type": "stream",
     "text": [
      "Metrics:\n",
      " Correctness Score: 3\n",
      "Correctness Reason: It is technically correct but doesn't explain why the batter sounds distressed.\n",
      "Depth Score: 2\n",
      "Depth Reason: It doesn't explain why the batter is swearing.\n",
      "Grammar Score: 1\n",
      "Grammar Reason: It is ckear and easy to understand with no obvious errors in grammar.\n",
      "Vis Score: 1\n",
      "Vis Reason: It follows.\n",
      "Detail Score: 4\n",
      "Detail Reason: It mentions both people.\n",
      "\n",
      "==================================================\n",
      "\n",
      "Text Description 14: The skiier falls and appears injured or defeated as they lay in the snow.\n"
     ]
    },
    {
     "data": {
      "text/html": [
       "<video src=\"https://ubc-cv-sherlock.s3.us-west-2.amazonaws.com/oops/oops_val_v9/3324_A_preevent.mp4\" controls width=\"300\"></video> <video src=\"https://ubc-cv-sherlock.s3.us-west-2.amazonaws.com/oops/oops_val_v9/3324_C_postevent.mp4\" controls width=\"300\"></video>"
      ],
      "text/plain": [
       "<IPython.core.display.HTML object>"
      ]
     },
     "metadata": {},
     "output_type": "display_data"
    },
    {
     "name": "stdout",
     "output_type": "stream",
     "text": [
      "Metrics:\n",
      " Correctness Score: 5\n",
      "Correctness Reason: The answer is very plausibe.\n",
      "Depth Score: 5\n",
      "Depth Reason: By saying that the skier appears injured or defeated shows depth of reasoning\n",
      "Grammar Score: 1\n",
      "Grammar Reason: No errors\n",
      "Vis Score: 1\n",
      "Vis Reason: Very logical description that follows on well from the initial video\n",
      "Detail Score: 5\n",
      "Detail Reason: There is sufficient detail - I can't think of any additional pertinent detail that is missing\n",
      "\n",
      "==================================================\n",
      "\n",
      "Text Description 16: Red Defender clears the ball away to safety\n"
     ]
    },
    {
     "data": {
      "text/html": [
       "<video src=\"https://ubc-cv-sherlock.s3.us-west-2.amazonaws.com/oops/oops_val_v9/3310_A_preevent.mp4\" controls width=\"300\"></video> <video src=\"https://ubc-cv-sherlock.s3.us-west-2.amazonaws.com/oops/oops_val_v9/3310_C_postevent.mp4\" controls width=\"300\"></video>"
      ],
      "text/plain": [
       "<IPython.core.display.HTML object>"
      ]
     },
     "metadata": {},
     "output_type": "display_data"
    },
    {
     "name": "stdout",
     "output_type": "stream",
     "text": [
      "Metrics:\n",
      " Correctness Score: 3\n",
      "Correctness Reason: I have no idea what happened to the ball. All I can see is that play was stopped when a player was knocked down.  I'm not even sure which player is \"Red Defender\".\n",
      "Depth Score: 1\n",
      "Depth Reason: The description is a possibility, but there is not enough detail for me to wholeheartedly support it. Too much happens in the hidden part of the video, and too little happens in the 3rd part.\n",
      "Grammar Score: 0\n",
      "Grammar Reason: The description is in readable English, but it speaks in soccer language, which I don't understand, so I don't really know what it means.\n",
      "Vis Score: 0\n",
      "Vis Reason: You don't give me an \"I don't know\" middle vote here. I chose \"contradicts\" because I cannot infer the hidden video based on this description.\n",
      "Detail Score: 1\n",
      "Detail Reason: Not at all. Who is \"Red Defender\" when all the red players are defenders? When there are no red players in the 3rd part of the video, how can I possibly know what happened between 1 and 3?\n",
      "\n",
      "==================================================\n",
      "\n",
      "Text Description 18: The man who threw the pitch stands up and begins to express surprise.  The batter begins to make pleased gestures by swinging his bat around.\n"
     ]
    },
    {
     "data": {
      "text/html": [
       "<video src=\"https://ubc-cv-sherlock.s3.us-west-2.amazonaws.com/oops/oops_val_v9/3323_A_preevent.mp4\" controls width=\"300\"></video> <video src=\"https://ubc-cv-sherlock.s3.us-west-2.amazonaws.com/oops/oops_val_v9/3323_C_postevent.mp4\" controls width=\"300\"></video>"
      ],
      "text/plain": [
       "<IPython.core.display.HTML object>"
      ]
     },
     "metadata": {},
     "output_type": "display_data"
    },
    {
     "name": "stdout",
     "output_type": "stream",
     "text": [
      "Metrics:\n",
      " Correctness Score: 5\n",
      "Correctness Reason: Just my thought\n",
      "Depth Score: 5\n",
      "Depth Reason: I thought the narratives is evident in the video\n",
      "Grammar Score: 1\n",
      "Grammar Reason: No error\n",
      "Vis Score: 1\n",
      "Vis Reason: It is possible for it to happen\n",
      "Detail Score: 3\n",
      "Detail Reason: Part 2 wasn't given\n",
      "\n",
      "==================================================\n",
      "\n",
      "Text Description 19: The skiier falls and begins to laugh as he lays in the snow.\n"
     ]
    },
    {
     "data": {
      "text/html": [
       "<video src=\"https://ubc-cv-sherlock.s3.us-west-2.amazonaws.com/oops/oops_val_v9/3324_A_preevent.mp4\" controls width=\"300\"></video> <video src=\"https://ubc-cv-sherlock.s3.us-west-2.amazonaws.com/oops/oops_val_v9/3324_C_postevent.mp4\" controls width=\"300\"></video>"
      ],
      "text/plain": [
       "<IPython.core.display.HTML object>"
      ]
     },
     "metadata": {},
     "output_type": "display_data"
    },
    {
     "name": "stdout",
     "output_type": "stream",
     "text": [
      "Metrics:\n",
      " Correctness Score: 1\n",
      "Correctness Reason: The skier does not look as though he was in any way amused\n",
      "Depth Score: 2\n",
      "Depth Reason: It's just about possible, but I acn't see any evidence for the claim\n",
      "Grammar Score: 0\n",
      "Grammar Reason: It is written in the present tense, which is inapprpriate for the given prompt\n",
      "Vis Score: 0\n",
      "Vis Reason: The fact that the skier is prone, on the ground, rather contradicts the claim\n",
      "Detail Score: 2\n",
      "Detail Reason: It contains some detail, but it's a very brief description \n",
      "\n",
      "==================================================\n",
      "\n",
      "Text Description 21: The man loses his balance and he and the woman both topple over and fall.\n"
     ]
    },
    {
     "data": {
      "text/html": [
       "<video src=\"https://ubc-cv-sherlock.s3.us-west-2.amazonaws.com/oops/oops_val_v9/3315_A_preevent.mp4\" controls width=\"300\"></video> <video src=\"https://ubc-cv-sherlock.s3.us-west-2.amazonaws.com/oops/oops_val_v9/3315_C_postevent.mp4\" controls width=\"300\"></video>"
      ],
      "text/plain": [
       "<IPython.core.display.HTML object>"
      ]
     },
     "metadata": {},
     "output_type": "display_data"
    },
    {
     "name": "stdout",
     "output_type": "stream",
     "text": [
      "Metrics:\n",
      " Correctness Score: 4\n",
      "Correctness Reason: The 3rd video shows the man on the floor so he must have fallen in the 2nd video.\n",
      "Depth Score: 4\n",
      "Depth Reason: It correctly states how the man could have fallen int he 3rd video.\n",
      "Grammar Score: 1\n",
      "Grammar Reason: It's written reasonably well.\n",
      "Vis Score: 1\n",
      "Vis Reason: It follows the videos correctly.\n",
      "Detail Score: 4\n",
      "Detail Reason: It states the people in the video but not the objects.\n",
      "\n",
      "==================================================\n",
      "\n",
      "Text Description 23: The woman tries to juggle and accidentally hits the man in the head with one of the items in her hands.\n"
     ]
    },
    {
     "data": {
      "text/html": [
       "<video src=\"https://ubc-cv-sherlock.s3.us-west-2.amazonaws.com/oops/oops_val_v9/3315_A_preevent.mp4\" controls width=\"300\"></video> <video src=\"https://ubc-cv-sherlock.s3.us-west-2.amazonaws.com/oops/oops_val_v9/3315_C_postevent.mp4\" controls width=\"300\"></video>"
      ],
      "text/plain": [
       "<IPython.core.display.HTML object>"
      ]
     },
     "metadata": {},
     "output_type": "display_data"
    },
    {
     "name": "stdout",
     "output_type": "stream",
     "text": [
      "Metrics:\n",
      " Correctness Score: 3\n",
      "Correctness Reason: yes. it give full information\n",
      "Depth Score: 3\n",
      "Depth Reason: Based on my knowledge\n",
      "Grammar Score: 1\n",
      "Grammar Reason: No . because it is not badly written\n",
      "Vis Score: 1\n",
      "Vis Reason: the video is of good quality\n",
      "Detail Score: 3\n",
      "Detail Reason: because it shows they are playing football and referee blew when the lady was injured.\n",
      "\n",
      "==================================================\n",
      "\n",
      "Text Description 24: The skiier does not make the jump and lays in the snow.\n"
     ]
    },
    {
     "data": {
      "text/html": [
       "<video src=\"https://ubc-cv-sherlock.s3.us-west-2.amazonaws.com/oops/oops_val_v9/3324_A_preevent.mp4\" controls width=\"300\"></video> <video src=\"https://ubc-cv-sherlock.s3.us-west-2.amazonaws.com/oops/oops_val_v9/3324_C_postevent.mp4\" controls width=\"300\"></video>"
      ],
      "text/plain": [
       "<IPython.core.display.HTML object>"
      ]
     },
     "metadata": {},
     "output_type": "display_data"
    },
    {
     "name": "stdout",
     "output_type": "stream",
     "text": [
      "Metrics:\n",
      " Correctness Score: 2\n",
      "Correctness Reason: It is one possibility among many.\n",
      "Depth Score: 3\n",
      "Depth Reason: There was thought given to the missing section, it could have benefited from more depth of description or writing.\n",
      "Grammar Score: 1\n",
      "Grammar Reason: It uses correct spelling, punctuation, and grammar.\n",
      "Vis Score: 1\n",
      "Vis Reason: Nothing condradicts.\n",
      "Detail Score: 3\n",
      "Detail Reason: Its of average detail, just enough to make the reader understand without any extra.\n",
      "\n",
      "==================================================\n",
      "\n"
     ]
    },
    {
     "data": {
      "image/png": "[encoded data removed]",
      "text/plain": [
       "<Figure size 1200x800 with 6 Axes>"
      ]
     },
     "metadata": {},
     "output_type": "display_data"
    },
    {
     "name": "stdout",
     "output_type": "stream",
     "text": [
      "Average Vis Score: 0.87\n",
      "Average Depth Score: 3.40\n",
      "Average Grammar Score: 0.87\n",
      "Average Correctness Score: 3.73\n",
      "Average Detail Score: 3.53\n"
     ]
    }
   ],
   "source": [
    "task_config = 't2'  # change this to 't1', 't2', or 't3'\n",
    "# Load the CSV file\n",
    "visualize(task_config, t2_path)"
   ]
  },
  {
   "cell_type": "markdown",
   "metadata": {},
   "source": [
    "### Task 3 Plot"
   ]
  },
  {
   "cell_type": "code",
   "execution_count": 15,
   "metadata": {},
   "outputs": [
    {
     "name": "stdout",
     "output_type": "stream",
     "text": [
      "Text Description 1: Black team players collides with red team players, takes a blow to the face, falls to ground\n"
     ]
    },
    {
     "data": {
      "text/html": [
       "<video src=\"https://ubc-cv-sherlock.s3.us-west-2.amazonaws.com/oops/oops_val_v9/3310_A_preevent.mp4\" controls width=\"300\"></video> <video src=\"https://ubc-cv-sherlock.s3.us-west-2.amazonaws.com/oops/oops_val_v9/3310_C_postevent.mp4\" controls width=\"300\"></video> <video src=\"https://ubc-cv-sherlock.s3.us-west-2.amazonaws.com/oops/oops_val_v9/3310_B_event.mp4\" controls width=\"300\"></video>"
      ],
      "text/plain": [
       "<IPython.core.display.HTML object>"
      ]
     },
     "metadata": {},
     "output_type": "display_data"
    },
    {
     "name": "stdout",
     "output_type": "stream",
     "text": [
      "Metrics:\n",
      " Correctness Score: 1\n",
      "Correctness Reason: That is not what the second video shows. The Black team player was next to the red team player. The player on the red team then kicked the ball, accidently hitting the player from the black team in the face causing her to fall to the ground.\n",
      "Depth Score: 1\n",
      "Depth Reason: It is completely wrong. The scenario is incorrect and does not accurately answer the question as to what happened in the video. It also does not give details as to what happened to cause the player from the black team to fall.\n",
      "Grammar Score: 1\n",
      "Grammar Reason: Yes it is badly written, there are a few spots where the grammar is incorrect. \n",
      "Vis Score: 1\n",
      "Vis Reason: No. It is completely inaccurate as to what happened in the video. It does not really describe who was involved in the fall and why they fell.\n",
      "Detail Score: 1\n",
      "Detail Reason: There is almost no detail in the answer. It is very short and once again incorrect.\n",
      "\n",
      "==================================================\n",
      "\n",
      "Text Description 2: The woman loses her grip on the swinging rope, falls into the water, and swims to the edge of the river after falling in.\n"
     ]
    },
    {
     "data": {
      "text/html": [
       "<video src=\"https://ubc-cv-sherlock.s3.us-west-2.amazonaws.com/oops/oops_val_v9/3303_A_preevent.mp4\" controls width=\"300\"></video> <video src=\"https://ubc-cv-sherlock.s3.us-west-2.amazonaws.com/oops/oops_val_v9/3303_C_postevent.mp4\" controls width=\"300\"></video> <video src=\"https://ubc-cv-sherlock.s3.us-west-2.amazonaws.com/oops/oops_val_v9/3303_B_event.mp4\" controls width=\"300\"></video>"
      ],
      "text/plain": [
       "<IPython.core.display.HTML object>"
      ]
     },
     "metadata": {},
     "output_type": "display_data"
    },
    {
     "name": "stdout",
     "output_type": "stream",
     "text": [
      "Metrics:\n",
      " Correctness Score: 5\n",
      "Correctness Reason: It happened as stated\n",
      "Depth Score: 5\n",
      "Depth Reason: Yes, because you see her coming back to the edge\n",
      "Grammar Score: 1\n",
      "Grammar Reason: I do not believe there were grammatical errors\n",
      "Vis Score: 1\n",
      "Vis Reason: The description reasonably follows what happened in the video\n",
      "Detail Score: 5\n",
      "Detail Reason: You can clearly see what the person is doing \n",
      "\n",
      "==================================================\n",
      "\n",
      "Text Description 4: The man tries to shift his weight on on the board but loses his balance. He falls to the ground as the woman successfully lands on her feet, demonstrating incredible balance. She looks back at the man to make sure he is okay and begins to approach him.\n"
     ]
    },
    {
     "data": {
      "text/html": [
       "<video src=\"https://ubc-cv-sherlock.s3.us-west-2.amazonaws.com/oops/oops_val_v9/3315_A_preevent.mp4\" controls width=\"300\"></video> <video src=\"https://ubc-cv-sherlock.s3.us-west-2.amazonaws.com/oops/oops_val_v9/3315_C_postevent.mp4\" controls width=\"300\"></video> <video src=\"https://ubc-cv-sherlock.s3.us-west-2.amazonaws.com/oops/oops_val_v9/3315_B_event.mp4\" controls width=\"300\"></video>"
      ],
      "text/plain": [
       "<IPython.core.display.HTML object>"
      ]
     },
     "metadata": {},
     "output_type": "display_data"
    },
    {
     "name": "stdout",
     "output_type": "stream",
     "text": [
      "Metrics:\n",
      " Correctness Score: 4\n",
      "Correctness Reason: Very accurate but not a very good description of the board that they are balancing on, and does not mention that the woman is balancing on his shoulders.\n",
      "Depth Score: 4\n",
      "Depth Reason: Could be more descriptive of the act taking place.\n",
      "Grammar Score: 0\n",
      "Grammar Reason: Contains two instances of on in the first sentence.\n",
      "Vis Score: 1\n",
      "Vis Reason: Follows the video content.\n",
      "Detail Score: 3\n",
      "Detail Reason: It describes balancing on a board but does not describe it in sufficient detail to achieve a higher score.\n",
      "\n",
      "==================================================\n",
      "\n",
      "Text Description 5: The skiier smacks his back off the jumping platform and completely loses consciousness. He lays still, apparently injured, in the snow below the jump.\n"
     ]
    },
    {
     "data": {
      "text/html": [
       "<video src=\"https://ubc-cv-sherlock.s3.us-west-2.amazonaws.com/oops/oops_val_v9/3324_A_preevent.mp4\" controls width=\"300\"></video> <video src=\"https://ubc-cv-sherlock.s3.us-west-2.amazonaws.com/oops/oops_val_v9/3324_C_postevent.mp4\" controls width=\"300\"></video> <video src=\"https://ubc-cv-sherlock.s3.us-west-2.amazonaws.com/oops/oops_val_v9/3324_B_event.mp4\" controls width=\"300\"></video>"
      ],
      "text/plain": [
       "<IPython.core.display.HTML object>"
      ]
     },
     "metadata": {},
     "output_type": "display_data"
    },
    {
     "name": "stdout",
     "output_type": "stream",
     "text": [
      "Metrics:\n",
      " Correctness Score: 4\n",
      "Correctness Reason: I am not sure if the skiier loses consciousness.\n",
      "Depth Score: 4\n",
      "Depth Reason: It was well described.\n",
      "Grammar Score: 1\n",
      "Grammar Reason: The grammer seemed ok.\n",
      "Vis Score: 1\n",
      "Vis Reason: It follows reasonably.\n",
      "Detail Score: 4\n",
      "Detail Reason: The detail seemed sufficient.\n",
      "\n",
      "==================================================\n",
      "\n",
      "Text Description 9: The guy jumping lands with one leg into the trashcan but his momentum causes the trashcan to fall over.\n"
     ]
    },
    {
     "data": {
      "text/html": [
       "<video src=\"https://ubc-cv-sherlock.s3.us-west-2.amazonaws.com/oops/oops_val_v9/3328_A_preevent.mp4\" controls width=\"300\"></video> <video src=\"https://ubc-cv-sherlock.s3.us-west-2.amazonaws.com/oops/oops_val_v9/3328_C_postevent.mp4\" controls width=\"300\"></video> <video src=\"https://ubc-cv-sherlock.s3.us-west-2.amazonaws.com/oops/oops_val_v9/3328_B_event.mp4\" controls width=\"300\"></video>"
      ],
      "text/plain": [
       "<IPython.core.display.HTML object>"
      ]
     },
     "metadata": {},
     "output_type": "display_data"
    },
    {
     "name": "stdout",
     "output_type": "stream",
     "text": [
      "Metrics:\n",
      " Correctness Score: 4\n",
      "Correctness Reason: It describes the event very well.\n",
      "Depth Score: 4\n",
      "Depth Reason: Yes, it is very thoughtful.\n",
      "Grammar Score: 1\n",
      "Grammar Reason: The grammar is good and easy to understand.\n",
      "Vis Score: 1\n",
      "Vis Reason: The description reasonable follows what was displayed in the video.\n",
      "Detail Score: 4\n",
      "Detail Reason: Yes, the video has sufficient details to easily identify the people and object\n",
      "\n",
      "\n",
      "==================================================\n",
      "\n",
      "Text Description 11: The man in the blue tank top performs a gymnastic feat and the rope in his left hand snaps. He continues to perform a half gym routine while a woman in the background laughs before letting go of the rope.\n"
     ]
    },
    {
     "data": {
      "text/html": [
       "<video src=\"https://ubc-cv-sherlock.s3.us-west-2.amazonaws.com/oops/oops_val_v9/3329_A_preevent.mp4\" controls width=\"300\"></video> <video src=\"https://ubc-cv-sherlock.s3.us-west-2.amazonaws.com/oops/oops_val_v9/3329_C_postevent.mp4\" controls width=\"300\"></video> <video src=\"https://ubc-cv-sherlock.s3.us-west-2.amazonaws.com/oops/oops_val_v9/3329_B_event.mp4\" controls width=\"300\"></video>"
      ],
      "text/plain": [
       "<IPython.core.display.HTML object>"
      ]
     },
     "metadata": {},
     "output_type": "display_data"
    },
    {
     "name": "stdout",
     "output_type": "stream",
     "text": [
      "Metrics:\n",
      " Correctness Score: 5\n",
      "Correctness Reason: That was what I saw\n",
      "Depth Score: 5\n",
      "Depth Reason: It was exactly what happened\n",
      "Grammar Score: 1\n",
      "Grammar Reason: The spellings are correct\n",
      "Vis Score: 1\n",
      "Vis Reason: It follows everything written down\n",
      "Detail Score: 5\n",
      "Detail Reason: Everything written down in green was what was portryed\n",
      "\n",
      "==================================================\n",
      "\n",
      "Text Description 12: A fully clothed adult is going down a child's water slide. Due to his size and speed he is going so fast that he ends up flying out the pool and onto the ground in front of the person recording him.\n"
     ]
    },
    {
     "data": {
      "text/html": [
       "<video src=\"https://ubc-cv-sherlock.s3.us-west-2.amazonaws.com/oops/oops_val_v9/3331_A_preevent.mp4\" controls width=\"300\"></video> <video src=\"https://ubc-cv-sherlock.s3.us-west-2.amazonaws.com/oops/oops_val_v9/3331_C_postevent.mp4\" controls width=\"300\"></video> <video src=\"https://ubc-cv-sherlock.s3.us-west-2.amazonaws.com/oops/oops_val_v9/3331_B_event.mp4\" controls width=\"300\"></video>"
      ],
      "text/plain": [
       "<IPython.core.display.HTML object>"
      ]
     },
     "metadata": {},
     "output_type": "display_data"
    },
    {
     "name": "stdout",
     "output_type": "stream",
     "text": [
      "Metrics:\n",
      " Correctness Score: 4\n",
      "Correctness Reason: The explanation fits the key actions of the sequence\n",
      "Depth Score: 4\n",
      "Depth Reason: It explains how fast the person is moving and how the person ended up on the the ground\n",
      "Grammar Score: 1\n",
      "Grammar Reason: The grammar used reasonable\n",
      "Vis Score: 1\n",
      "Vis Reason: It follows the video content\n",
      "Detail Score: 4\n",
      "Detail Reason: It tells you how grown the person is,their clothings and on a children water slide\n",
      "\n",
      "==================================================\n",
      "\n",
      "Text Description 14: Cape of performers gets stuck on stage and stays on, but pulls them back, causing a distraction\n"
     ]
    },
    {
     "data": {
      "text/html": [
       "<video src=\"https://ubc-cv-sherlock.s3.us-west-2.amazonaws.com/oops/oops_val_v9/3308_A_preevent.mp4\" controls width=\"300\"></video> <video src=\"https://ubc-cv-sherlock.s3.us-west-2.amazonaws.com/oops/oops_val_v9/3308_C_postevent.mp4\" controls width=\"300\"></video> <video src=\"https://ubc-cv-sherlock.s3.us-west-2.amazonaws.com/oops/oops_val_v9/3308_B_event.mp4\" controls width=\"300\"></video>"
      ],
      "text/plain": [
       "<IPython.core.display.HTML object>"
      ]
     },
     "metadata": {},
     "output_type": "display_data"
    },
    {
     "name": "stdout",
     "output_type": "stream",
     "text": [
      "Metrics:\n",
      " Correctness Score: 5\n",
      "Correctness Reason: It is accurate.\n",
      "Depth Score: 4\n",
      "Depth Reason: It explains the incident correctly.\n",
      "Grammar Score: 1\n",
      "Grammar Reason: There is some minor phrasing but it is understandable.\n",
      "Vis Score: 1\n",
      "Vis Reason: Yes, it reasonably follows.\n",
      "Detail Score: 4\n",
      "Detail Reason: It identifies the person of interest.\n",
      "\n",
      "==================================================\n",
      "\n",
      "Text Description 16: The woman gets stuck on the post when attempting to hop over it, causing her to fall down.\n"
     ]
    },
    {
     "data": {
      "text/html": [
       "<video src=\"https://ubc-cv-sherlock.s3.us-west-2.amazonaws.com/oops/oops_val_v9/3349_A_preevent.mp4\" controls width=\"300\"></video> <video src=\"https://ubc-cv-sherlock.s3.us-west-2.amazonaws.com/oops/oops_val_v9/3349_C_postevent.mp4\" controls width=\"300\"></video> <video src=\"https://ubc-cv-sherlock.s3.us-west-2.amazonaws.com/oops/oops_val_v9/3349_B_event.mp4\" controls width=\"300\"></video>"
      ],
      "text/plain": [
       "<IPython.core.display.HTML object>"
      ]
     },
     "metadata": {},
     "output_type": "display_data"
    },
    {
     "name": "stdout",
     "output_type": "stream",
     "text": [
      "Metrics:\n",
      " Correctness Score: 4\n",
      "Correctness Reason: It correctly explains what happens but leaves out the detail that someone came to help her get up.\n",
      "Depth Score: 4\n",
      "Depth Reason: It is thoughtful but lacks clear mention of someone coming to help her.\n",
      "Grammar Score: 1\n",
      "Grammar Reason: The grammar is very good\n",
      "Vis Score: 1\n",
      "Vis Reason: There is no contradiction in the description\n",
      "Detail Score: 3\n",
      "Detail Reason: The attention to detail is slightly good but lacks the fine detail of someone coming to help her stand and makes no mention of what she or the person were wearing\n",
      "\n",
      "==================================================\n",
      "\n",
      "Text Description 17: Person on left blows glasses with straw, causing them to fall down and fire starts on table\n"
     ]
    },
    {
     "data": {
      "text/html": [
       "<video src=\"https://ubc-cv-sherlock.s3.us-west-2.amazonaws.com/oops/oops_val_v9/3344_A_preevent.mp4\" controls width=\"300\"></video> <video src=\"https://ubc-cv-sherlock.s3.us-west-2.amazonaws.com/oops/oops_val_v9/3344_C_postevent.mp4\" controls width=\"300\"></video> <video src=\"https://ubc-cv-sherlock.s3.us-west-2.amazonaws.com/oops/oops_val_v9/3344_B_event.mp4\" controls width=\"300\"></video>"
      ],
      "text/plain": [
       "<IPython.core.display.HTML object>"
      ]
     },
     "metadata": {},
     "output_type": "display_data"
    },
    {
     "name": "stdout",
     "output_type": "stream",
     "text": [
      "Metrics:\n",
      " Correctness Score: 2\n",
      "Correctness Reason: No full context\n",
      "Depth Score: 2\n",
      "Depth Reason: Not very descriptive.\n",
      "Grammar Score: 1\n",
      "Grammar Reason: Not perfect, but understandable.\n",
      "Vis Score: 1\n",
      "Vis Reason: Is accurate.\n",
      "Detail Score: 2\n",
      "Detail Reason: Low details\n",
      "\n",
      "==================================================\n",
      "\n",
      "Text Description 18: The hot dog falls to the ground. The young man sitting next to the hot dog eater picks it up, hands it to the man, who places it back into the food container.\n"
     ]
    },
    {
     "data": {
      "text/html": [
       "<video src=\"https://ubc-cv-sherlock.s3.us-west-2.amazonaws.com/oops/oops_val_v9/3356_A_preevent.mp4\" controls width=\"300\"></video> <video src=\"https://ubc-cv-sherlock.s3.us-west-2.amazonaws.com/oops/oops_val_v9/3356_C_postevent.mp4\" controls width=\"300\"></video> <video src=\"https://ubc-cv-sherlock.s3.us-west-2.amazonaws.com/oops/oops_val_v9/3356_B_event.mp4\" controls width=\"300\"></video>"
      ],
      "text/plain": [
       "<IPython.core.display.HTML object>"
      ]
     },
     "metadata": {},
     "output_type": "display_data"
    },
    {
     "name": "stdout",
     "output_type": "stream",
     "text": [
      "Metrics:\n",
      " Correctness Score: 3\n",
      "Correctness Reason: It has the true facts \n",
      "Depth Score: 2\n",
      "Depth Reason: Just a guy eating gross food.\n",
      "Grammar Score: 0\n",
      "Grammar Reason: Na\n",
      "Vis Score: 0\n",
      "Vis Reason: Na\n",
      "Detail Score: 2\n",
      "Detail Reason: Na\n",
      "\n",
      "==================================================\n",
      "\n",
      "Text Description 20: Person on top falls backwards, causing the person on the bottom to start laughing and fall forward to the ground\n"
     ]
    },
    {
     "data": {
      "text/html": [
       "<video src=\"https://ubc-cv-sherlock.s3.us-west-2.amazonaws.com/oops/oops_val_v9/3359_A_preevent.mp4\" controls width=\"300\"></video> <video src=\"https://ubc-cv-sherlock.s3.us-west-2.amazonaws.com/oops/oops_val_v9/3359_C_postevent.mp4\" controls width=\"300\"></video> <video src=\"https://ubc-cv-sherlock.s3.us-west-2.amazonaws.com/oops/oops_val_v9/3359_B_event.mp4\" controls width=\"300\"></video>"
      ],
      "text/plain": [
       "<IPython.core.display.HTML object>"
      ]
     },
     "metadata": {},
     "output_type": "display_data"
    },
    {
     "name": "stdout",
     "output_type": "stream",
     "text": [
      "Metrics:\n",
      " Correctness Score: 5\n",
      "Correctness Reason: The description aligns with what I saw happen in the video\n",
      "Depth Score: 4\n",
      "Depth Reason: The description was not written as a full sentence.\n",
      "Grammar Score: 1\n",
      "Grammar Reason: Though the sentence was not complete, the amount of detail provided is enough to tell what happened in the video.\n",
      "Vis Score: 1\n",
      "Vis Reason: There is an almost perfect alignment between the video and the description.\n",
      "Detail Score: 4\n",
      "Detail Reason: The part that a woman climbed to the neck of another woman sitting down was omitted from the description.\n",
      "\n",
      "==================================================\n",
      "\n",
      "Text Description 21: The guy continues to swing his sword in the air until he hits the chandelier above, knocking out the lights, which causes him to stop playing with this sword.\n"
     ]
    },
    {
     "data": {
      "text/html": [
       "<video src=\"https://ubc-cv-sherlock.s3.us-west-2.amazonaws.com/oops/oops_val_v9/3363_A_preevent.mp4\" controls width=\"300\"></video> <video src=\"https://ubc-cv-sherlock.s3.us-west-2.amazonaws.com/oops/oops_val_v9/3363_C_postevent.mp4\" controls width=\"300\"></video> <video src=\"https://ubc-cv-sherlock.s3.us-west-2.amazonaws.com/oops/oops_val_v9/3363_B_event.mp4\" controls width=\"300\"></video>"
      ],
      "text/plain": [
       "<IPython.core.display.HTML object>"
      ]
     },
     "metadata": {},
     "output_type": "display_data"
    },
    {
     "name": "stdout",
     "output_type": "stream",
     "text": [
      "Metrics:\n",
      " Correctness Score: 5\n",
      "Correctness Reason: The explanation is a perfect description of the video\n",
      "Depth Score: 3\n",
      "Depth Reason: This is a description and doesn't really involve much depth in thought, though the description is succinct\n",
      "Grammar Score: 1\n",
      "Grammar Reason: The grammar is good\n",
      "Vis Score: 1\n",
      "Vis Reason: It is a perfect description of the video\n",
      "Detail Score: 5\n",
      "Detail Reason: The description is detailed\n",
      "\n",
      "==================================================\n",
      "\n",
      "Text Description 22: Groom drops the bride and she pulls him down to the floor on her way down\n"
     ]
    },
    {
     "data": {
      "text/html": [
       "<video src=\"https://ubc-cv-sherlock.s3.us-west-2.amazonaws.com/oops/oops_val_v9/3369_A_preevent.mp4\" controls width=\"300\"></video> <video src=\"https://ubc-cv-sherlock.s3.us-west-2.amazonaws.com/oops/oops_val_v9/3369_C_postevent.mp4\" controls width=\"300\"></video> <video src=\"https://ubc-cv-sherlock.s3.us-west-2.amazonaws.com/oops/oops_val_v9/3369_B_event.mp4\" controls width=\"300\"></video>"
      ],
      "text/plain": [
       "<IPython.core.display.HTML object>"
      ]
     },
     "metadata": {},
     "output_type": "display_data"
    },
    {
     "name": "stdout",
     "output_type": "stream",
     "text": [
      "Metrics:\n",
      " Correctness Score: 5\n",
      "Correctness Reason: I rated it a 5 because I personally think that the description is fully correct.\n",
      "Depth Score: 5\n",
      "Depth Reason: I rated it a 5 because I thought that there was sufficient reasoning to support the description. The video clearly shows the groom dropping the bride and they both fall because the bride pulls him down with her.\n",
      "Grammar Score: 1\n",
      "Grammar Reason: I did not see any grammatical errors in the description.\n",
      "Vis Score: 1\n",
      "Vis Reason: The description reasonably follows what is happening in the video.\n",
      "Detail Score: 5\n",
      "Detail Reason: I rated it a 5 because I believe that the description has a sufficient level of detail to easily identify and differentiate between the people (groom and bride) and other objects.\n",
      "\n",
      "==================================================\n",
      "\n",
      "Text Description 24: The man accidently flies his drone into the poster on the wall.  The drone automatically malfunctions and falls onto the floor.  The man with the remote expresses shock.\n"
     ]
    },
    {
     "data": {
      "text/html": [
       "<video src=\"https://ubc-cv-sherlock.s3.us-west-2.amazonaws.com/oops/oops_val_v9/3376_A_preevent.mp4\" controls width=\"300\"></video> <video src=\"https://ubc-cv-sherlock.s3.us-west-2.amazonaws.com/oops/oops_val_v9/3376_C_postevent.mp4\" controls width=\"300\"></video> <video src=\"https://ubc-cv-sherlock.s3.us-west-2.amazonaws.com/oops/oops_val_v9/3376_B_event.mp4\" controls width=\"300\"></video>"
      ],
      "text/plain": [
       "<IPython.core.display.HTML object>"
      ]
     },
     "metadata": {},
     "output_type": "display_data"
    },
    {
     "name": "stdout",
     "output_type": "stream",
     "text": [
      "Metrics:\n",
      " Correctness Score: 3\n",
      "Correctness Reason: While the broad outline of the event is correct, the drone does not fall because it 'automatically malfunctions,' but rather because its rotors hit the poster, the wall, the table, and then the floor.\n",
      "Depth Score: 3\n",
      "Depth Reason: The description lacks a clear account of the chain of events that caused the drone to fall.\n",
      "Grammar Score: 1\n",
      "Grammar Reason: The description is gramatically correct.\n",
      "Vis Score: 1\n",
      "Vis Reason: The description follows what takes place in the videos.\n",
      "Detail Score: 4\n",
      "Detail Reason: The description acks a specific description of why the drone falls. It is also not clear from the description where the event is taking place, which is a significant part of the context of the video.\n",
      "\n",
      "==================================================\n",
      "\n"
     ]
    },
    {
     "data": {
      "image/png": "[encoded data removed]",
      "text/plain": [
       "<Figure size 1200x800 with 6 Axes>"
      ]
     },
     "metadata": {},
     "output_type": "display_data"
    },
    {
     "name": "stdout",
     "output_type": "stream",
     "text": [
      "Average Vis Score: 0.93\n",
      "Average Depth Score: 3.60\n",
      "Average Grammar Score: 0.87\n",
      "Average Correctness Score: 3.93\n",
      "Average Detail Score: 3.67\n"
     ]
    }
   ],
   "source": [
    "task_config = 't3'  # change this to 't1', 't2', or 't3'\n",
    "# Load the CSV file\n",
    "visualize(task_config, t3_path)"
   ]
  }
 ],
 "metadata": {
  "kernelspec": {
   "display_name": "var",
   "language": "python",
   "name": "python3"
  },
  "language_info": {
   "codemirror_mode": {
    "name": "ipython",
    "version": 3
   },
   "file_extension": ".py",
   "mimetype": "text/x-python",
   "name": "python",
   "nbconvert_exporter": "python",
   "pygments_lexer": "ipython3",
   "version": "3.10.4"
  }
 },
 "nbformat": 4,
 "nbformat_minor": 2
}
