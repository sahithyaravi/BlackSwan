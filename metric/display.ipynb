{
 "cells": [
  {
   "cell_type": "code",
   "execution_count": 50,
   "metadata": {},
   "outputs": [],
   "source": [
    "import csv\n",
    "import pandas as pd\n",
    "import json\n",
    "import pprint"
   ]
  },
  {
   "cell_type": "code",
   "execution_count": 51,
   "metadata": {},
   "outputs": [],
   "source": [
    "with open('../gpt4/oops_val_v3_mf_2_metric.json') as f:\n",
    "    data_metrics = json.load(f)"
   ]
  },
  {
   "cell_type": "code",
   "execution_count": 65,
   "metadata": {},
   "outputs": [],
   "source": [
    "from IPython.display import Video, HTML\n",
    "def video_display(video_link):\n",
    "    # Embed the video using HTML\n",
    "    video_html = f\"<video controls src='{video_link}' width='500' height='400'>\"\n",
    "    display(HTML(video_html))"
   ]
  },
  {
   "cell_type": "code",
   "execution_count": 72,
   "metadata": {},
   "outputs": [
    {
     "name": "stdout",
     "output_type": "stream",
     "text": [
      "2\n"
     ]
    },
    {
     "data": {
      "text/html": [
       "<video controls src='https://ubc-cv-sherlock.s3.us-west-2.amazonaws.com/oops/oops_val_v3/756_A_preevent.mp4' width='500' height='400'>"
      ],
      "text/plain": [
       "<IPython.core.display.HTML object>"
      ]
     },
     "metadata": {},
     "output_type": "display_data"
    },
    {
     "name": "stdout",
     "output_type": "stream",
     "text": [
      "HUMAN ======================================\n",
      "the girl would hit the guy and run back to the room\n",
      "the girl keeps dancing towards her brother but he did'nt look back\n",
      "the guy looked back to see what is going on\n",
      "MODEL ======================================\n",
      "The individual on the floor gets up laughing revealing the fall was a harmless prank. The second person turns acknowledges the joke and they both laugh together.\n",
      "METRICS ====================================\n",
      "Action/Event Matching 1\n",
      "Context and Outcome 1\n",
      "Use of Similar Words/Phrases 1\n",
      "Detail Level 3\n",
      "Clarity of Actions/Events 5\n",
      "METRICS AVG ================================\n",
      "Avg Content Similarity: 1.0\n",
      "Avg Specificity: 4.0\n",
      "HUMAN RESULTS ===============================\n",
      "Content Similarity: 4\n",
      "Specificity: 1\n",
      "===========================================\n",
      "\n",
      "\n",
      "2\n"
     ]
    },
    {
     "data": {
      "text/html": [
       "<video controls src='https://ubc-cv-sherlock.s3.us-west-2.amazonaws.com/oops/oops_val_v3/756_A_preevent.mp4' width='500' height='400'>"
      ],
      "text/plain": [
       "<IPython.core.display.HTML object>"
      ]
     },
     "metadata": {},
     "output_type": "display_data"
    },
    {
     "name": "stdout",
     "output_type": "stream",
     "text": [
      "HUMAN ======================================\n",
      "the girl would hit the guy and run back to the room\n",
      "the girl keeps dancing towards her brother but he did'nt look back\n",
      "the guy looked back to see what is going on\n",
      "MODEL ======================================\n",
      "The person at the counter hears the fall quickly turns around with a concerned expression and rushes over to help the individual on the floor get up.\n",
      "METRICS ====================================\n",
      "Action/Event Matching 2\n",
      "Context and Outcome 2\n",
      "Use of Similar Words/Phrases 1\n",
      "Detail Level 4\n",
      "Clarity of Actions/Events 4\n",
      "METRICS AVG ================================\n",
      "Avg Content Similarity: 1.6666666666666667\n",
      "Avg Specificity: 4.0\n",
      "HUMAN RESULTS ===============================\n",
      "Content Similarity: 3\n",
      "Specificity: 1\n",
      "===========================================\n",
      "\n",
      "\n",
      "2\n"
     ]
    },
    {
     "data": {
      "text/html": [
       "<video controls src='https://ubc-cv-sherlock.s3.us-west-2.amazonaws.com/oops/oops_val_v3/756_A_preevent.mp4' width='500' height='400'>"
      ],
      "text/plain": [
       "<IPython.core.display.HTML object>"
      ]
     },
     "metadata": {},
     "output_type": "display_data"
    },
    {
     "name": "stdout",
     "output_type": "stream",
     "text": [
      "HUMAN ======================================\n",
      "the girl would hit the guy and run back to the room\n",
      "the girl keeps dancing towards her brother but he did'nt look back\n",
      "the guy looked back to see what is going on\n",
      "MODEL ======================================\n",
      "The person on the floor stays still prompting the second person to turn notice they are not moving and call out for help concerned for their well-being.\n",
      "METRICS ====================================\n",
      "Action/Event Matching 1\n",
      "Context and Outcome 2\n",
      "Use of Similar Words/Phrases 1\n",
      "Detail Level 3\n",
      "Clarity of Actions/Events 3\n",
      "METRICS AVG ================================\n",
      "Avg Content Similarity: 1.3333333333333333\n",
      "Avg Specificity: 3.0\n",
      "HUMAN RESULTS ===============================\n",
      "Content Similarity: 3\n",
      "Specificity: 3\n",
      "===========================================\n",
      "\n",
      "\n",
      "3\n"
     ]
    },
    {
     "data": {
      "text/html": [
       "<video controls src='https://ubc-cv-sherlock.s3.us-west-2.amazonaws.com/oops/oops_val_v3/759_A_preevent.mp4' width='500' height='400'>"
      ],
      "text/plain": [
       "<IPython.core.display.HTML object>"
      ]
     },
     "metadata": {},
     "output_type": "display_data"
    },
    {
     "name": "stdout",
     "output_type": "stream",
     "text": [
      "HUMAN ======================================\n",
      "The person holding the purple ball will fall backwards and land on their back.\n",
      "The two people will collide and bounce off each other which will lead to them falling over and landing on their backs\n",
      "The person with the green ball will bowl over the other person and they will fall down one on top of another\n",
      "MODEL ======================================\n",
      "The person balancing on the ball loses stability resulting in a fall and the ball rolling away creating a comical moment due to the unexpected loss of balance.\n",
      "METRICS ====================================\n",
      "Action/Event Matching 3\n",
      "Context and Outcome 2\n",
      "Use of Similar Words/Phrases 3\n",
      "Detail Level 2\n",
      "Clarity of Actions/Events 4\n",
      "METRICS AVG ================================\n",
      "Avg Content Similarity: 2.6666666666666665\n",
      "Avg Specificity: 3.0\n",
      "HUMAN RESULTS ===============================\n",
      "Content Similarity: 2\n",
      "Specificity: 3\n",
      "===========================================\n",
      "\n",
      "\n",
      "3\n"
     ]
    },
    {
     "data": {
      "text/html": [
       "<video controls src='https://ubc-cv-sherlock.s3.us-west-2.amazonaws.com/oops/oops_val_v3/759_A_preevent.mp4' width='500' height='400'>"
      ],
      "text/plain": [
       "<IPython.core.display.HTML object>"
      ]
     },
     "metadata": {},
     "output_type": "display_data"
    },
    {
     "name": "stdout",
     "output_type": "stream",
     "text": [
      "HUMAN ======================================\n",
      "The person holding the purple ball will fall backwards and land on their back.\n",
      "The two people will collide and bounce off each other which will lead to them falling over and landing on their backs\n",
      "The person with the green ball will bowl over the other person and they will fall down one on top of another\n",
      "MODEL ======================================\n",
      "The individual performs a surprise trick like a flip or a spin impressively maintaining balance on the ball showcasing agility and control in an office environment.\n",
      "METRICS ====================================\n",
      "Action/Event Matching 1\n",
      "Context and Outcome 1\n",
      "Use of Similar Words/Phrases 1\n",
      "Detail Level 3\n",
      "Clarity of Actions/Events 5\n",
      "METRICS AVG ================================\n",
      "Avg Content Similarity: 1.0\n",
      "Avg Specificity: 4.0\n",
      "HUMAN RESULTS ===============================\n",
      "Content Similarity: 3\n",
      "Specificity: 1\n",
      "===========================================\n",
      "\n",
      "\n",
      "3\n"
     ]
    },
    {
     "data": {
      "text/html": [
       "<video controls src='https://ubc-cv-sherlock.s3.us-west-2.amazonaws.com/oops/oops_val_v3/759_A_preevent.mp4' width='500' height='400'>"
      ],
      "text/plain": [
       "<IPython.core.display.HTML object>"
      ]
     },
     "metadata": {},
     "output_type": "display_data"
    },
    {
     "name": "stdout",
     "output_type": "stream",
     "text": [
      "HUMAN ======================================\n",
      "The person holding the purple ball will fall backwards and land on their back.\n",
      "The two people will collide and bounce off each other which will lead to them falling over and landing on their backs\n",
      "The person with the green ball will bowl over the other person and they will fall down one on top of another\n",
      "MODEL ======================================\n",
      "Another person enters catches the ball toss and they start a playful game of catch bringing a lighthearted break to the office routine.\n",
      "METRICS ====================================\n",
      "Action/Event Matching 2\n",
      "Context and Outcome 2\n",
      "Use of Similar Words/Phrases 1\n",
      "Detail Level 3\n",
      "Clarity of Actions/Events 4\n",
      "METRICS AVG ================================\n",
      "Avg Content Similarity: 1.6666666666666667\n",
      "Avg Specificity: 3.5\n",
      "HUMAN RESULTS ===============================\n",
      "Content Similarity: 4\n",
      "Specificity: 4\n",
      "===========================================\n",
      "\n",
      "\n",
      "4\n"
     ]
    },
    {
     "data": {
      "text/html": [
       "<video controls src='https://ubc-cv-sherlock.s3.us-west-2.amazonaws.com/oops/oops_val_v3/761_A_preevent.mp4' width='500' height='400'>"
      ],
      "text/plain": [
       "<IPython.core.display.HTML object>"
      ]
     },
     "metadata": {},
     "output_type": "display_data"
    },
    {
     "name": "stdout",
     "output_type": "stream",
     "text": [
      "HUMAN ======================================\n",
      "The person flails their arms in the air looking like they will land painfully but accidentally lands on their skis and continues down the slope.\n",
      "The person continues to lose control and lands painfully on their side. They then roll down the mountain on their side for many yards until their momentum stops.\n",
      "The person lands on their ski or their support ski pole and is impaled.\n",
      "MODEL ======================================\n",
      "The skier regains balance continues down the slope smoothly and safely comes to a stop or exits at the bottom.\n",
      "METRICS ====================================\n",
      "Action/Event Matching 2\n",
      "Context and Outcome 1\n",
      "Use of Similar Words/Phrases 2\n",
      "Detail Level 2\n",
      "Clarity of Actions/Events 5\n",
      "METRICS AVG ================================\n",
      "Avg Content Similarity: 1.6666666666666667\n",
      "Avg Specificity: 3.5\n",
      "HUMAN RESULTS ===============================\n",
      "Content Similarity: 1\n",
      "Specificity: 2\n",
      "===========================================\n",
      "\n",
      "\n",
      "4\n"
     ]
    },
    {
     "data": {
      "text/html": [
       "<video controls src='https://ubc-cv-sherlock.s3.us-west-2.amazonaws.com/oops/oops_val_v3/761_A_preevent.mp4' width='500' height='400'>"
      ],
      "text/plain": [
       "<IPython.core.display.HTML object>"
      ]
     },
     "metadata": {},
     "output_type": "display_data"
    },
    {
     "name": "stdout",
     "output_type": "stream",
     "text": [
      "HUMAN ======================================\n",
      "The person flails their arms in the air looking like they will land painfully but accidentally lands on their skis and continues down the slope.\n",
      "The person continues to lose control and lands painfully on their side. They then roll down the mountain on their side for many yards until their momentum stops.\n",
      "The person lands on their ski or their support ski pole and is impaled.\n",
      "MODEL ======================================\n",
      "The skier loses control falls and tumbles down the slope but comes to a halt without injury possibly with gear scattered.\n",
      "METRICS ====================================\n",
      "Action/Event Matching 3\n",
      "Context and Outcome 2\n",
      "Use of Similar Words/Phrases 3\n",
      "Detail Level 3\n",
      "Clarity of Actions/Events 4\n",
      "METRICS AVG ================================\n",
      "Avg Content Similarity: 2.6666666666666665\n",
      "Avg Specificity: 3.5\n",
      "HUMAN RESULTS ===============================\n",
      "Content Similarity: 4\n",
      "Specificity: 4\n",
      "===========================================\n",
      "\n",
      "\n",
      "4\n"
     ]
    },
    {
     "data": {
      "text/html": [
       "<video controls src='https://ubc-cv-sherlock.s3.us-west-2.amazonaws.com/oops/oops_val_v3/761_A_preevent.mp4' width='500' height='400'>"
      ],
      "text/plain": [
       "<IPython.core.display.HTML object>"
      ]
     },
     "metadata": {},
     "output_type": "display_data"
    },
    {
     "name": "stdout",
     "output_type": "stream",
     "text": [
      "HUMAN ======================================\n",
      "The person flails their arms in the air looking like they will land painfully but accidentally lands on their skis and continues down the slope.\n",
      "The person continues to lose control and lands painfully on their side. They then roll down the mountain on their side for many yards until their momentum stops.\n",
      "The person lands on their ski or their support ski pole and is impaled.\n",
      "MODEL ======================================\n",
      "Another skier object or terrain feature causes the skier to perform an evasive maneuver leading to a controlled stop or change in direction.\n",
      "METRICS ====================================\n",
      "Action/Event Matching 2\n",
      "Context and Outcome 2\n",
      "Use of Similar Words/Phrases 3\n",
      "Detail Level 2\n",
      "Clarity of Actions/Events 2\n",
      "METRICS AVG ================================\n",
      "Avg Content Similarity: 2.3333333333333335\n",
      "Avg Specificity: 2.0\n",
      "HUMAN RESULTS ===============================\n",
      "Content Similarity: 4\n",
      "Specificity: 3\n",
      "===========================================\n",
      "\n",
      "\n",
      "5\n"
     ]
    },
    {
     "data": {
      "text/html": [
       "<video controls src='https://ubc-cv-sherlock.s3.us-west-2.amazonaws.com/oops/oops_val_v3/766_A_preevent.mp4' width='500' height='400'>"
      ],
      "text/plain": [
       "<IPython.core.display.HTML object>"
      ]
     },
     "metadata": {},
     "output_type": "display_data"
    },
    {
     "name": "stdout",
     "output_type": "stream",
     "text": [
      "HUMAN ======================================\n",
      "The person attempting the handstand stretches out her legs up into the air (and out of the frame.\n",
      "The person attempting the handstand falls over onto the chairs behind.\n",
      "The person attempting the handstand wobbles then comes back out of the handstand from the direction she would have gone into it without any issues.\n",
      "MODEL ======================================\n",
      "The individual may lose balance during the headstand falling sideways onto the couch nearby as executing a stable headstand requires significant balance and core strength.\n",
      "METRICS ====================================\n",
      "Action/Event Matching 3\n",
      "Context and Outcome 4\n",
      "Use of Similar Words/Phrases 2\n",
      "Detail Level 3\n",
      "Clarity of Actions/Events 4\n",
      "METRICS AVG ================================\n",
      "Avg Content Similarity: 3.0\n",
      "Avg Specificity: 3.5\n",
      "HUMAN RESULTS ===============================\n",
      "Content Similarity: 1\n",
      "Specificity: 4\n",
      "===========================================\n",
      "\n",
      "\n",
      "5\n"
     ]
    },
    {
     "data": {
      "text/html": [
       "<video controls src='https://ubc-cv-sherlock.s3.us-west-2.amazonaws.com/oops/oops_val_v3/766_A_preevent.mp4' width='500' height='400'>"
      ],
      "text/plain": [
       "<IPython.core.display.HTML object>"
      ]
     },
     "metadata": {},
     "output_type": "display_data"
    },
    {
     "name": "stdout",
     "output_type": "stream",
     "text": [
      "HUMAN ======================================\n",
      "The person attempting the handstand stretches out her legs up into the air (and out of the frame.\n",
      "The person attempting the handstand falls over onto the chairs behind.\n",
      "The person attempting the handstand wobbles then comes back out of the handstand from the direction she would have gone into it without any issues.\n",
      "MODEL ======================================\n",
      "The person could gracefully transition out of the headstand to a seated position on the yoga mat showing control and expertise in yoga practice.\n",
      "METRICS ====================================\n",
      "Action/Event Matching 2\n",
      "Context and Outcome 3\n",
      "Use of Similar Words/Phrases 2\n",
      "Detail Level 3\n",
      "Clarity of Actions/Events 4\n",
      "METRICS AVG ================================\n",
      "Avg Content Similarity: 2.3333333333333335\n",
      "Avg Specificity: 3.5\n",
      "HUMAN RESULTS ===============================\n",
      "Content Similarity: 4\n",
      "Specificity: 4\n",
      "===========================================\n",
      "\n",
      "\n",
      "5\n"
     ]
    },
    {
     "data": {
      "text/html": [
       "<video controls src='https://ubc-cv-sherlock.s3.us-west-2.amazonaws.com/oops/oops_val_v3/766_A_preevent.mp4' width='500' height='400'>"
      ],
      "text/plain": [
       "<IPython.core.display.HTML object>"
      ]
     },
     "metadata": {},
     "output_type": "display_data"
    },
    {
     "name": "stdout",
     "output_type": "stream",
     "text": [
      "HUMAN ======================================\n",
      "The person attempting the handstand stretches out her legs up into the air (and out of the frame.\n",
      "The person attempting the handstand falls over onto the chairs behind.\n",
      "The person attempting the handstand wobbles then comes back out of the handstand from the direction she would have gone into it without any issues.\n",
      "MODEL ======================================\n",
      "Someone could enter the room accidentally bumping into the person performing the headstand causing an unexpected tumble and interruption of the exercise.\n",
      "METRICS ====================================\n",
      "Action/Event Matching 3\n",
      "Context and Outcome 4\n",
      "Use of Similar Words/Phrases 3\n",
      "Detail Level 4\n",
      "Clarity of Actions/Events 4\n",
      "METRICS AVG ================================\n",
      "Avg Content Similarity: 3.3333333333333335\n",
      "Avg Specificity: 4.0\n",
      "HUMAN RESULTS ===============================\n",
      "Content Similarity: 2\n",
      "Specificity: 4\n",
      "===========================================\n",
      "\n",
      "\n",
      "6\n"
     ]
    },
    {
     "data": {
      "text/html": [
       "<video controls src='https://ubc-cv-sherlock.s3.us-west-2.amazonaws.com/oops/oops_val_v3/767_A_preevent.mp4' width='500' height='400'>"
      ],
      "text/plain": [
       "<IPython.core.display.HTML object>"
      ]
     },
     "metadata": {},
     "output_type": "display_data"
    },
    {
     "name": "stdout",
     "output_type": "stream",
     "text": [
      "HUMAN ======================================\n",
      "Ball bounces off the wall and hits cameraman.\n",
      "Ball bounces off the wall and breaks a window\n",
      "Ball bounces off the wall hits another wall then hits the batter\n",
      "MODEL ======================================\n",
      "A person bumps into an object causing it to topple over after losing balance resulting in humorous commotion or a clumsy recovery attempt.\n",
      "METRICS ====================================\n",
      "Action/Event Matching 1\n",
      "Context and Outcome 1\n",
      "Use of Similar Words/Phrases 1\n",
      "Detail Level 3\n",
      "Clarity of Actions/Events 3\n",
      "METRICS AVG ================================\n",
      "Avg Content Similarity: 1.0\n",
      "Avg Specificity: 3.0\n",
      "HUMAN RESULTS ===============================\n",
      "Content Similarity: 1\n",
      "Specificity: 1\n",
      "===========================================\n",
      "\n",
      "\n",
      "6\n"
     ]
    },
    {
     "data": {
      "text/html": [
       "<video controls src='https://ubc-cv-sherlock.s3.us-west-2.amazonaws.com/oops/oops_val_v3/767_A_preevent.mp4' width='500' height='400'>"
      ],
      "text/plain": [
       "<IPython.core.display.HTML object>"
      ]
     },
     "metadata": {},
     "output_type": "display_data"
    },
    {
     "name": "stdout",
     "output_type": "stream",
     "text": [
      "HUMAN ======================================\n",
      "Ball bounces off the wall and hits cameraman.\n",
      "Ball bounces off the wall and breaks a window\n",
      "Ball bounces off the wall hits another wall then hits the batter\n",
      "MODEL ======================================\n",
      "The individual could successfully navigate around the obstacle briefly acknowledging the near-miss before continuing on unperturbed possibly to applause or laughter.\n",
      "METRICS ====================================\n",
      "Action/Event Matching 1\n",
      "Context and Outcome 1\n",
      "Use of Similar Words/Phrases 1\n",
      "Detail Level 2\n",
      "Clarity of Actions/Events 5\n",
      "METRICS AVG ================================\n",
      "Avg Content Similarity: 1.0\n",
      "Avg Specificity: 3.5\n",
      "HUMAN RESULTS ===============================\n",
      "Content Similarity: 1\n",
      "Specificity: 1\n",
      "===========================================\n",
      "\n",
      "\n",
      "6\n"
     ]
    },
    {
     "data": {
      "text/html": [
       "<video controls src='https://ubc-cv-sherlock.s3.us-west-2.amazonaws.com/oops/oops_val_v3/767_A_preevent.mp4' width='500' height='400'>"
      ],
      "text/plain": [
       "<IPython.core.display.HTML object>"
      ]
     },
     "metadata": {},
     "output_type": "display_data"
    },
    {
     "name": "stdout",
     "output_type": "stream",
     "text": [
      "HUMAN ======================================\n",
      "Ball bounces off the wall and hits cameraman.\n",
      "Ball bounces off the wall and breaks a window\n",
      "Ball bounces off the wall hits another wall then hits the batter\n",
      "MODEL ======================================\n",
      "They could deftly sidestep the hazard only to encounter a new unseen obstacle leading to a comedic chain reaction of slips or stumbles.\n",
      "METRICS ====================================\n",
      "Action/Event Matching 1\n",
      "Context and Outcome 1\n",
      "Use of Similar Words/Phrases 1\n",
      "Detail Level 3\n",
      "Clarity of Actions/Events 3\n",
      "METRICS AVG ================================\n",
      "Avg Content Similarity: 1.0\n",
      "Avg Specificity: 3.0\n",
      "HUMAN RESULTS ===============================\n",
      "Content Similarity: 4\n",
      "Specificity: 4\n",
      "===========================================\n",
      "\n",
      "\n"
     ]
    }
   ],
   "source": [
    "#filepath = 'assignments_334d6f79-ec35-4aed-bd24-8e6230e1042e.csv'\n",
    "filepath = 'assignments_7520a76d-7bc0-41af-9210-70cfc54c806b.csv'\n",
    "data = pd.read_csv(filepath)\n",
    "\n",
    "specificity_data_h = []\n",
    "content_data_h = []\n",
    "specificity_data_m = []\n",
    "content_data_m = []\n",
    "\n",
    "# Iterate through each row\n",
    "for index, row in data.iterrows():\n",
    "    if row[\"Status\"] != \"Returned\":\n",
    "        submitted_data = json.loads(row['Submitted Data'])\n",
    "        task_data = submitted_data[\"Data\"][\"taskData\"]\n",
    "\n",
    "        row_data  = json.loads(row['Task Data'])['RowData']\n",
    "        \n",
    "        for dm in data_metrics:\n",
    "            if dm['id'] == int(row_data[1]['CellData']):\n",
    "                task1_resp = [x['Explanation'].replace(',','') for x in dm['task1_responses']]\n",
    "                # Find index of row_data[6]['CellData'] in task1_resp\n",
    "                idx = task1_resp.index(row_data[6]['CellData'])\n",
    "                metrics = dm['metric']\n",
    "                #print(metrics)\n",
    "                if type(metrics) == list:\n",
    "                    metrics = metrics[idx]\n",
    "\n",
    "                print(row_data[1]['CellData'])\n",
    "                video_display(row_data[7]['CellData'])\n",
    "                print(\"HUMAN ======================================\")\n",
    "                print(row_data[3]['CellData'])\n",
    "                print(row_data[4]['CellData'])\n",
    "                print(row_data[5]['CellData'])\n",
    "                print(\"MODEL ======================================\")\n",
    "                print(row_data[6]['CellData'])\n",
    "                print(\"METRICS ====================================\")\n",
    "                specf = []\n",
    "                content = []\n",
    "                for key, value in metrics.items():\n",
    "                    print(key, value['Rating'])\n",
    "                    if key == 'Action/Event Matching' or key == 'Context and Outcome' or key == 'Use of Similar Words/Phrases':\n",
    "                        content.append(value['Rating'])\n",
    "                    elif key == 'Detail Level' or key == 'Clarity of Actions/Events':\n",
    "                        specf.append(value['Rating'])\n",
    "                print(\"METRICS AVG ================================\")\n",
    "                print(\"Avg Content Similarity:\", sum(content)/len(content))\n",
    "                print(\"Avg Specificity:\", sum(specf)/len(specf))\n",
    "                print(\"HUMAN RESULTS ===============================\")\n",
    "                print(\"Content Similarity:\", task_data['content_similarity1'])\n",
    "                print(\"Specificity:\", task_data['specificity1'])\n",
    "                #print(\"METRICS EXP ================================\")\n",
    "                #pprint.pp(metrics)\n",
    "                specificity_data_h.append(float(task_data['specificity1']))\n",
    "                content_data_h.append(float(task_data['content_similarity1']))\n",
    "                specificity_data_m.append(sum(specf)/len(specf))\n",
    "                content_data_m.append(sum(content)/len(content))\n",
    "                \n",
    "                print(\"===========================================\", end=\"\\n\\n\\n\")"
   ]
  },
  {
   "cell_type": "code",
   "execution_count": 63,
   "metadata": {},
   "outputs": [
    {
     "data": {
      "text/plain": [
       "PearsonRResult(statistic=-0.24530246452372237, pvalue=0.37820583204570596)"
      ]
     },
     "execution_count": 63,
     "metadata": {},
     "output_type": "execute_result"
    }
   ],
   "source": [
    "from scipy.stats import pearsonr   \n",
    "\n",
    "pearsonr(specificity_data_h,specificity_data_m)"
   ]
  },
  {
   "cell_type": "code",
   "execution_count": 64,
   "metadata": {},
   "outputs": [
    {
     "data": {
      "text/plain": [
       "PearsonRResult(statistic=-0.0654175710243518, pvalue=0.816826976398827)"
      ]
     },
     "execution_count": 64,
     "metadata": {},
     "output_type": "execute_result"
    }
   ],
   "source": [
    "pearsonr(content_data_h,content_data_m)"
   ]
  },
  {
   "cell_type": "code",
   "execution_count": 55,
   "metadata": {},
   "outputs": [
    {
     "name": "stdout",
     "output_type": "stream",
     "text": [
      "Human rating: [1.0, 1.0, 3.0, 3.0, 1.0, 4.0, 2.0, 4.0, 3.0, 4.0, 4.0, 4.0, 1.0, 1.0, 4.0]\n",
      "LLM   rating: [4.0, 4.0, 3.0, 3.0, 4.0, 3.5, 3.5, 3.5, 2.0, 3.5, 3.5, 4.0, 3.0, 3.5, 3.0]\n"
     ]
    }
   ],
   "source": [
    "print(\"Human rating:\", specificity_data_h)\n",
    "print(\"LLM   rating:\",specificity_data_m)"
   ]
  },
  {
   "cell_type": "code",
   "execution_count": 60,
   "metadata": {},
   "outputs": [
    {
     "name": "stdout",
     "output_type": "stream",
     "text": [
      "Human rating: [4.0, 2.0, 4.0, 3.0, 2.0, 3.0, 2.0, 1.0, 2.0, 2.0, 3.0, 2.0, 2.0, 2.0, 1.0]\n",
      "LLM   rating: [4.0, 3.0, 4.0, 3.0, 3.5, 3.5, 4.0, 3.5, 2.0, 3.5, 3.5, 4.0, 3.0, 3.5, 3.0]\n"
     ]
    }
   ],
   "source": [
    "print(\"Human rating:\", specificity_data_h)\n",
    "print(\"LLM   rating:\",specificity_data_m)"
   ]
  },
  {
   "cell_type": "code",
   "execution_count": 56,
   "metadata": {},
   "outputs": [
    {
     "name": "stdout",
     "output_type": "stream",
     "text": [
      "[4.0, 3.0, 3.0, 2.0, 3.0, 4.0, 1.0, 4.0, 4.0, 1.0, 4.0, 2.0, 1.0, 1.0, 4.0]\n",
      "[1.0, 1.7, 1.3, 2.7, 1.0, 1.7, 1.7, 2.7, 2.3, 3.0, 2.3, 3.3, 1.0, 1.0, 1.0]\n"
     ]
    }
   ],
   "source": [
    "print(content_data_h)\n",
    "print([round(x, 1) for x in content_data_m])"
   ]
  },
  {
   "cell_type": "code",
   "execution_count": 61,
   "metadata": {},
   "outputs": [
    {
     "name": "stdout",
     "output_type": "stream",
     "text": [
      "[2.0, 1.0, 4.0, 4.0, 2.0, 1.0, 1.0, 3.0, 1.0, 3.0, 2.0, 1.0, 1.0, 1.0, 2.0]\n",
      "[1.0, 1.3, 1.7, 2.7, 1.7, 1.7, 1.0, 2.7, 2.3, 3.0, 2.3, 3.3, 1.0, 1.0, 1.0]\n"
     ]
    }
   ],
   "source": [
    "print(content_data_h)\n",
    "print([round(x, 1) for x in content_data_m])"
   ]
  },
  {
   "cell_type": "code",
   "execution_count": null,
   "metadata": {},
   "outputs": [],
   "source": [
    "filepath = 'assignments_334d6f79-ec35-4aed-bd24-8e6230e1042e.csv'\n",
    "data = pd.read_csv(filepath)\n",
    "\n",
    "# Iterate through each row\n",
    "for index, row in data.iterrows():\n",
    "    if row[\"Status\"] != \"Returned\":\n",
    "        submitted_data = json.loads(row['Submitted Data'])\n",
    "        task_data = submitted_data[\"Data\"][\"taskData\"]\n",
    "\n",
    "        row_data  = json.loads(row['Task Data'])['RowData']\n",
    "        \n",
    "        print(row_data[1]['CellData'])\n",
    "        print(\"HUMAN ======================================\")\n",
    "        print(row_data[3]['CellData'])\n",
    "        print(row_data[4]['CellData'])\n",
    "        print(row_data[5]['CellData'])\n",
    "        print(\"MODEL ======================================\")\n",
    "        print(row_data[6]['CellData'])\n",
    "        print(\"RESULTS ====================================\")\n",
    "        print(\"Specificity:\", task_data['specificity1'])\n",
    "        print(\"Content Similarity:\", task_data['content_similarity1'])\n",
    "        \n",
    "        print(\"===========================================\", end=\"\\n\\n\\n\")"
   ]
  },
  {
   "cell_type": "code",
   "execution_count": null,
   "metadata": {},
   "outputs": [],
   "source": []
  }
 ],
 "metadata": {
  "kernelspec": {
   "display_name": "var",
   "language": "python",
   "name": "python3"
  },
  "language_info": {
   "codemirror_mode": {
    "name": "ipython",
    "version": 3
   },
   "file_extension": ".py",
   "mimetype": "text/x-python",
   "name": "python",
   "nbconvert_exporter": "python",
   "pygments_lexer": "ipython3",
   "version": "3.9.18"
  }
 },
 "nbformat": 4,
 "nbformat_minor": 2
}
