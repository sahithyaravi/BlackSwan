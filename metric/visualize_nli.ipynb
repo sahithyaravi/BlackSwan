{
 "cells": [
  {
   "cell_type": "code",
   "execution_count": 9,
   "metadata": {},
   "outputs": [],
   "source": [
    "import json\n",
    "from IPython.display import Video, HTML\n",
    "json_file = \"/h/sahiravi/VAR/nli_results.json\"\n",
    "with open(json_file, 'r') as f:\n",
    "    data = json.load(f)\n",
    "    "
   ]
  },
  {
   "cell_type": "code",
   "execution_count": 10,
   "metadata": {},
   "outputs": [],
   "source": [
    "def video_display(idx):\n",
    "    video_link = f\"https://ubc-cv-sherlock.s3.us-west-2.amazonaws.com/oops/oops_val_v3/{idx}\"\n",
    "\n",
    "    # Embed the video using HTML\n",
    "    video_html = f\"<video controls src='{video_link}' width='500' height='400'>\"\n",
    "    display(HTML(video_html))"
   ]
  },
  {
   "cell_type": "code",
   "execution_count": 15,
   "metadata": {},
   "outputs": [
    {
     "name": "stdout",
     "output_type": "stream",
     "text": [
      "Task 1:\n"
     ]
    },
    {
     "data": {
      "text/html": [
       "<video controls src='https://ubc-cv-sherlock.s3.us-west-2.amazonaws.com/oops/oops_val_v3/756_A_preevent.mp4' width='500' height='400'>"
      ],
      "text/plain": [
       "<IPython.core.display.HTML object>"
      ]
     },
     "metadata": {},
     "output_type": "display_data"
    },
    {
     "name": "stdout",
     "output_type": "stream",
     "text": [
      "[{'premise': 'A man is standing in a kitchen, preparing food. A woman is '\n",
      "             'standing in a kitchen, making a funny face, while a man is '\n",
      "             'washing dishes at A woman in a kitchen, standing next to a man '\n",
      "             'who is cooking. A young girl is standing in a kitchen, looking '\n",
      "             'at a man who is standing at the counter.',\n",
      "  'hypothesis': 'The individual on the floor gets up laughing, revealing the '\n",
      "                'fall was a harmless prank. The second person turns, '\n",
      "                'acknowledges the joke, and they both laugh together.',\n",
      "  'label': 'NEUTRAL',\n",
      "  'probabilities': [0.1616159975528717,\n",
      "                    0.8330608010292053,\n",
      "                    0.005323220510035753]},\n",
      " {'premise': 'A man is standing in a kitchen, preparing food. A woman is '\n",
      "             'standing in a kitchen, making a funny face, while a man is '\n",
      "             'washing dishes at A woman in a kitchen, standing next to a man '\n",
      "             'who is cooking. A young girl is standing in a kitchen, looking '\n",
      "             'at a man who is standing at the counter.',\n",
      "  'hypothesis': 'The person at the counter hears the fall, quickly turns '\n",
      "                'around with a concerned expression, and rushes over to help '\n",
      "                'the individual on the floor get up.',\n",
      "  'label': 'NEUTRAL',\n",
      "  'probabilities': [0.22339646518230438,\n",
      "                    0.7746837735176086,\n",
      "                    0.00191971636377275]},\n",
      " {'premise': 'A man is standing in a kitchen, preparing food. A woman is '\n",
      "             'standing in a kitchen, making a funny face, while a man is '\n",
      "             'washing dishes at A woman in a kitchen, standing next to a man '\n",
      "             'who is cooking. A young girl is standing in a kitchen, looking '\n",
      "             'at a man who is standing at the counter.',\n",
      "  'hypothesis': 'The person on the floor stays still, prompting the second '\n",
      "                'person to turn, notice they are not moving, and call out for '\n",
      "                'help, concerned for their well-being.',\n",
      "  'label': 'CONTRADICTION',\n",
      "  'probabilities': [0.897831380367279,\n",
      "                    0.095762237906456,\n",
      "                    0.006406410131603479]}]\n",
      "Task 2:\n"
     ]
    },
    {
     "data": {
      "text/html": [
       "<video controls src='https://ubc-cv-sherlock.s3.us-west-2.amazonaws.com/oops/oops_val_v3/756_C_postevent.mp4' width='500' height='400'>"
      ],
      "text/plain": [
       "<IPython.core.display.HTML object>"
      ]
     },
     "metadata": {},
     "output_type": "display_data"
    },
    {
     "name": "stdout",
     "output_type": "stream",
     "text": [
      "[{'premise': 'A man is standing in a kitchen, preparing food. A woman is '\n",
      "             'standing in a kitchen, making a funny face, while a man is '\n",
      "             'washing dishes at A woman in a kitchen, standing next to a man '\n",
      "             'who is cooking. A young girl is standing in a kitchen, looking '\n",
      "             'at a man who is standing at the counter. A person is lying on '\n",
      "             'the floor in a kitchen. A girl is lying on the floor in a '\n",
      "             'kitchen. A woman is lying on the floor in a kitchen. A person is '\n",
      "             'lying on the floor in a kitchen.',\n",
      "  'hypothesis': 'While dancing, the individual unexpectedly trips and falls to '\n",
      "                'the floor, resulting in the person at the counter turning '\n",
      "                'around in reaction to the commotion.',\n",
      "  'label': 'NEUTRAL',\n",
      "  'probabilities': [0.03556814044713974,\n",
      "                    0.960623562335968,\n",
      "                    0.003808350535109639]},\n",
      " {'premise': 'A man is standing in a kitchen, preparing food. A woman is '\n",
      "             'standing in a kitchen, making a funny face, while a man is '\n",
      "             'washing dishes at A woman in a kitchen, standing next to a man '\n",
      "             'who is cooking. A young girl is standing in a kitchen, looking '\n",
      "             'at a man who is standing at the counter. A person is lying on '\n",
      "             'the floor in a kitchen. A girl is lying on the floor in a '\n",
      "             'kitchen. A woman is lying on the floor in a kitchen. A person is '\n",
      "             'lying on the floor in a kitchen.',\n",
      "  'hypothesis': 'The person loses their balance while attempting a dance move, '\n",
      "                'causing a noisy fall, which makes the individual at the '\n",
      "                'counter turn to assess the situation.',\n",
      "  'label': 'NEUTRAL',\n",
      "  'probabilities': [0.2275853157043457,\n",
      "                    0.7680315971374512,\n",
      "                    0.0043830787762999535]},\n",
      " {'premise': 'A man is standing in a kitchen, preparing food. A woman is '\n",
      "             'standing in a kitchen, making a funny face, while a man is '\n",
      "             'washing dishes at A woman in a kitchen, standing next to a man '\n",
      "             'who is cooking. A young girl is standing in a kitchen, looking '\n",
      "             'at a man who is standing at the counter. A person is lying on '\n",
      "             'the floor in a kitchen. A girl is lying on the floor in a '\n",
      "             'kitchen. A woman is lying on the floor in a kitchen. A person is '\n",
      "             'lying on the floor in a kitchen.',\n",
      "  'hypothesis': 'The individual tries to jump during the dance, lands '\n",
      "                'awkwardly, falls, and the sudden noise draws the attention of '\n",
      "                'the person working at the counter.',\n",
      "  'label': 'NEUTRAL',\n",
      "  'probabilities': [0.19945336878299713,\n",
      "                    0.790091335773468,\n",
      "                    0.010455296374857426]}]\n",
      "Task 3:\n"
     ]
    },
    {
     "data": {
      "text/html": [
       "<video controls src='https://ubc-cv-sherlock.s3.us-west-2.amazonaws.com/oops/oops_val_v3/756_B_event.mp4' width='500' height='400'>"
      ],
      "text/plain": [
       "<IPython.core.display.HTML object>"
      ]
     },
     "metadata": {},
     "output_type": "display_data"
    },
    {
     "name": "stdout",
     "output_type": "stream",
     "text": [
      "[{'premise': 'A man is standing in a kitchen, preparing food. A woman is standing in a kitchen, making a funny face, while a man is washing dishes at A woman in a kitchen, standing next to a man who is cooking. A young girl is standing in a kitchen, looking at a man who is standing at the counter. A young girl is standing in a kitchen, looking at a man who is standing at the counter. A man and a child are in a kitchen, with the man standing at the counter and the child A person is lying on the floor in a kitchen. A person is lying on the floor in a kitchen. A person is lying on the floor in a kitchen. A girl is lying on the floor in a kitchen. A woman is lying on the floor in a kitchen. A person is lying on the floor in a kitchen.', 'hypothesis': 'The individual is dancing in the kitchen, loses their footing, and falls. The noise alerts the other person, who turns to look.', 'label': 'CONTRADICTION', 'probabilities': [0.632755696773529, 0.36409980058670044, 0.0031445312779396772]}, {'premise': 'A man is standing in a kitchen, preparing food. A woman is standing in a kitchen, making a funny face, while a man is washing dishes at A woman in a kitchen, standing next to a man who is cooking. A young girl is standing in a kitchen, looking at a man who is standing at the counter. A young girl is standing in a kitchen, looking at a man who is standing at the counter. A man and a child are in a kitchen, with the man standing at the counter and the child A person is lying on the floor in a kitchen. A person is lying on the floor in a kitchen. A person is lying on the floor in a kitchen. A girl is lying on the floor in a kitchen. A woman is lying on the floor in a kitchen. A person is lying on the floor in a kitchen.', 'hypothesis': 'A misstep while dancing causes the person to trip and fall, capturing the attention of the second person in the kitchen.', 'label': 'NEUTRAL', 'probabilities': [0.041375771164894104, 0.9557767510414124, 0.0028473574202507734]}, {'premise': 'A man is standing in a kitchen, preparing food. A woman is standing in a kitchen, making a funny face, while a man is washing dishes at A woman in a kitchen, standing next to a man who is cooking. A young girl is standing in a kitchen, looking at a man who is standing at the counter. A young girl is standing in a kitchen, looking at a man who is standing at the counter. A man and a child are in a kitchen, with the man standing at the counter and the child A person is lying on the floor in a kitchen. A person is lying on the floor in a kitchen. A person is lying on the floor in a kitchen. A girl is lying on the floor in a kitchen. A woman is lying on the floor in a kitchen. A person is lying on the floor in a kitchen.', 'hypothesis': 'Attempting a dance move, the person falls to the ground, prompting a reaction from the nearby individual.', 'label': 'NEUTRAL', 'probabilities': [0.01605670526623726, 0.9279579520225525, 0.055985432118177414]}]\n",
      "Task 1:\n"
     ]
    },
    {
     "data": {
      "text/html": [
       "<video controls src='https://ubc-cv-sherlock.s3.us-west-2.amazonaws.com/oops/oops_val_v3/759_A_preevent.mp4' width='500' height='400'>"
      ],
      "text/plain": [
       "<IPython.core.display.HTML object>"
      ]
     },
     "metadata": {},
     "output_type": "display_data"
    },
    {
     "name": "stdout",
     "output_type": "stream",
     "text": [
      "[{'premise': 'A person is upside down in a room with various objects, '\n",
      "             'including chairs, a couch, and A person is upside down in a room '\n",
      "             'with various objects, including exercise balls and office '\n",
      "             'equipment. A person is upside down in a room with various '\n",
      "             'objects, including exercise balls and a couch. A person is '\n",
      "             'upside down in a room with various objects, including a couch, '\n",
      "             'chairs, and',\n",
      "  'hypothesis': 'The person balancing on the ball loses stability, resulting '\n",
      "                'in a fall and the ball rolling away, creating a comical '\n",
      "                'moment due to the unexpected loss of balance.',\n",
      "  'label': 'NEUTRAL',\n",
      "  'probabilities': [0.006214419845491648,\n",
      "                    0.992713987827301,\n",
      "                    0.0010715611279010773]},\n",
      " {'premise': 'A person is upside down in a room with various objects, '\n",
      "             'including chairs, a couch, and A person is upside down in a room '\n",
      "             'with various objects, including exercise balls and office '\n",
      "             'equipment. A person is upside down in a room with various '\n",
      "             'objects, including exercise balls and a couch. A person is '\n",
      "             'upside down in a room with various objects, including a couch, '\n",
      "             'chairs, and',\n",
      "  'hypothesis': 'The individual performs a surprise trick, like a flip or a '\n",
      "                'spin, impressively maintaining balance on the ball, '\n",
      "                'showcasing agility and control in an office environment.',\n",
      "  'label': 'NEUTRAL',\n",
      "  'probabilities': [0.005723673850297928,\n",
      "                    0.993435263633728,\n",
      "                    0.0008410254959017038]},\n",
      " {'premise': 'A person is upside down in a room with various objects, '\n",
      "             'including chairs, a couch, and A person is upside down in a room '\n",
      "             'with various objects, including exercise balls and office '\n",
      "             'equipment. A person is upside down in a room with various '\n",
      "             'objects, including exercise balls and a couch. A person is '\n",
      "             'upside down in a room with various objects, including a couch, '\n",
      "             'chairs, and',\n",
      "  'hypothesis': 'Another person enters, catches the ball toss, and they start '\n",
      "                'a playful game of catch, bringing a lighthearted break to the '\n",
      "                'office routine.',\n",
      "  'label': 'NEUTRAL',\n",
      "  'probabilities': [0.044079676270484924,\n",
      "                    0.9547250866889954,\n",
      "                    0.0011952896602451801]}]\n",
      "Task 2:\n"
     ]
    },
    {
     "data": {
      "text/html": [
       "<video controls src='https://ubc-cv-sherlock.s3.us-west-2.amazonaws.com/oops/oops_val_v3/759_C_postevent.mp4' width='500' height='400'>"
      ],
      "text/plain": [
       "<IPython.core.display.HTML object>"
      ]
     },
     "metadata": {},
     "output_type": "display_data"
    },
    {
     "name": "stdout",
     "output_type": "stream",
     "text": [
      "[{'premise': 'A person is upside down in a room with various objects, '\n",
      "             'including chairs, a couch, and A person is upside down in a room '\n",
      "             'with various objects, including exercise balls and office '\n",
      "             'equipment. A person is upside down in a room with various '\n",
      "             'objects, including exercise balls and a couch. A person is '\n",
      "             'upside down in a room with various objects, including a couch, '\n",
      "             'chairs, and The frame shows an upside-down view of a room with '\n",
      "             'various objects, including chairs, a The frame shows an '\n",
      "             'upside-down view of a room with various objects, including '\n",
      "             'chairs, a The image is an upside-down photograph of a room with '\n",
      "             'various objects, including chairs, a The image is an upside-down '\n",
      "             'photograph of a room with various objects, including a desk,',\n",
      "  'hypothesis': 'Both individuals maintain balance on exercise balls, '\n",
      "                'suggesting an office challenge or workout routine, indicating '\n",
      "                'a fun break or team-building exercise in progress.',\n",
      "  'label': 'NEUTRAL',\n",
      "  'probabilities': [0.21506203711032867,\n",
      "                    0.7790785431861877,\n",
      "                    0.005859477911144495]},\n",
      " {'premise': 'A person is upside down in a room with various objects, '\n",
      "             'including chairs, a couch, and A person is upside down in a room '\n",
      "             'with various objects, including exercise balls and office '\n",
      "             'equipment. A person is upside down in a room with various '\n",
      "             'objects, including exercise balls and a couch. A person is '\n",
      "             'upside down in a room with various objects, including a couch, '\n",
      "             'chairs, and The frame shows an upside-down view of a room with '\n",
      "             'various objects, including chairs, a The frame shows an '\n",
      "             'upside-down view of a room with various objects, including '\n",
      "             'chairs, a The image is an upside-down photograph of a room with '\n",
      "             'various objects, including chairs, a The image is an upside-down '\n",
      "             'photograph of a room with various objects, including a desk,',\n",
      "  'hypothesis': 'Both persons showcase remarkable balance on the balls, which '\n",
      "                'could be part of an office fitness initiative, stress relief '\n",
      "                'activity, or a playful competition between coworkers.',\n",
      "  'label': 'NEUTRAL',\n",
      "  'probabilities': [0.0025726864114403725,\n",
      "                    0.9963994026184082,\n",
      "                    0.001027947524562478]},\n",
      " {'premise': 'A person is upside down in a room with various objects, '\n",
      "             'including chairs, a couch, and A person is upside down in a room '\n",
      "             'with various objects, including exercise balls and office '\n",
      "             'equipment. A person is upside down in a room with various '\n",
      "             'objects, including exercise balls and a couch. A person is '\n",
      "             'upside down in a room with various objects, including a couch, '\n",
      "             'chairs, and The frame shows an upside-down view of a room with '\n",
      "             'various objects, including chairs, a The frame shows an '\n",
      "             'upside-down view of a room with various objects, including '\n",
      "             'chairs, a The image is an upside-down photograph of a room with '\n",
      "             'various objects, including chairs, a The image is an upside-down '\n",
      "             'photograph of a room with various objects, including a desk,',\n",
      "  'hypothesis': 'The video likely ends with no falls, as both participants '\n",
      "                'seem stable, implying they’re either skilled at this activity '\n",
      "                'or it’s a staged, humorous situation for entertainment.',\n",
      "  'label': 'NEUTRAL',\n",
      "  'probabilities': [0.2953106164932251,\n",
      "                    0.7025982737541199,\n",
      "                    0.0020911432802677155]}]\n",
      "Task 3:\n"
     ]
    },
    {
     "data": {
      "text/html": [
       "<video controls src='https://ubc-cv-sherlock.s3.us-west-2.amazonaws.com/oops/oops_val_v3/759_B_event.mp4' width='500' height='400'>"
      ],
      "text/plain": [
       "<IPython.core.display.HTML object>"
      ]
     },
     "metadata": {},
     "output_type": "display_data"
    },
    {
     "name": "stdout",
     "output_type": "stream",
     "text": [
      "[{'premise': 'A person is upside down in a room with various objects, including chairs, a couch, and A person is upside down in a room with various objects, including exercise balls and office equipment. A person is upside down in a room with various objects, including exercise balls and a couch. A person is upside down in a room with various objects, including a couch, chairs, and A person is upside down in a room with various objects, including exercise balls and office equipment. The image shows an upside-down view of a room with various pieces of furniture and equipment, The frame shows an upside-down view of a room with various pieces of furniture and equipment. The image shows an upside-down view of a room with various objects, including chairs, a The frame shows an upside-down view of a room with various objects, including chairs, a The frame shows an upside-down view of a room with various objects, including chairs, a The image is an upside-down photograph of a room with various objects, including chairs, a The image is an upside-down photograph of a room with various objects, including a desk,', 'hypothesis': 'One person balances on an exercise ball in an office setting, seemingly unphased by the challenging position, demonstrating skill or participating in a humorous activity.', 'label': 'NEUTRAL', 'probabilities': [0.07865139842033386, 0.9072060585021973, 0.014142545871436596]}, {'premise': 'A person is upside down in a room with various objects, including chairs, a couch, and A person is upside down in a room with various objects, including exercise balls and office equipment. A person is upside down in a room with various objects, including exercise balls and a couch. A person is upside down in a room with various objects, including a couch, chairs, and A person is upside down in a room with various objects, including exercise balls and office equipment. The image shows an upside-down view of a room with various pieces of furniture and equipment, The frame shows an upside-down view of a room with various pieces of furniture and equipment. The image shows an upside-down view of a room with various objects, including chairs, a The frame shows an upside-down view of a room with various objects, including chairs, a The frame shows an upside-down view of a room with various objects, including chairs, a The image is an upside-down photograph of a room with various objects, including chairs, a The image is an upside-down photograph of a room with various objects, including a desk,', 'hypothesis': 'The individual exhibited stability while balancing on a ball, hinting at a coordinated effort, possibly a friendly competition or collaborative physical exercise in the workplace.', 'label': 'NEUTRAL', 'probabilities': [0.10080759972333908, 0.8939387798309326, 0.005253611132502556]}, {'premise': 'A person is upside down in a room with various objects, including chairs, a couch, and A person is upside down in a room with various objects, including exercise balls and office equipment. A person is upside down in a room with various objects, including exercise balls and a couch. A person is upside down in a room with various objects, including a couch, chairs, and A person is upside down in a room with various objects, including exercise balls and office equipment. The image shows an upside-down view of a room with various pieces of furniture and equipment, The frame shows an upside-down view of a room with various pieces of furniture and equipment. The image shows an upside-down view of a room with various objects, including chairs, a The frame shows an upside-down view of a room with various objects, including chairs, a The frame shows an upside-down view of a room with various objects, including chairs, a The image is an upside-down photograph of a room with various objects, including chairs, a The image is an upside-down photograph of a room with various objects, including a desk,', 'hypothesis': 'The scenario likely continues with the person on the exercise ball maintaining their composure, suggesting an office culture that embraces fun and physical wellness activities.', 'label': 'NEUTRAL', 'probabilities': [0.01873866096138954, 0.9788539409637451, 0.0024073831737041473]}]\n",
      "Task 1:\n"
     ]
    },
    {
     "data": {
      "text/html": [
       "<video controls src='https://ubc-cv-sherlock.s3.us-west-2.amazonaws.com/oops/oops_val_v3/761_A_preevent.mp4' width='500' height='400'>"
      ],
      "text/plain": [
       "<IPython.core.display.HTML object>"
      ]
     },
     "metadata": {},
     "output_type": "display_data"
    },
    {
     "name": "stdout",
     "output_type": "stream",
     "text": [
      "[{'premise': 'A person skiing down a snowy mountain slope. A person skiing '\n",
      "             'down a snowy mountain slope. A person is skiing down a snowy '\n",
      "             'mountain slope. A skier is captured in mid-air, performing a '\n",
      "             'jump over a snowy mountain slope.',\n",
      "  'hypothesis': 'The skier regains balance, continues down the slope smoothly, '\n",
      "                'and safely comes to a stop or exits at the bottom.',\n",
      "  'label': 'NEUTRAL',\n",
      "  'probabilities': [0.3557976484298706,\n",
      "                    0.6416991949081421,\n",
      "                    0.0025031687691807747]},\n",
      " {'premise': 'A person skiing down a snowy mountain slope. A person skiing '\n",
      "             'down a snowy mountain slope. A person is skiing down a snowy '\n",
      "             'mountain slope. A skier is captured in mid-air, performing a '\n",
      "             'jump over a snowy mountain slope.',\n",
      "  'hypothesis': 'The skier loses control, falls, and tumbles down the slope '\n",
      "                'but comes to a halt without injury, possibly with gear '\n",
      "                'scattered.',\n",
      "  'label': 'NEUTRAL',\n",
      "  'probabilities': [0.030792944133281708,\n",
      "                    0.9680820107460022,\n",
      "                    0.0011250635143369436]},\n",
      " {'premise': 'A person skiing down a snowy mountain slope. A person skiing '\n",
      "             'down a snowy mountain slope. A person is skiing down a snowy '\n",
      "             'mountain slope. A skier is captured in mid-air, performing a '\n",
      "             'jump over a snowy mountain slope.',\n",
      "  'hypothesis': 'Another skier, object, or terrain feature causes the skier to '\n",
      "                'perform an evasive maneuver, leading to a controlled stop or '\n",
      "                'change in direction.',\n",
      "  'label': 'NEUTRAL',\n",
      "  'probabilities': [0.14134611189365387,\n",
      "                    0.8156629204750061,\n",
      "                    0.042990922927856445]}]\n",
      "Task 2:\n"
     ]
    },
    {
     "data": {
      "text/html": [
       "<video controls src='https://ubc-cv-sherlock.s3.us-west-2.amazonaws.com/oops/oops_val_v3/761_C_postevent.mp4' width='500' height='400'>"
      ],
      "text/plain": [
       "<IPython.core.display.HTML object>"
      ]
     },
     "metadata": {},
     "output_type": "display_data"
    },
    {
     "name": "stdout",
     "output_type": "stream",
     "text": [
      "[{'premise': 'A person skiing down a snowy mountain slope. A person skiing '\n",
      "             'down a snowy mountain slope. A person is skiing down a snowy '\n",
      "             'mountain slope. A skier is captured in mid-air, performing a '\n",
      "             'jump over a snowy mountain slope. A person is falling down a '\n",
      "             'snowy hill. The image is a black and white photograph of a snowy '\n",
      "             'landscape with a person in the distance. This is a black and '\n",
      "             'white image of a snowy landscape with a bird flying in the '\n",
      "             'foreground A snowy landscape with a bird flying in the '\n",
      "             'foreground.',\n",
      "  'hypothesis': 'The skier loses balance and falls, tumbling down the slope, '\n",
      "                'which results in a crash with skis detached, but appears '\n",
      "                'uninjured.',\n",
      "  'label': 'NEUTRAL',\n",
      "  'probabilities': [0.04434192180633545,\n",
      "                    0.9506800770759583,\n",
      "                    0.004977998789399862]},\n",
      " {'premise': 'A person skiing down a snowy mountain slope. A person skiing '\n",
      "             'down a snowy mountain slope. A person is skiing down a snowy '\n",
      "             'mountain slope. A skier is captured in mid-air, performing a '\n",
      "             'jump over a snowy mountain slope. A person is falling down a '\n",
      "             'snowy hill. The image is a black and white photograph of a snowy '\n",
      "             'landscape with a person in the distance. This is a black and '\n",
      "             'white image of a snowy landscape with a bird flying in the '\n",
      "             'foreground A snowy landscape with a bird flying in the '\n",
      "             'foreground.',\n",
      "  'hypothesis': \"No recovery occurs as the skier's loss of control leads to \"\n",
      "                'falling and sliding down the slope, implying a possible '\n",
      "                'skiing mishap.',\n",
      "  'label': 'CONTRADICTION',\n",
      "  'probabilities': [0.48676639795303345,\n",
      "                    0.46516668796539307,\n",
      "                    0.04806694760918617]},\n",
      " {'premise': 'A person skiing down a snowy mountain slope. A person skiing '\n",
      "             'down a snowy mountain slope. A person is skiing down a snowy '\n",
      "             'mountain slope. A skier is captured in mid-air, performing a '\n",
      "             'jump over a snowy mountain slope. A person is falling down a '\n",
      "             'snowy hill. The image is a black and white photograph of a snowy '\n",
      "             'landscape with a person in the distance. This is a black and '\n",
      "             'white image of a snowy landscape with a bird flying in the '\n",
      "             'foreground A snowy landscape with a bird flying in the '\n",
      "             'foreground.',\n",
      "  'hypothesis': 'The sequence of actions shows the skier unable to maintain '\n",
      "                'stability, leading to a wipeout and halt without encountering '\n",
      "                'any other skiers or objects.',\n",
      "  'label': 'NEUTRAL',\n",
      "  'probabilities': [0.1522776037454605,\n",
      "                    0.7545218467712402,\n",
      "                    0.09320055693387985]}]\n",
      "Task 3:\n"
     ]
    },
    {
     "data": {
      "text/html": [
       "<video controls src='https://ubc-cv-sherlock.s3.us-west-2.amazonaws.com/oops/oops_val_v3/761_B_event.mp4' width='500' height='400'>"
      ],
      "text/plain": [
       "<IPython.core.display.HTML object>"
      ]
     },
     "metadata": {},
     "output_type": "display_data"
    },
    {
     "name": "stdout",
     "output_type": "stream",
     "text": [
      "[{'premise': 'A person skiing down a snowy mountain slope. A person skiing down a snowy mountain slope. A person is skiing down a snowy mountain slope. A skier is captured in mid-air, performing a jump over a snowy mountain slope. A person is skiing down a snowy mountain slope. A snowboarder is captured in mid-air after a jump, with a blurry background. The image is a still from a video, showing a snowy landscape with a person skiing down A person is falling down a snowy hill. A person is falling down a snowy hill. The image is a black and white photograph of a snowy landscape with a person in the distance. This is a black and white image of a snowy landscape with a bird flying in the foreground A snowy landscape with a bird flying in the foreground.', 'hypothesis': \"Skier's balance is compromised, resulting in a fall and uncontrolled descent down the slope, concluding with a wipeout and stationary ending amidst the snow.\", 'label': 'NEUTRAL', 'probabilities': [0.07828016579151154, 0.8830662369728088, 0.03865369036793709]}]\n",
      "Task 1:\n"
     ]
    },
    {
     "data": {
      "text/html": [
       "<video controls src='https://ubc-cv-sherlock.s3.us-west-2.amazonaws.com/oops/oops_val_v3/766_A_preevent.mp4' width='500' height='400'>"
      ],
      "text/plain": [
       "<IPython.core.display.HTML object>"
      ]
     },
     "metadata": {},
     "output_type": "display_data"
    },
    {
     "name": "stdout",
     "output_type": "stream",
     "text": [
      "[{'premise': 'A woman is upside down, doing a handstand on a yoga mat. A woman '\n",
      "             'is upside down, doing a handstand, in a room with a couch and a '\n",
      "             'A woman is upside down, doing a handstand on a yoga mat. A woman '\n",
      "             'is upside down in a room, doing a handstand on a yoga mat.',\n",
      "  'hypothesis': 'The individual may lose balance during the headstand, falling '\n",
      "                'sideways onto the couch nearby, as executing a stable '\n",
      "                'headstand requires significant balance and core strength.',\n",
      "  'label': 'NEUTRAL',\n",
      "  'probabilities': [0.0011278067249804735,\n",
      "                    0.9970830082893372,\n",
      "                    0.0017892617033794522]},\n",
      " {'premise': 'A woman is upside down, doing a handstand on a yoga mat. A woman '\n",
      "             'is upside down, doing a handstand, in a room with a couch and a '\n",
      "             'A woman is upside down, doing a handstand on a yoga mat. A woman '\n",
      "             'is upside down in a room, doing a handstand on a yoga mat.',\n",
      "  'hypothesis': 'The person could gracefully transition out of the headstand '\n",
      "                'to a seated position on the yoga mat, showing control and '\n",
      "                'expertise in yoga practice.',\n",
      "  'label': 'NEUTRAL',\n",
      "  'probabilities': [0.001327834208495915,\n",
      "                    0.9977152347564697,\n",
      "                    0.0009569523972459137]},\n",
      " {'premise': 'A woman is upside down, doing a handstand on a yoga mat. A woman '\n",
      "             'is upside down, doing a handstand, in a room with a couch and a '\n",
      "             'A woman is upside down, doing a handstand on a yoga mat. A woman '\n",
      "             'is upside down in a room, doing a handstand on a yoga mat.',\n",
      "  'hypothesis': 'Someone could enter the room, accidentally bumping into the '\n",
      "                'person performing the headstand, causing an unexpected tumble '\n",
      "                'and interruption of the exercise.',\n",
      "  'label': 'NEUTRAL',\n",
      "  'probabilities': [0.0007271594949997962,\n",
      "                    0.9974839687347412,\n",
      "                    0.0017889316659420729]}]\n",
      "Task 2:\n"
     ]
    },
    {
     "data": {
      "text/html": [
       "<video controls src='https://ubc-cv-sherlock.s3.us-west-2.amazonaws.com/oops/oops_val_v3/766_C_postevent.mp4' width='500' height='400'>"
      ],
      "text/plain": [
       "<IPython.core.display.HTML object>"
      ]
     },
     "metadata": {},
     "output_type": "display_data"
    },
    {
     "name": "stdout",
     "output_type": "stream",
     "text": [
      "[{'premise': 'A woman is upside down, doing a handstand on a yoga mat. A woman '\n",
      "             'is upside down, doing a handstand, in a room with a couch and a '\n",
      "             'A woman is upside down, doing a handstand on a yoga mat. A woman '\n",
      "             'is upside down in a room, doing a handstand on a yoga mat. A '\n",
      "             'woman is lying on the floor in a living room, smiling and '\n",
      "             'looking up at the camera. A woman is doing a handstand in a '\n",
      "             'living room. A woman is stretching on the floor in a living '\n",
      "             'room. A woman is upside down on a yoga mat, smiling and looking '\n",
      "             'at the camera.',\n",
      "  'hypothesis': 'The individual failed to maintain the headstand, causing a '\n",
      "                'fall and ending up lying on the yoga mat due to balance loss.',\n",
      "  'label': 'NEUTRAL',\n",
      "  'probabilities': [0.23995311558246613,\n",
      "                    0.7575052380561829,\n",
      "                    0.0025415930431336164]},\n",
      " {'premise': 'A woman is upside down, doing a handstand on a yoga mat. A woman '\n",
      "             'is upside down, doing a handstand, in a room with a couch and a '\n",
      "             'A woman is upside down, doing a handstand on a yoga mat. A woman '\n",
      "             'is upside down in a room, doing a handstand on a yoga mat. A '\n",
      "             'woman is lying on the floor in a living room, smiling and '\n",
      "             'looking up at the camera. A woman is doing a handstand in a '\n",
      "             'living room. A woman is stretching on the floor in a living '\n",
      "             'room. A woman is upside down on a yoga mat, smiling and looking '\n",
      "             'at the camera.',\n",
      "  'hypothesis': 'A controlled descent was unsuccessfully attempted from the '\n",
      "                'headstand, leading to a fall onto the yoga mat instead of a '\n",
      "                'planned seated position.',\n",
      "  'label': 'NEUTRAL',\n",
      "  'probabilities': [0.04568568244576454,\n",
      "                    0.9528683423995972,\n",
      "                    0.0014459987869486213]},\n",
      " {'premise': 'A woman is upside down, doing a handstand on a yoga mat. A woman '\n",
      "             'is upside down, doing a handstand, in a room with a couch and a '\n",
      "             'A woman is upside down, doing a handstand on a yoga mat. A woman '\n",
      "             'is upside down in a room, doing a handstand on a yoga mat. A '\n",
      "             'woman is lying on the floor in a living room, smiling and '\n",
      "             'looking up at the camera. A woman is doing a handstand in a '\n",
      "             'living room. A woman is stretching on the floor in a living '\n",
      "             'room. A woman is upside down on a yoga mat, smiling and looking '\n",
      "             'at the camera.',\n",
      "  'hypothesis': 'The sequence of actions ended with an unintended fall from '\n",
      "                'the headstand, without any external disturbance as previously '\n",
      "                'conjectured.',\n",
      "  'label': 'NEUTRAL',\n",
      "  'probabilities': [0.16030505299568176,\n",
      "                    0.8372480869293213,\n",
      "                    0.0024469231721013784]}]\n",
      "Task 3:\n"
     ]
    },
    {
     "data": {
      "text/html": [
       "<video controls src='https://ubc-cv-sherlock.s3.us-west-2.amazonaws.com/oops/oops_val_v3/766_B_event.mp4' width='500' height='400'>"
      ],
      "text/plain": [
       "<IPython.core.display.HTML object>"
      ]
     },
     "metadata": {},
     "output_type": "display_data"
    },
    {
     "name": "stdout",
     "output_type": "stream",
     "text": [
      "[{'premise': 'A woman is upside down, doing a handstand on a yoga mat. A woman is upside down, doing a handstand, in a room with a couch and a A woman is upside down, doing a handstand on a yoga mat. A woman is upside down in a room, doing a handstand on a yoga mat. A woman is upside down, doing a handstand on a yoga mat. A woman is upside down on a wall, doing a handstand, with her legs in the A woman is bending over to pick something up from the floor. A woman is lying on the floor in a room with a couch, a chair, and a camera A woman is lying on the floor in a living room, smiling and looking up at the camera. A woman is doing a handstand in a living room. A woman is stretching on the floor in a living room. A woman is upside down on a yoga mat, smiling and looking at the camera.', 'hypothesis': 'Attempting a headstand, the individual loses balance, resulting in a fall onto the yoga mat, demonstrating the challenge of maintaining such a pose.', 'label': 'NEUTRAL', 'probabilities': [0.1060803234577179, 0.8917946219444275, 0.0021249859128147364]}]\n",
      "Task 1:\n"
     ]
    },
    {
     "data": {
      "text/html": [
       "<video controls src='https://ubc-cv-sherlock.s3.us-west-2.amazonaws.com/oops/oops_val_v3/767_A_preevent.mp4' width='500' height='400'>"
      ],
      "text/plain": [
       "<IPython.core.display.HTML object>"
      ]
     },
     "metadata": {},
     "output_type": "display_data"
    },
    {
     "name": "stdout",
     "output_type": "stream",
     "text": [
      "[{'premise': 'A man in a white shirt and blue shorts is standing in a grassy '\n",
      "             'area next to a wooden A man in a white shirt and blue shorts is '\n",
      "             'standing in a grassy area next to a black A man is playing a '\n",
      "             'game with a remote control in his hand. The frame is blurry and '\n",
      "             'out of focus, making it difficult to discern any specific '\n",
      "             'details.',\n",
      "  'hypothesis': 'A person bumps into an object, causing it to topple over '\n",
      "                'after losing balance, resulting in humorous commotion or a '\n",
      "                'clumsy recovery attempt.',\n",
      "  'label': 'NEUTRAL',\n",
      "  'probabilities': [0.010558650828897953,\n",
      "                    0.9429892301559448,\n",
      "                    0.04645209759473801]},\n",
      " {'premise': 'A man in a white shirt and blue shorts is standing in a grassy '\n",
      "             'area next to a wooden A man in a white shirt and blue shorts is '\n",
      "             'standing in a grassy area next to a black A man is playing a '\n",
      "             'game with a remote control in his hand. The frame is blurry and '\n",
      "             'out of focus, making it difficult to discern any specific '\n",
      "             'details.',\n",
      "  'hypothesis': 'The individual could successfully navigate around the '\n",
      "                'obstacle, briefly acknowledging the near-miss before '\n",
      "                'continuing on unperturbed, possibly to applause or laughter.',\n",
      "  'label': 'NEUTRAL',\n",
      "  'probabilities': [0.030702518299221992,\n",
      "                    0.9680536389350891,\n",
      "                    0.0012438443955034018]},\n",
      " {'premise': 'A man in a white shirt and blue shorts is standing in a grassy '\n",
      "             'area next to a wooden A man in a white shirt and blue shorts is '\n",
      "             'standing in a grassy area next to a black A man is playing a '\n",
      "             'game with a remote control in his hand. The frame is blurry and '\n",
      "             'out of focus, making it difficult to discern any specific '\n",
      "             'details.',\n",
      "  'hypothesis': 'They could deftly sidestep the hazard, only to encounter a '\n",
      "                'new, unseen obstacle, leading to a comedic chain reaction of '\n",
      "                'slips or stumbles.',\n",
      "  'label': 'NEUTRAL',\n",
      "  'probabilities': [0.00682674627751112,\n",
      "                    0.9908967614173889,\n",
      "                    0.002276516519486904]}]\n",
      "Task 2:\n"
     ]
    },
    {
     "data": {
      "text/html": [
       "<video controls src='https://ubc-cv-sherlock.s3.us-west-2.amazonaws.com/oops/oops_val_v3/767_C_postevent.mp4' width='500' height='400'>"
      ],
      "text/plain": [
       "<IPython.core.display.HTML object>"
      ]
     },
     "metadata": {},
     "output_type": "display_data"
    },
    {
     "name": "stdout",
     "output_type": "stream",
     "text": [
      "[{'premise': 'A man in a white shirt and blue shorts is standing in a grassy '\n",
      "             'area next to a wooden A man in a white shirt and blue shorts is '\n",
      "             'standing in a grassy area next to a black A man is playing a '\n",
      "             'game with a remote control in his hand. The frame is blurry and '\n",
      "             'out of focus, making it difficult to discern any specific '\n",
      "             'details. A man is lying on the ground with his arms behind his '\n",
      "             'back, wearing a blindfold. A man is lying on the ground with his '\n",
      "             'head on the grass, and there is a ball nearby A man is lying on '\n",
      "             'the ground with his head on the grass. A man is lying on the '\n",
      "             'grass, holding his head.',\n",
      "  'hypothesis': 'The individual tripped over an unseen item, causing a fall '\n",
      "                'and resulting in them lying on the ground, likely accompanied '\n",
      "                'by some surprise.',\n",
      "  'label': 'NEUTRAL',\n",
      "  'probabilities': [0.0011242955224588513,\n",
      "                    0.9970610737800598,\n",
      "                    0.0018145928625017405]},\n",
      " {'premise': 'A man in a white shirt and blue shorts is standing in a grassy '\n",
      "             'area next to a wooden A man in a white shirt and blue shorts is '\n",
      "             'standing in a grassy area next to a black A man is playing a '\n",
      "             'game with a remote control in his hand. The frame is blurry and '\n",
      "             'out of focus, making it difficult to discern any specific '\n",
      "             'details. A man is lying on the ground with his arms behind his '\n",
      "             'back, wearing a blindfold. A man is lying on the ground with his '\n",
      "             'head on the grass, and there is a ball nearby A man is lying on '\n",
      "             'the ground with his head on the grass. A man is lying on the '\n",
      "             'grass, holding his head.',\n",
      "  'hypothesis': 'They attempted to navigate past the item but miscalculated, '\n",
      "                'resulting in a tumble and ending up in a slightly disoriented '\n",
      "                'state on the grass.',\n",
      "  'label': 'NEUTRAL',\n",
      "  'probabilities': [0.00271264067851007,\n",
      "                    0.9953495860099792,\n",
      "                    0.001937762601301074]},\n",
      " {'premise': 'A man in a white shirt and blue shorts is standing in a grassy '\n",
      "             'area next to a wooden A man in a white shirt and blue shorts is '\n",
      "             'standing in a grassy area next to a black A man is playing a '\n",
      "             'game with a remote control in his hand. The frame is blurry and '\n",
      "             'out of focus, making it difficult to discern any specific '\n",
      "             'details. A man is lying on the ground with his arms behind his '\n",
      "             'back, wearing a blindfold. A man is lying on the ground with his '\n",
      "             'head on the grass, and there is a ball nearby A man is lying on '\n",
      "             'the ground with his head on the grass. A man is lying on the '\n",
      "             'grass, holding his head.',\n",
      "  'hypothesis': 'The person lost their balance while avoiding the obstacle, '\n",
      "                'which led to a spill on the lawn, followed by a moment to '\n",
      "                'recuperate.',\n",
      "  'label': 'NEUTRAL',\n",
      "  'probabilities': [0.001170855830423534,\n",
      "                    0.997088611125946,\n",
      "                    0.0017405077815055847]}]\n",
      "Task 3:\n"
     ]
    },
    {
     "data": {
      "text/html": [
       "<video controls src='https://ubc-cv-sherlock.s3.us-west-2.amazonaws.com/oops/oops_val_v3/767_B_event.mp4' width='500' height='400'>"
      ],
      "text/plain": [
       "<IPython.core.display.HTML object>"
      ]
     },
     "metadata": {},
     "output_type": "display_data"
    },
    {
     "name": "stdout",
     "output_type": "stream",
     "text": [
      "[{'premise': 'A man in a white shirt and blue shorts is standing in a grassy area next to a wooden A man in a white shirt and blue shorts is standing in a grassy area next to a black A man is playing a game with a remote control in his hand. The frame is blurry and out of focus, making it difficult to discern any specific details. The frame is blurry and out of focus, making it difficult to discern any specific details. The frame shows a person wearing white shorts walking on a grassy area. A person is bent over in a grassy area. A man is lying on the ground with his arms behind his back, wearing a blindfold. A man is lying on the ground with his arms behind his back, wearing a blindfold. A man is lying on the ground with his head on the grass, and there is a ball nearby A man is lying on the ground with his head on the grass. A man is lying on the grass, holding his head.', 'hypothesis': 'The person was engaging in an activity but tripped, resulting in a fall onto the grass, which led to a need for a moment to recover.', 'label': 'NEUTRAL', 'probabilities': [0.001065014977939427, 0.997261643409729, 0.0016732577932998538]}]\n",
      "Task 1:\n"
     ]
    },
    {
     "data": {
      "text/html": [
       "<video controls src='https://ubc-cv-sherlock.s3.us-west-2.amazonaws.com/oops/oops_val_v3/768_A_preevent.mp4' width='500' height='400'>"
      ],
      "text/plain": [
       "<IPython.core.display.HTML object>"
      ]
     },
     "metadata": {},
     "output_type": "display_data"
    },
    {
     "name": "stdout",
     "output_type": "stream",
     "text": [
      "[{'premise': 'A young boy wearing a helmet and holding a skateboard, standing '\n",
      "             'in a skate park. A young boy is riding a scooter on a ramp. A '\n",
      "             'person is holding a scooter while standing on a ramp. A young '\n",
      "             'man is performing a trick on a scooter at a skate park.',\n",
      "  'hypothesis': 'The person attempts the trick again, successfully completes '\n",
      "                'it, and rides away, demonstrating perseverance and '\n",
      "                'improvement in skill.',\n",
      "  'label': 'NEUTRAL',\n",
      "  'probabilities': [0.0015335391508415341,\n",
      "                    0.9975433349609375,\n",
      "                    0.0009231839794665575]},\n",
      " {'premise': 'A young boy wearing a helmet and holding a skateboard, standing '\n",
      "             'in a skate park. A young boy is riding a scooter on a ramp. A '\n",
      "             'person is holding a scooter while standing on a ramp. A young '\n",
      "             'man is performing a trick on a scooter at a skate park.',\n",
      "  'hypothesis': 'The individual decides to take a break, reflects on the fall, '\n",
      "                'and discusses techniques with friends to improve performance '\n",
      "                'for future attempts.',\n",
      "  'label': 'NEUTRAL',\n",
      "  'probabilities': [0.18390639126300812,\n",
      "                    0.8146213293075562,\n",
      "                    0.0014722651103511453]},\n",
      " {'premise': 'A young boy wearing a helmet and holding a skateboard, standing '\n",
      "             'in a skate park. A young boy is riding a scooter on a ramp. A '\n",
      "             'person is holding a scooter while standing on a ramp. A young '\n",
      "             'man is performing a trick on a scooter at a skate park.',\n",
      "  'hypothesis': 'Someone comes to check on the person, they both laugh it off, '\n",
      "                'and the person gets up to rest before trying a different '\n",
      "                'activity in the skatepark.',\n",
      "  'label': 'NEUTRAL',\n",
      "  'probabilities': [0.021085700020194054,\n",
      "                    0.9780349731445312,\n",
      "                    0.0008793763699941337]}]\n",
      "Task 2:\n"
     ]
    },
    {
     "data": {
      "text/html": [
       "<video controls src='https://ubc-cv-sherlock.s3.us-west-2.amazonaws.com/oops/oops_val_v3/768_C_postevent.mp4' width='500' height='400'>"
      ],
      "text/plain": [
       "<IPython.core.display.HTML object>"
      ]
     },
     "metadata": {},
     "output_type": "display_data"
    },
    {
     "name": "stdout",
     "output_type": "stream",
     "text": [
      "[{'premise': 'A young boy wearing a helmet and holding a skateboard, standing '\n",
      "             'in a skate park. A young boy is riding a scooter on a ramp. A '\n",
      "             'person is holding a scooter while standing on a ramp. A young '\n",
      "             'man is performing a trick on a scooter at a skate park. A young '\n",
      "             'boy is lying on the ground in a skate park, with a skateboard '\n",
      "             'nearby A skateboarder is lying on the ground in a skate park, '\n",
      "             'with his skate A person is lying on the ground in a skate park. '\n",
      "             'A person is lying on the ground in a skate park.',\n",
      "  'hypothesis': 'After the fall, the individual lies on the ramp, perhaps '\n",
      "                'assessing their condition or gathering the will to stand up '\n",
      "                'following the misadventure.',\n",
      "  'label': 'NEUTRAL',\n",
      "  'probabilities': [0.0013373828260228038,\n",
      "                    0.993598461151123,\n",
      "                    0.005064141470938921]},\n",
      " {'premise': 'A young boy wearing a helmet and holding a skateboard, standing '\n",
      "             'in a skate park. A young boy is riding a scooter on a ramp. A '\n",
      "             'person is holding a scooter while standing on a ramp. A young '\n",
      "             'man is performing a trick on a scooter at a skate park. A young '\n",
      "             'boy is lying on the ground in a skate park, with a skateboard '\n",
      "             'nearby A skateboarder is lying on the ground in a skate park, '\n",
      "             'with his skate A person is lying on the ground in a skate park. '\n",
      "             'A person is lying on the ground in a skate park.',\n",
      "  'hypothesis': 'The person remains on the floor momentarily, possibly feeling '\n",
      "                'the impact of the fall before deciding the next course of '\n",
      "                'action, which may include resting or leaving.',\n",
      "  'label': 'NEUTRAL',\n",
      "  'probabilities': [0.0007681837887503207,\n",
      "                    0.9966853260993958,\n",
      "                    0.002546517178416252]},\n",
      " {'premise': 'A young boy wearing a helmet and holding a skateboard, standing '\n",
      "             'in a skate park. A young boy is riding a scooter on a ramp. A '\n",
      "             'person is holding a scooter while standing on a ramp. A young '\n",
      "             'man is performing a trick on a scooter at a skate park. A young '\n",
      "             'boy is lying on the ground in a skate park, with a skateboard '\n",
      "             'nearby A skateboarder is lying on the ground in a skate park, '\n",
      "             'with his skate A person is lying on the ground in a skate park. '\n",
      "             'A person is lying on the ground in a skate park.',\n",
      "  'hypothesis': 'Post-fall, the scooter rider takes a moment on the ground to '\n",
      "                'recover, reflecting on what went wrong, before eventually '\n",
      "                'getting up to continue or take a break.',\n",
      "  'label': 'NEUTRAL',\n",
      "  'probabilities': [0.003689416451379657,\n",
      "                    0.9943069815635681,\n",
      "                    0.002003666013479233]}]\n",
      "Task 3:\n"
     ]
    },
    {
     "data": {
      "text/html": [
       "<video controls src='https://ubc-cv-sherlock.s3.us-west-2.amazonaws.com/oops/oops_val_v3/768_B_event.mp4' width='500' height='400'>"
      ],
      "text/plain": [
       "<IPython.core.display.HTML object>"
      ]
     },
     "metadata": {},
     "output_type": "display_data"
    },
    {
     "name": "stdout",
     "output_type": "stream",
     "text": [
      "[{'premise': 'A young boy wearing a helmet and holding a skateboard, standing in a skate park. A young boy is riding a scooter on a ramp. A person is holding a scooter while standing on a ramp. A young man is performing a trick on a scooter at a skate park. A young boy is performing a trick on a skateboard at a skate park. A young boy riding a skateboard on a concrete surface. A skateboarder is falling off his skateboard in a skate park. A young boy is lying on the ground in a skate park, with a skateboard nearby A young boy is lying on the ground in a skate park, with a skateboard nearby A skateboarder is lying on the ground in a skate park, with his skate A person is lying on the ground in a skate park. A person is lying on the ground in a skate park.', 'hypothesis': 'The scooter rider tries a stunt, falls, and remains on the ground possibly contemplating the mishap and considering whether to try again or rest.', 'label': 'NEUTRAL', 'probabilities': [0.001415114849805832, 0.9929581880569458, 0.005626678932458162]}]\n",
      "Task 1:\n"
     ]
    },
    {
     "data": {
      "text/html": [
       "<video controls src='https://ubc-cv-sherlock.s3.us-west-2.amazonaws.com/oops/oops_val_v3/776_A_preevent.mp4' width='500' height='400'>"
      ],
      "text/plain": [
       "<IPython.core.display.HTML object>"
      ]
     },
     "metadata": {},
     "output_type": "display_data"
    },
    {
     "name": "stdout",
     "output_type": "stream",
     "text": [
      "[{'premise': 'A man is standing on a rocky hillside, blowing smoke from a '\n",
      "             'flaming object. A person is standing on a rocky hillside, '\n",
      "             'blowing smoke from a device, with a rock A person is standing on '\n",
      "             'a rocky hillside, blowing smoke from a pipe, with a rock A '\n",
      "             'person is standing on a rocky surface, blowing smoke from a '\n",
      "             'device, with a rock in',\n",
      "  'hypothesis': 'The smoke clears revealing a surprised person who was '\n",
      "                'standing behind it, adding humor to the situation caused by '\n",
      "                'an unexpected photo with smoke.',\n",
      "  'label': 'NEUTRAL',\n",
      "  'probabilities': [0.06067187711596489,\n",
      "                    0.9365920424461365,\n",
      "                    0.0027361037209630013]},\n",
      " {'premise': 'A man is standing on a rocky hillside, blowing smoke from a '\n",
      "             'flaming object. A person is standing on a rocky hillside, '\n",
      "             'blowing smoke from a device, with a rock A person is standing on '\n",
      "             'a rocky hillside, blowing smoke from a pipe, with a rock A '\n",
      "             'person is standing on a rocky surface, blowing smoke from a '\n",
      "             'device, with a rock in',\n",
      "  'hypothesis': 'The person turns and faces the camera, revealing a face '\n",
      "                'covered in soot, implying a comedic mishap occurred with a '\n",
      "                'firework or smoke bomb.',\n",
      "  'label': 'NEUTRAL',\n",
      "  'probabilities': [0.001466078101657331,\n",
      "                    0.9975308775901794,\n",
      "                    0.0010030580451712012]},\n",
      " {'premise': 'A man is standing on a rocky hillside, blowing smoke from a '\n",
      "             'flaming object. A person is standing on a rocky hillside, '\n",
      "             'blowing smoke from a device, with a rock A person is standing on '\n",
      "             'a rocky hillside, blowing smoke from a pipe, with a rock A '\n",
      "             'person is standing on a rocky surface, blowing smoke from a '\n",
      "             'device, with a rock in',\n",
      "  'hypothesis': 'The smoke dissipates, and the person walks through it '\n",
      "                'unscathed, possibly signifying the end of a successful magic '\n",
      "                'trick or illusion.',\n",
      "  'label': 'NEUTRAL',\n",
      "  'probabilities': [0.25582432746887207,\n",
      "                    0.742059588432312,\n",
      "                    0.002116170711815357]}]\n",
      "Task 2:\n"
     ]
    },
    {
     "data": {
      "text/html": [
       "<video controls src='https://ubc-cv-sherlock.s3.us-west-2.amazonaws.com/oops/oops_val_v3/776_C_postevent.mp4' width='500' height='400'>"
      ],
      "text/plain": [
       "<IPython.core.display.HTML object>"
      ]
     },
     "metadata": {},
     "output_type": "display_data"
    },
    {
     "name": "stdout",
     "output_type": "stream",
     "text": [
      "[{'premise': 'A man is standing on a rocky hillside, blowing smoke from a '\n",
      "             'flaming object. A person is standing on a rocky hillside, '\n",
      "             'blowing smoke from a device, with a rock A person is standing on '\n",
      "             'a rocky hillside, blowing smoke from a pipe, with a rock A '\n",
      "             'person is standing on a rocky surface, blowing smoke from a '\n",
      "             'device, with a rock in The image is blurry and shows a cloud of '\n",
      "             'smoke with a person in the background. The image shows a person '\n",
      "             'standing in front of a large cloud of smoke, with the smoke '\n",
      "             'appearing to The image shows a cloud of smoke rising from a pile '\n",
      "             'of debris, with a person partially visible in The image shows a '\n",
      "             'large amount of smoke billowing into the air, with a blurred '\n",
      "             'background that',\n",
      "  'hypothesis': 'The person is surrounded by smoke, appearing to have failed a '\n",
      "                'trick or mishandled a smoke device, causing a comedic yet '\n",
      "                'harmless outcome.',\n",
      "  'label': 'NEUTRAL',\n",
      "  'probabilities': [0.007389039266854525,\n",
      "                    0.9783809781074524,\n",
      "                    0.014230105094611645]},\n",
      " {'premise': 'A man is standing on a rocky hillside, blowing smoke from a '\n",
      "             'flaming object. A person is standing on a rocky hillside, '\n",
      "             'blowing smoke from a device, with a rock A person is standing on '\n",
      "             'a rocky hillside, blowing smoke from a pipe, with a rock A '\n",
      "             'person is standing on a rocky surface, blowing smoke from a '\n",
      "             'device, with a rock in The image is blurry and shows a cloud of '\n",
      "             'smoke with a person in the background. The image shows a person '\n",
      "             'standing in front of a large cloud of smoke, with the smoke '\n",
      "             'appearing to The image shows a cloud of smoke rising from a pile '\n",
      "             'of debris, with a person partially visible in The image shows a '\n",
      "             'large amount of smoke billowing into the air, with a blurred '\n",
      "             'background that',\n",
      "  'hypothesis': 'The individual reacts to the smoke, possibly surprised by the '\n",
      "                'amount or intensity, suggesting an experiment or activity '\n",
      "                \"didn't go as planned.\",\n",
      "  'label': 'NEUTRAL',\n",
      "  'probabilities': [0.0007785728666931391,\n",
      "                    0.9976953864097595,\n",
      "                    0.0015260967193171382]},\n",
      " {'premise': 'A man is standing on a rocky hillside, blowing smoke from a '\n",
      "             'flaming object. A person is standing on a rocky hillside, '\n",
      "             'blowing smoke from a device, with a rock A person is standing on '\n",
      "             'a rocky hillside, blowing smoke from a pipe, with a rock A '\n",
      "             'person is standing on a rocky surface, blowing smoke from a '\n",
      "             'device, with a rock in The image is blurry and shows a cloud of '\n",
      "             'smoke with a person in the background. The image shows a person '\n",
      "             'standing in front of a large cloud of smoke, with the smoke '\n",
      "             'appearing to The image shows a cloud of smoke rising from a pile '\n",
      "             'of debris, with a person partially visible in The image shows a '\n",
      "             'large amount of smoke billowing into the air, with a blurred '\n",
      "             'background that',\n",
      "  'hypothesis': 'As the smoke engulfs the person, it seems like an '\n",
      "                'over-the-top visual joke or prank, with them emerging '\n",
      "                'unharmed, adding humor to the scene.',\n",
      "  'label': 'NEUTRAL',\n",
      "  'probabilities': [0.004683017730712891,\n",
      "                    0.9941567182540894,\n",
      "                    0.0011602463200688362]}]\n",
      "Task 3:\n"
     ]
    },
    {
     "data": {
      "text/html": [
       "<video controls src='https://ubc-cv-sherlock.s3.us-west-2.amazonaws.com/oops/oops_val_v3/776_B_event.mp4' width='500' height='400'>"
      ],
      "text/plain": [
       "<IPython.core.display.HTML object>"
      ]
     },
     "metadata": {},
     "output_type": "display_data"
    },
    {
     "name": "stdout",
     "output_type": "stream",
     "text": [
      "[{'premise': 'A man is standing on a rocky hillside, blowing smoke from a flaming object. A person is standing on a rocky hillside, blowing smoke from a device, with a rock A person is standing on a rocky hillside, blowing smoke from a pipe, with a rock A person is standing on a rocky surface, blowing smoke from a device, with a rock in A person is standing on a rocky surface, blowing smoke from a device, with a rock in A person is jumping in the air with a fire behind them. A person is flying through the air with a firework explosion behind them. The image is blurry and shows a cloud of smoke with a person in the background. The image is blurry and shows a cloud of smoke with a person in the background. The image shows a person standing in front of a large cloud of smoke, with the smoke appearing to The image shows a cloud of smoke rising from a pile of debris, with a person partially visible in The image shows a large amount of smoke billowing into the air, with a blurred background that', 'hypothesis': 'A person, surrounded by smoke, seems to have unintentionally created a larger-than-expected explosion or smoke release, resulting in surprise and a visually striking scene.', 'label': 'NEUTRAL', 'probabilities': [0.001755726640112698, 0.9543841481208801, 0.04386019706726074]}]\n",
      "Task 1:\n"
     ]
    },
    {
     "data": {
      "text/html": [
       "<video controls src='https://ubc-cv-sherlock.s3.us-west-2.amazonaws.com/oops/oops_val_v3/783_A_preevent.mp4' width='500' height='400'>"
      ],
      "text/plain": [
       "<IPython.core.display.HTML object>"
      ]
     },
     "metadata": {},
     "output_type": "display_data"
    },
    {
     "name": "stdout",
     "output_type": "stream",
     "text": [
      "[{'premise': 'The image shows a street corner with a red car parked on the '\n",
      "             'street, a green lawn, and The image shows a street corner with a '\n",
      "             'green lawn, a sidewalk, and a driveway. A black car is driving '\n",
      "             'down a street. A black car is upside down on a street.',\n",
      "  'hypothesis': \"The vehicle's owner comes out, surveys the spilled contents, \"\n",
      "                'gathers them, and carefully reloads them into the vehicle, '\n",
      "                'ensuring the trunk is secure.',\n",
      "  'label': 'NEUTRAL',\n",
      "  'probabilities': [0.06895987689495087,\n",
      "                    0.9293924570083618,\n",
      "                    0.0016476513119414449]},\n",
      " {'premise': 'The image shows a street corner with a red car parked on the '\n",
      "             'street, a green lawn, and The image shows a street corner with a '\n",
      "             'green lawn, a sidewalk, and a driveway. A black car is driving '\n",
      "             'down a street. A black car is upside down on a street.',\n",
      "  'hypothesis': 'A passerby notices the spill, approaches to help clean up the '\n",
      "                \"debris, and alerts the vehicle owner if they're nearby or \"\n",
      "                'leaves it tidier if not.',\n",
      "  'label': 'NEUTRAL',\n",
      "  'probabilities': [0.008531775325536728,\n",
      "                    0.9906896352767944,\n",
      "                    0.0007785921334289014]},\n",
      " {'premise': 'The image shows a street corner with a red car parked on the '\n",
      "             'street, a green lawn, and The image shows a street corner with a '\n",
      "             'green lawn, a sidewalk, and a driveway. A black car is driving '\n",
      "             'down a street. A black car is upside down on a street.',\n",
      "  'hypothesis': 'The vehicle drives away unknowingly, a neighbor sees the '\n",
      "                'mess, collects items for lost and found, and leaves a note '\n",
      "                'for the owner of the vehicle.',\n",
      "  'label': 'NEUTRAL',\n",
      "  'probabilities': [0.0350484736263752,\n",
      "                    0.9636855721473694,\n",
      "                    0.0012659671483561397]}]\n",
      "Task 2:\n"
     ]
    },
    {
     "data": {
      "text/html": [
       "<video controls src='https://ubc-cv-sherlock.s3.us-west-2.amazonaws.com/oops/oops_val_v3/783_C_postevent.mp4' width='500' height='400'>"
      ],
      "text/plain": [
       "<IPython.core.display.HTML object>"
      ]
     },
     "metadata": {},
     "output_type": "display_data"
    },
    {
     "name": "stdout",
     "output_type": "stream",
     "text": [
      "[{'premise': 'The image shows a street corner with a red car parked on the '\n",
      "             'street, a green lawn, and The image shows a street corner with a '\n",
      "             'green lawn, a sidewalk, and a driveway. A black car is driving '\n",
      "             'down a street. A black car is upside down on a street. A car is '\n",
      "             'parked on the side of a street, and its back window is '\n",
      "             'shattered. A black car is parked on the side of a street, and '\n",
      "             'its back window is shattered. A black car is parked on the side '\n",
      "             'of a street, and its back window is shattered. A black car is '\n",
      "             'parked on the side of a street, and its back window is '\n",
      "             'shattered.',\n",
      "  'hypothesis': 'The vehicle attempts to reverse without clearing the debris, '\n",
      "                'resulting in an accidental flip over the items, causing it to '\n",
      "                'overturn.',\n",
      "  'label': 'NEUTRAL',\n",
      "  'probabilities': [0.005457331892102957,\n",
      "                    0.9934144020080566,\n",
      "                    0.0011282340856269002]},\n",
      " {'premise': 'The image shows a street corner with a red car parked on the '\n",
      "             'street, a green lawn, and The image shows a street corner with a '\n",
      "             'green lawn, a sidewalk, and a driveway. A black car is driving '\n",
      "             'down a street. A black car is upside down on a street. A car is '\n",
      "             'parked on the side of a street, and its back window is '\n",
      "             'shattered. A black car is parked on the side of a street, and '\n",
      "             'its back window is shattered. A black car is parked on the side '\n",
      "             'of a street, and its back window is shattered. A black car is '\n",
      "             'parked on the side of a street, and its back window is '\n",
      "             'shattered.',\n",
      "  'hypothesis': 'A mechanical malfunction occurs while the driver of the '\n",
      "                'vehicle tries to maneuver around the spill, leading to the '\n",
      "                'vehicle tipping over.',\n",
      "  'label': 'NEUTRAL',\n",
      "  'probabilities': [0.004702602978795767,\n",
      "                    0.9933384656906128,\n",
      "                    0.0019589692819863558]},\n",
      " {'premise': 'The image shows a street corner with a red car parked on the '\n",
      "             'street, a green lawn, and The image shows a street corner with a '\n",
      "             'green lawn, a sidewalk, and a driveway. A black car is driving '\n",
      "             'down a street. A black car is upside down on a street. A car is '\n",
      "             'parked on the side of a street, and its back window is '\n",
      "             'shattered. A black car is parked on the side of a street, and '\n",
      "             'its back window is shattered. A black car is parked on the side '\n",
      "             'of a street, and its back window is shattered. A black car is '\n",
      "             'parked on the side of a street, and its back window is '\n",
      "             'shattered.',\n",
      "  'hypothesis': 'In an effort to quickly resolve the initial accident, the '\n",
      "                'driver hastily backs up, hitting debris, which leads to the '\n",
      "                'vehicle’s unexpected flip.',\n",
      "  'label': 'NEUTRAL',\n",
      "  'probabilities': [0.006728746462613344,\n",
      "                    0.9924746155738831,\n",
      "                    0.0007966281264089048]}]\n",
      "Task 3:\n"
     ]
    },
    {
     "data": {
      "text/html": [
       "<video controls src='https://ubc-cv-sherlock.s3.us-west-2.amazonaws.com/oops/oops_val_v3/783_B_event.mp4' width='500' height='400'>"
      ],
      "text/plain": [
       "<IPython.core.display.HTML object>"
      ]
     },
     "metadata": {},
     "output_type": "display_data"
    },
    {
     "name": "stdout",
     "output_type": "stream",
     "text": [
      "[{'premise': 'The image shows a street corner with a red car parked on the street, a green lawn, and The image shows a street corner with a green lawn, a sidewalk, and a driveway. A black car is driving down a street. A black car is upside down on a street. A black car is upside down on a driveway. A car is parked on the side of a street, and its back window is shattered. A black car is parked on the side of a street, and its back window is shattered. A car is parked on the side of a street, and its back window is shattered. A car is parked on the side of a street, and its back window is shattered. A black car is parked on the side of a street, and its back window is shattered. A black car is parked on the side of a street, and its back window is shattered. A black car is parked on the side of a street, and its back window is shattered.', 'hypothesis': \"The overloaded vehicle's trunk fails, ejecting a heavy object. The driver, unaware, reverses over it, tipping the vehicle onto its side due to uneven weight distribution.\", 'label': 'NEUTRAL', 'probabilities': [0.014590191654860973, 0.980868935585022, 0.004540842957794666]}]\n",
      "Task 1:\n"
     ]
    },
    {
     "data": {
      "text/html": [
       "<video controls src='https://ubc-cv-sherlock.s3.us-west-2.amazonaws.com/oops/oops_val_v3/793_A_preevent.mp4' width='500' height='400'>"
      ],
      "text/plain": [
       "<IPython.core.display.HTML object>"
      ]
     },
     "metadata": {},
     "output_type": "display_data"
    },
    {
     "name": "stdout",
     "output_type": "stream",
     "text": [
      "[{'premise': 'Three men in black leather jackets and black pants are dancing '\n",
      "             'on a stage with a blue curtain Three people dancing on stage '\n",
      "             'with blue background. A group of people performing on stage. A '\n",
      "             'group of people are dancing on a stage.',\n",
      "  'hypothesis': 'The performers could engage in a synchronized dance routine, '\n",
      "                'moving rhythmically to music, showcasing individual moves '\n",
      "                'before returning to a group formation.',\n",
      "  'label': 'NEUTRAL',\n",
      "  'probabilities': [0.0005429470911622047,\n",
      "                    0.9967562556266785,\n",
      "                    0.0027008112519979477]},\n",
      " {'premise': 'Three men in black leather jackets and black pants are dancing '\n",
      "             'on a stage with a blue curtain Three people dancing on stage '\n",
      "             'with blue background. A group of people performing on stage. A '\n",
      "             'group of people are dancing on a stage.',\n",
      "  'hypothesis': 'One performer could step forward for a solo, demonstrating a '\n",
      "                'special talent like singing or a unique dance step, while '\n",
      "                'others provide background clapping or harmonies.',\n",
      "  'label': 'NEUTRAL',\n",
      "  'probabilities': [0.0006268706056289375,\n",
      "                    0.9963670969009399,\n",
      "                    0.0030059386044740677]},\n",
      " {'premise': 'Three men in black leather jackets and black pants are dancing '\n",
      "             'on a stage with a blue curtain Three people dancing on stage '\n",
      "             'with blue background. A group of people performing on stage. A '\n",
      "             'group of people are dancing on a stage.',\n",
      "  'hypothesis': 'The performance could conclude with the group striking a '\n",
      "                'dramatic final pose, the music crescendoing, followed by the '\n",
      "                'audience erupting into applause as the lights dim.',\n",
      "  'label': 'NEUTRAL',\n",
      "  'probabilities': [0.0011720870388671756,\n",
      "                    0.9975366592407227,\n",
      "                    0.0012912788661196828]}]\n",
      "Task 2:\n"
     ]
    },
    {
     "data": {
      "text/html": [
       "<video controls src='https://ubc-cv-sherlock.s3.us-west-2.amazonaws.com/oops/oops_val_v3/793_C_postevent.mp4' width='500' height='400'>"
      ],
      "text/plain": [
       "<IPython.core.display.HTML object>"
      ]
     },
     "metadata": {},
     "output_type": "display_data"
    },
    {
     "name": "stdout",
     "output_type": "stream",
     "text": [
      "[{'premise': 'Three men in black leather jackets and black pants are dancing '\n",
      "             'on a stage with a blue curtain Three people dancing on stage '\n",
      "             'with blue background. A group of people performing on stage. A '\n",
      "             'group of people are dancing on a stage. A woman in a black dress '\n",
      "             'is dancing on stage with her arms raised. A woman in a yellow '\n",
      "             'jacket is dancing on a stage with her arms raised. A person is '\n",
      "             'performing a dance move on a stage. A person is performing on '\n",
      "             'stage, with a blurry background and a spotlight on them.',\n",
      "  'hypothesis': 'The group performed a dynamic dance routine with coordinated '\n",
      "                'moves and energy that engaged the audience, ending with a '\n",
      "                'lively group celebration.',\n",
      "  'label': 'NEUTRAL',\n",
      "  'probabilities': [0.002967023989185691,\n",
      "                    0.9960086345672607,\n",
      "                    0.0010243600700050592]},\n",
      " {'premise': 'Three men in black leather jackets and black pants are dancing '\n",
      "             'on a stage with a blue curtain Three people dancing on stage '\n",
      "             'with blue background. A group of people performing on stage. A '\n",
      "             'group of people are dancing on a stage. A woman in a black dress '\n",
      "             'is dancing on stage with her arms raised. A woman in a yellow '\n",
      "             'jacket is dancing on a stage with her arms raised. A person is '\n",
      "             'performing a dance move on a stage. A person is performing on '\n",
      "             'stage, with a blurry background and a spotlight on them.',\n",
      "  'hypothesis': 'A lead dancer captivated the spotlight with high-energy moves '\n",
      "                'supported by the group, illustrating a mix of solo talent and '\n",
      "                'ensemble harmony.',\n",
      "  'label': 'NEUTRAL',\n",
      "  'probabilities': [0.012243851087987423,\n",
      "                    0.9777125120162964,\n",
      "                    0.010043716058135033]},\n",
      " {'premise': 'Three men in black leather jackets and black pants are dancing '\n",
      "             'on a stage with a blue curtain Three people dancing on stage '\n",
      "             'with blue background. A group of people performing on stage. A '\n",
      "             'group of people are dancing on a stage. A woman in a black dress '\n",
      "             'is dancing on stage with her arms raised. A woman in a yellow '\n",
      "             'jacket is dancing on a stage with her arms raised. A person is '\n",
      "             'performing a dance move on a stage. A person is performing on '\n",
      "             'stage, with a blurry background and a spotlight on them.',\n",
      "  'hypothesis': 'The performers transitioned into an explosive group finale, '\n",
      "                'concluding the act with spirited dancing that then fades as '\n",
      "                'the show wraps up with warm applause.',\n",
      "  'label': 'NEUTRAL',\n",
      "  'probabilities': [0.1851712465286255,\n",
      "                    0.811442494392395,\n",
      "                    0.003386326599866152]}]\n",
      "Task 3:\n"
     ]
    },
    {
     "data": {
      "text/html": [
       "<video controls src='https://ubc-cv-sherlock.s3.us-west-2.amazonaws.com/oops/oops_val_v3/793_B_event.mp4' width='500' height='400'>"
      ],
      "text/plain": [
       "<IPython.core.display.HTML object>"
      ]
     },
     "metadata": {},
     "output_type": "display_data"
    },
    {
     "name": "stdout",
     "output_type": "stream",
     "text": [
      "[{'premise': 'Three men in black leather jackets and black pants are dancing on a stage with a blue curtain Three people dancing on stage with blue background. A group of people performing on stage. A group of people are dancing on a stage. A group of people are dancing on a stage. A blurry image of a person performing on stage. A blurry image of a person on stage, with a dark background and a spotlight on them A woman in a black dress is dancing on stage with her arms raised. A woman in a black dress is dancing on stage with her arms raised. A woman in a yellow jacket is dancing on a stage with her arms raised. A person is performing a dance move on a stage. A person is performing on stage, with a blurry background and a spotlight on them.', 'hypothesis': \"A spirited dance performance unfolded, showcasing the group's synchronization and individual flair, culminating in an enthusiastic group finale.\", 'label': 'NEUTRAL', 'probabilities': [0.0012301073875278234, 0.9975760579109192, 0.0011937855742871761]}, {'premise': 'Three men in black leather jackets and black pants are dancing on a stage with a blue curtain Three people dancing on stage with blue background. A group of people performing on stage. A group of people are dancing on a stage. A group of people are dancing on a stage. A blurry image of a person performing on stage. A blurry image of a person on stage, with a dark background and a spotlight on them A woman in a black dress is dancing on stage with her arms raised. A woman in a black dress is dancing on stage with her arms raised. A woman in a yellow jacket is dancing on a stage with her arms raised. A person is performing a dance move on a stage. A person is performing on stage, with a blurry background and a spotlight on them.', 'hypothesis': \"The dancers transitioned from a unified routine to featuring a prominent individual's energetic display, highlighting the group's versatile talent.\", 'label': 'NEUTRAL', 'probabilities': [0.003985739778727293, 0.9845727682113647, 0.0114414282143116]}, {'premise': 'Three men in black leather jackets and black pants are dancing on a stage with a blue curtain Three people dancing on stage with blue background. A group of people performing on stage. A group of people are dancing on a stage. A group of people are dancing on a stage. A blurry image of a person performing on stage. A blurry image of a person on stage, with a dark background and a spotlight on them A woman in a black dress is dancing on stage with her arms raised. A woman in a black dress is dancing on stage with her arms raised. A woman in a yellow jacket is dancing on a stage with her arms raised. A person is performing a dance move on a stage. A person is performing on stage, with a blurry background and a spotlight on them.', 'hypothesis': 'Concluding the performance, the dancers joined together for a high-energy finale, leaving the audience with a lasting impression of their collective dynamism.', 'label': 'NEUTRAL', 'probabilities': [0.0016752710798755288, 0.9974341988563538, 0.0008905994473025203]}]\n",
      "Task 1:\n"
     ]
    },
    {
     "data": {
      "text/html": [
       "<video controls src='https://ubc-cv-sherlock.s3.us-west-2.amazonaws.com/oops/oops_val_v3/801_A_preevent.mp4' width='500' height='400'>"
      ],
      "text/plain": [
       "<IPython.core.display.HTML object>"
      ]
     },
     "metadata": {},
     "output_type": "display_data"
    },
    {
     "name": "stdout",
     "output_type": "stream",
     "text": [
      "[{'premise': 'A man is lying on the ground, looking up at the camera, with a '\n",
      "             'cement block in the A person in a green shirt is standing in a '\n",
      "             'kitchen with a dog and a toy car. A young girl is playing with a '\n",
      "             'toy car while holding a stuffed animal. A person is standing in '\n",
      "             'a kitchen with a dog sniffing a toy car.',\n",
      "  'hypothesis': 'The dog playfully grabs a toy from the floor, initiating a '\n",
      "                'fun chase around the room as people react with laughter and '\n",
      "                'movement.',\n",
      "  'label': 'NEUTRAL',\n",
      "  'probabilities': [0.021574148908257484,\n",
      "                    0.9763547778129578,\n",
      "                    0.0020710756070911884]},\n",
      " {'premise': 'A man is lying on the ground, looking up at the camera, with a '\n",
      "             'cement block in the A person in a green shirt is standing in a '\n",
      "             'kitchen with a dog and a toy car. A young girl is playing with a '\n",
      "             'toy car while holding a stuffed animal. A person is standing in '\n",
      "             'a kitchen with a dog sniffing a toy car.',\n",
      "  'hypothesis': 'The dog suddenly gets excited by something outside the '\n",
      "                'window, barks, and runs towards it, causing minor chaos as '\n",
      "                'people move to check the distraction.',\n",
      "  'label': 'NEUTRAL',\n",
      "  'probabilities': [0.003948054276406765,\n",
      "                    0.9952593445777893,\n",
      "                    0.0007926186081022024]},\n",
      " {'premise': 'A man is lying on the ground, looking up at the camera, with a '\n",
      "             'cement block in the A person in a green shirt is standing in a '\n",
      "             'kitchen with a dog and a toy car. A young girl is playing with a '\n",
      "             'toy car while holding a stuffed animal. A person is standing in '\n",
      "             'a kitchen with a dog sniffing a toy car.',\n",
      "  'hypothesis': 'The person sitting down gently pets the dog, encouraging calm '\n",
      "                'behavior as they both settle down for a quiet bonding moment '\n",
      "                'in the peaceful room.',\n",
      "  'label': 'CONTRADICTION',\n",
      "  'probabilities': [0.8713569045066833,\n",
      "                    0.12688292562961578,\n",
      "                    0.0017601009458303452]}]\n",
      "Task 2:\n"
     ]
    },
    {
     "data": {
      "text/html": [
       "<video controls src='https://ubc-cv-sherlock.s3.us-west-2.amazonaws.com/oops/oops_val_v3/801_C_postevent.mp4' width='500' height='400'>"
      ],
      "text/plain": [
       "<IPython.core.display.HTML object>"
      ]
     },
     "metadata": {},
     "output_type": "display_data"
    },
    {
     "name": "stdout",
     "output_type": "stream",
     "text": [
      "[]\n",
      "Task 3:\n"
     ]
    },
    {
     "data": {
      "text/html": [
       "<video controls src='https://ubc-cv-sherlock.s3.us-west-2.amazonaws.com/oops/oops_val_v3/801_B_event.mp4' width='500' height='400'>"
      ],
      "text/plain": [
       "<IPython.core.display.HTML object>"
      ]
     },
     "metadata": {},
     "output_type": "display_data"
    },
    {
     "name": "stdout",
     "output_type": "stream",
     "text": [
      "[{'premise': 'A man is lying on the ground, looking up at the camera, with a cement block in the A person in a green shirt is standing in a kitchen with a dog and a toy car. A young girl is playing with a toy car while holding a stuffed animal. A person is standing in a kitchen with a dog sniffing a toy car. A woman is standing in a kitchen, looking at a toy car on the floor, while a dog A young boy is playing with a dog on the floor. A young girl is laughing and playing with a brown and white dog in a kitchen. A young girl is playing with a dog in a kitchen. A young girl is playing with a dog in a kitchen. A young girl is laughing as she plays with a dog, while a young boy watches from the floor A young girl is laughing while playing with a dog, and a young boy is sitting on the floor A young girl is laughing while a young boy is crawling on the floor.', 'hypothesis': 'A playful interaction between the person and the dog escalates, resulting in the person losing balance and falling while the dog watches.', 'label': 'NEUTRAL', 'probabilities': [0.01024047750979662, 0.9075130820274353, 0.08224648237228394]}, {'premise': 'A man is lying on the ground, looking up at the camera, with a cement block in the A person in a green shirt is standing in a kitchen with a dog and a toy car. A young girl is playing with a toy car while holding a stuffed animal. A person is standing in a kitchen with a dog sniffing a toy car. A woman is standing in a kitchen, looking at a toy car on the floor, while a dog A young boy is playing with a dog on the floor. A young girl is laughing and playing with a brown and white dog in a kitchen. A young girl is playing with a dog in a kitchen. A young girl is playing with a dog in a kitchen. A young girl is laughing as she plays with a dog, while a young boy watches from the floor A young girl is laughing while playing with a dog, and a young boy is sitting on the floor A young girl is laughing while a young boy is crawling on the floor.', 'hypothesis': \"During a lively play session, the dog's high energy inadvertently causes the person to trip and fall onto the floor.\", 'label': 'NEUTRAL', 'probabilities': [0.007549608591943979, 0.9879915118217468, 0.004458924755454063]}, {'premise': 'A man is lying on the ground, looking up at the camera, with a cement block in the A person in a green shirt is standing in a kitchen with a dog and a toy car. A young girl is playing with a toy car while holding a stuffed animal. A person is standing in a kitchen with a dog sniffing a toy car. A woman is standing in a kitchen, looking at a toy car on the floor, while a dog A young boy is playing with a dog on the floor. A young girl is laughing and playing with a brown and white dog in a kitchen. A young girl is playing with a dog in a kitchen. A young girl is playing with a dog in a kitchen. A young girl is laughing as she plays with a dog, while a young boy watches from the floor A young girl is laughing while playing with a dog, and a young boy is sitting on the floor A young girl is laughing while a young boy is crawling on the floor.', 'hypothesis': \"In the midst of play, the dog's movement around the room inadvertently leads to the person slipping and landing on the floor.\", 'label': 'NEUTRAL', 'probabilities': [0.012047719210386276, 0.9856487512588501, 0.002303550485521555]}]\n",
      "Task 1:\n"
     ]
    },
    {
     "data": {
      "text/html": [
       "<video controls src='https://ubc-cv-sherlock.s3.us-west-2.amazonaws.com/oops/oops_val_v3/802_A_preevent.mp4' width='500' height='400'>"
      ],
      "text/plain": [
       "<IPython.core.display.HTML object>"
      ]
     },
     "metadata": {},
     "output_type": "display_data"
    },
    {
     "name": "stdout",
     "output_type": "stream",
     "text": [
      "[{'premise': 'The frame is a colorful, pixelated display with a mix of green, '\n",
      "             'blue, red, The frame is a pixelated representation of a '\n",
      "             'television screen with the phrase \"YOU\\'RE A group of people are '\n",
      "             'running on a grass field, with some people watching from the '\n",
      "             'sidelines. A group of people are playing a game of tag on a '\n",
      "             'grassy field.',\n",
      "  'hypothesis': 'A man trips and falls, causing a domino effect where multiple '\n",
      "                'runners stumble and fall over each other in a comedic, '\n",
      "                'unintended race obstacle.',\n",
      "  'label': 'NEUTRAL',\n",
      "  'probabilities': [0.04922766983509064,\n",
      "                    0.9461855888366699,\n",
      "                    0.004586756695061922]},\n",
      " {'premise': 'The frame is a colorful, pixelated display with a mix of green, '\n",
      "             'blue, red, The frame is a pixelated representation of a '\n",
      "             'television screen with the phrase \"YOU\\'RE A group of people are '\n",
      "             'running on a grass field, with some people watching from the '\n",
      "             'sidelines. A group of people are playing a game of tag on a '\n",
      "             'grassy field.',\n",
      "  'hypothesis': 'The leading runner accelerates, avoiding obstacles and '\n",
      "                'finishing first, while the others follow, each displaying '\n",
      "                'amusing efforts to catch up but maintaining their positions.',\n",
      "  'label': 'NEUTRAL',\n",
      "  'probabilities': [0.0036252932623028755,\n",
      "                    0.9936416745185852,\n",
      "                    0.0027330643497407436]},\n",
      " {'premise': 'The frame is a colorful, pixelated display with a mix of green, '\n",
      "             'blue, red, The frame is a pixelated representation of a '\n",
      "             'television screen with the phrase \"YOU\\'RE A group of people are '\n",
      "             'running on a grass field, with some people watching from the '\n",
      "             'sidelines. A group of people are playing a game of tag on a '\n",
      "             'grassy field.',\n",
      "  'hypothesis': 'An unexpected runner from off-screen enters the scene, '\n",
      "                'startling the competitors and taking the lead, providing a '\n",
      "                \"surprising twist to the race's expected outcome.\",\n",
      "  'label': 'NEUTRAL',\n",
      "  'probabilities': [0.07480072975158691,\n",
      "                    0.9230915904045105,\n",
      "                    0.0021076553966850042]}]\n",
      "Task 2:\n"
     ]
    },
    {
     "data": {
      "text/html": [
       "<video controls src='https://ubc-cv-sherlock.s3.us-west-2.amazonaws.com/oops/oops_val_v3/802_C_postevent.mp4' width='500' height='400'>"
      ],
      "text/plain": [
       "<IPython.core.display.HTML object>"
      ]
     },
     "metadata": {},
     "output_type": "display_data"
    },
    {
     "name": "stdout",
     "output_type": "stream",
     "text": [
      "[{'premise': 'The frame is a colorful, pixelated display with a mix of green, '\n",
      "             'blue, red, The frame is a pixelated representation of a '\n",
      "             'television screen with the phrase \"YOU\\'RE A group of people are '\n",
      "             'running on a grass field, with some people watching from the '\n",
      "             'sidelines. A group of people are playing a game of tag on a '\n",
      "             'grassy field. A group of people are watching a race on a grassy '\n",
      "             'field. A group of people are watching a game of relay races on a '\n",
      "             'grassy field. A large group of people are gathered in a field, '\n",
      "             'watching a game or event. A large group of people are watching a '\n",
      "             'person run through a field with obstacles.',\n",
      "  'hypothesis': 'The man in a dark outfit gains speed but loses balance, '\n",
      "                'causing him to trip and fall forward onto the grass, without '\n",
      "                'affecting the other runners.',\n",
      "  'label': 'NEUTRAL',\n",
      "  'probabilities': [0.023734912276268005,\n",
      "                    0.9752212166786194,\n",
      "                    0.0010438809404149652]},\n",
      " {'premise': 'The frame is a colorful, pixelated display with a mix of green, '\n",
      "             'blue, red, The frame is a pixelated representation of a '\n",
      "             'television screen with the phrase \"YOU\\'RE A group of people are '\n",
      "             'running on a grass field, with some people watching from the '\n",
      "             'sidelines. A group of people are playing a game of tag on a '\n",
      "             'grassy field. A group of people are watching a race on a grassy '\n",
      "             'field. A group of people are watching a game of relay races on a '\n",
      "             'grassy field. A large group of people are gathered in a field, '\n",
      "             'watching a game or event. A large group of people are watching a '\n",
      "             'person run through a field with obstacles.',\n",
      "  'hypothesis': 'All participants continue running without tripping over '\n",
      "                'obstacles; however, the man in the dark outfit falls, '\n",
      "                'seemingly due to a misstep, ending his race.',\n",
      "  'label': 'NEUTRAL',\n",
      "  'probabilities': [0.3497263789176941,\n",
      "                    0.6486265659332275,\n",
      "                    0.001647140015847981]},\n",
      " {'premise': 'The frame is a colorful, pixelated display with a mix of green, '\n",
      "             'blue, red, The frame is a pixelated representation of a '\n",
      "             'television screen with the phrase \"YOU\\'RE A group of people are '\n",
      "             'running on a grass field, with some people watching from the '\n",
      "             'sidelines. A group of people are playing a game of tag on a '\n",
      "             'grassy field. A group of people are watching a race on a grassy '\n",
      "             'field. A group of people are watching a game of relay races on a '\n",
      "             'grassy field. A large group of people are gathered in a field, '\n",
      "             'watching a game or event. A large group of people are watching a '\n",
      "             'person run through a field with obstacles.',\n",
      "  'hypothesis': 'No unexpected runners enter the scene; instead, the man in '\n",
      "                'the dark outfit, who was in the lead, experiences a mishap '\n",
      "                'and tumbles onto the ground.',\n",
      "  'label': 'CONTRADICTION',\n",
      "  'probabilities': [0.9313048124313354,\n",
      "                    0.0674879252910614,\n",
      "                    0.0012072495883330703]}]\n",
      "Task 3:\n"
     ]
    },
    {
     "data": {
      "text/html": [
       "<video controls src='https://ubc-cv-sherlock.s3.us-west-2.amazonaws.com/oops/oops_val_v3/802_B_event.mp4' width='500' height='400'>"
      ],
      "text/plain": [
       "<IPython.core.display.HTML object>"
      ]
     },
     "metadata": {},
     "output_type": "display_data"
    },
    {
     "name": "stdout",
     "output_type": "stream",
     "text": [
      "[{'premise': 'The frame is a colorful, pixelated display with a mix of green, blue, red, The frame is a pixelated representation of a television screen with the phrase \"YOU\\'RE A group of people are running on a grass field, with some people watching from the sidelines. A group of people are playing a game of tag on a grassy field. A group of people are playing a game of tag on a grassy field. A group of people are running on a grass field with obstacles. A group of people are playing a game on a grassy field. A group of people are watching a relay race on a grassy field. A group of people are watching a race on a grassy field. A group of people are watching a game of relay races on a grassy field. A large group of people are gathered in a field, watching a game or event. A large group of people are watching a person run through a field with obstacles.', 'hypothesis': \"In a parents' race at a school event, the man in dark clothing loses his footing and falls, while the other participants continue running past him.\", 'label': 'NEUTRAL', 'probabilities': [0.011532501317560673, 0.9873608350753784, 0.001106593874283135]}]\n",
      "Task 1:\n"
     ]
    },
    {
     "data": {
      "text/html": [
       "<video controls src='https://ubc-cv-sherlock.s3.us-west-2.amazonaws.com/oops/oops_val_v3/822_A_preevent.mp4' width='500' height='400'>"
      ],
      "text/plain": [
       "<IPython.core.display.HTML object>"
      ]
     },
     "metadata": {},
     "output_type": "display_data"
    },
    {
     "name": "stdout",
     "output_type": "stream",
     "text": [
      "[{'premise': 'A man is walking away from a silver car parked at a gas station '\n",
      "             'at night. A man is standing next to a silver car in a gas '\n",
      "             'station parking lot at night. A man is walking across a parking '\n",
      "             'lot at night. A man is walking across a parking lot at night.',\n",
      "  'hypothesis': 'The man at the pump suddenly realizes he left his wallet and '\n",
      "                'returns to his car to retrieve it.',\n",
      "  'label': 'NEUTRAL',\n",
      "  'probabilities': [0.10042045265436172,\n",
      "                    0.897929847240448,\n",
      "                    0.001649766694754362]},\n",
      " {'premise': 'A man is walking away from a silver car parked at a gas station '\n",
      "             'at night. A man is standing next to a silver car in a gas '\n",
      "             'station parking lot at night. A man is walking across a parking '\n",
      "             'lot at night. A man is walking across a parking lot at night.',\n",
      "  'hypothesis': \"The silver car's driver begins refueling, but is interrupted \"\n",
      "                'by a phone call and steps aside to talk.',\n",
      "  'label': 'NEUTRAL',\n",
      "  'probabilities': [0.02273552678525448,\n",
      "                    0.9764541387557983,\n",
      "                    0.0008103627478703856]},\n",
      " {'premise': 'A man is walking away from a silver car parked at a gas station '\n",
      "             'at night. A man is standing next to a silver car in a gas '\n",
      "             'station parking lot at night. A man is walking across a parking '\n",
      "             'lot at night. A man is walking across a parking lot at night.',\n",
      "  'hypothesis': 'Another vehicle enters the station, causing the man walking '\n",
      "                'to pause and let the car pass before continuing on his way.',\n",
      "  'label': 'NEUTRAL',\n",
      "  'probabilities': [0.05176088586449623,\n",
      "                    0.9461771845817566,\n",
      "                    0.002061970066279173]}]\n",
      "Task 2:\n"
     ]
    },
    {
     "data": {
      "text/html": [
       "<video controls src='https://ubc-cv-sherlock.s3.us-west-2.amazonaws.com/oops/oops_val_v3/822_C_postevent.mp4' width='500' height='400'>"
      ],
      "text/plain": [
       "<IPython.core.display.HTML object>"
      ]
     },
     "metadata": {},
     "output_type": "display_data"
    },
    {
     "name": "stdout",
     "output_type": "stream",
     "text": [
      "[{'premise': 'A man is walking away from a silver car parked at a gas station '\n",
      "             'at night. A man is standing next to a silver car in a gas '\n",
      "             'station parking lot at night. A man is walking across a parking '\n",
      "             'lot at night. A man is walking across a parking lot at night. A '\n",
      "             'blurry image of a gas station at night with cars and people. A '\n",
      "             'silver car is being refueled at a gas station at night. A silver '\n",
      "             'car is being refueled at a gas station at night. A silver car is '\n",
      "             'parked at a gas station at night.',\n",
      "  'hypothesis': 'The man at the silver car steps out and nonchalantly throws '\n",
      "                'something away before wandering off, seemingly forgetful or '\n",
      "                'distracted.',\n",
      "  'label': 'NEUTRAL',\n",
      "  'probabilities': [0.005580856930464506,\n",
      "                    0.991782546043396,\n",
      "                    0.0026365043595433235]},\n",
      " {'premise': 'A man is walking away from a silver car parked at a gas station '\n",
      "             'at night. A man is standing next to a silver car in a gas '\n",
      "             'station parking lot at night. A man is walking across a parking '\n",
      "             'lot at night. A man is walking across a parking lot at night. A '\n",
      "             'blurry image of a gas station at night with cars and people. A '\n",
      "             'silver car is being refueled at a gas station at night. A silver '\n",
      "             'car is being refueled at a gas station at night. A silver car is '\n",
      "             'parked at a gas station at night.',\n",
      "  'hypothesis': 'After alighting from the car, the driver throws trash on the '\n",
      "                'ground, showing a lack of concern for the cleanliness of the '\n",
      "                'gas station.',\n",
      "  'label': 'NEUTRAL',\n",
      "  'probabilities': [0.07619918882846832,\n",
      "                    0.9171836972236633,\n",
      "                    0.006617020815610886]},\n",
      " {'premise': 'A man is walking away from a silver car parked at a gas station '\n",
      "             'at night. A man is standing next to a silver car in a gas '\n",
      "             'station parking lot at night. A man is walking across a parking '\n",
      "             'lot at night. A man is walking across a parking lot at night. A '\n",
      "             'blurry image of a gas station at night with cars and people. A '\n",
      "             'silver car is being refueled at a gas station at night. A silver '\n",
      "             'car is being refueled at a gas station at night. A silver car is '\n",
      "             'parked at a gas station at night.',\n",
      "  'hypothesis': 'The individual exits the vehicle and casually discards waste '\n",
      "                'onto the pavement, suggesting a disregard for environmental '\n",
      "                'etiquette at the station.',\n",
      "  'label': 'NEUTRAL',\n",
      "  'probabilities': [0.07306656241416931,\n",
      "                    0.9213442206382751,\n",
      "                    0.005589218344539404]}]\n",
      "Task 3:\n"
     ]
    },
    {
     "data": {
      "text/html": [
       "<video controls src='https://ubc-cv-sherlock.s3.us-west-2.amazonaws.com/oops/oops_val_v3/822_B_event.mp4' width='500' height='400'>"
      ],
      "text/plain": [
       "<IPython.core.display.HTML object>"
      ]
     },
     "metadata": {},
     "output_type": "display_data"
    },
    {
     "name": "stdout",
     "output_type": "stream",
     "text": [
      "[{'premise': 'A man is walking away from a silver car parked at a gas station at night. A man is standing next to a silver car in a gas station parking lot at night. A man is walking across a parking lot at night. A man is walking across a parking lot at night. A man is walking across a parking lot at night. A man is walking across a parking lot at night. A nighttime scene at a gas station with cars parked and refueling. A man is pumping gas into a car at a gas station at night. A blurry image of a gas station at night with cars and people. A silver car is being refueled at a gas station at night. A silver car is being refueled at a gas station at night. A silver car is parked at a gas station at night.', 'hypothesis': 'The driver exits the car, tosses an item on the ground, displaying improper disposal of litter in a public space.', 'label': 'NEUTRAL', 'probabilities': [0.26132503151893616, 0.7345728874206543, 0.004101995844393969]}]\n",
      "Task 1:\n"
     ]
    },
    {
     "data": {
      "text/html": [
       "<video controls src='https://ubc-cv-sherlock.s3.us-west-2.amazonaws.com/oops/oops_val_v3/823_A_preevent.mp4' width='500' height='400'>"
      ],
      "text/plain": [
       "<IPython.core.display.HTML object>"
      ]
     },
     "metadata": {},
     "output_type": "display_data"
    },
    {
     "name": "stdout",
     "output_type": "stream",
     "text": [
      "[{'premise': 'A group of people are standing on a grassy hillside, with a '\n",
      "             'rocky area and trees A group of people are hiking up a steep '\n",
      "             'hillside, with a rocky outcropping A group of people are riding '\n",
      "             'bikes on a trail through a grassy field. A group of people are '\n",
      "             'riding bikes on a mountain trail.',\n",
      "  'hypothesis': 'The cyclist regains balance, continues downhill. Skilled '\n",
      "                'riding and quick reflexes allow a smooth recovery, finishing '\n",
      "                'the trail successfully.',\n",
      "  'label': 'NEUTRAL',\n",
      "  'probabilities': [0.06502477824687958,\n",
      "                    0.9327600598335266,\n",
      "                    0.0022152296733111143]},\n",
      " {'premise': 'A group of people are standing on a grassy hillside, with a '\n",
      "             'rocky area and trees A group of people are hiking up a steep '\n",
      "             'hillside, with a rocky outcropping A group of people are riding '\n",
      "             'bikes on a trail through a grassy field. A group of people are '\n",
      "             'riding bikes on a mountain trail.',\n",
      "  'hypothesis': 'The cyclist falls, tumbles down the trail. Steep terrain and '\n",
      "                'loose footing cause a spill, leading to an unfortunate crash '\n",
      "                'but no severe injury.',\n",
      "  'label': 'NEUTRAL',\n",
      "  'probabilities': [0.028759004548192024,\n",
      "                    0.9696797132492065,\n",
      "                    0.001561289536766708]},\n",
      " {'premise': 'A group of people are standing on a grassy hillside, with a '\n",
      "             'rocky area and trees A group of people are hiking up a steep '\n",
      "             'hillside, with a rocky outcropping A group of people are riding '\n",
      "             'bikes on a trail through a grassy field. A group of people are '\n",
      "             'riding bikes on a mountain trail.',\n",
      "  'hypothesis': 'Another rider appears, narrowly avoids collision. Quick '\n",
      "                'maneuvering by both cyclists prevents an accident, they both '\n",
      "                'continue cautiously down the path.',\n",
      "  'label': 'NEUTRAL',\n",
      "  'probabilities': [0.014604948461055756,\n",
      "                    0.9835207462310791,\n",
      "                    0.0018742791144177318]}]\n",
      "Task 2:\n"
     ]
    },
    {
     "data": {
      "text/html": [
       "<video controls src='https://ubc-cv-sherlock.s3.us-west-2.amazonaws.com/oops/oops_val_v3/823_C_postevent.mp4' width='500' height='400'>"
      ],
      "text/plain": [
       "<IPython.core.display.HTML object>"
      ]
     },
     "metadata": {},
     "output_type": "display_data"
    },
    {
     "name": "stdout",
     "output_type": "stream",
     "text": [
      "[{'premise': 'A group of people are standing on a grassy hillside, with a '\n",
      "             'rocky area and trees A group of people are hiking up a steep '\n",
      "             'hillside, with a rocky outcropping A group of people are riding '\n",
      "             'bikes on a trail through a grassy field. A group of people are '\n",
      "             'riding bikes on a mountain trail. A person in a red jacket is '\n",
      "             'riding a dirt bike through a grassy area with trees. A person in '\n",
      "             'an orange jacket is riding a motorcycle through a grassy area '\n",
      "             'with trees. A person in an orange jacket is riding a bicycle '\n",
      "             'through a grassy area with a dog. A group of people riding '\n",
      "             'bicycles on a grassy hill.',\n",
      "  'hypothesis': 'The cyclist failed to regain balance, resulting in a fall and '\n",
      "                'slide down the slope, as evident from the dust and dislodged '\n",
      "                'bike.',\n",
      "  'label': 'NEUTRAL',\n",
      "  'probabilities': [0.19684931635856628,\n",
      "                    0.8011309504508972,\n",
      "                    0.002019672654569149]},\n",
      " {'premise': 'A group of people are standing on a grassy hillside, with a '\n",
      "             'rocky area and trees A group of people are hiking up a steep '\n",
      "             'hillside, with a rocky outcropping A group of people are riding '\n",
      "             'bikes on a trail through a grassy field. A group of people are '\n",
      "             'riding bikes on a mountain trail. A person in a red jacket is '\n",
      "             'riding a dirt bike through a grassy area with trees. A person in '\n",
      "             'an orange jacket is riding a motorcycle through a grassy area '\n",
      "             'with trees. A person in an orange jacket is riding a bicycle '\n",
      "             'through a grassy area with a dog. A group of people riding '\n",
      "             'bicycles on a grassy hill.',\n",
      "  'hypothesis': 'The fall was caused by mishandling the rough terrain, leading '\n",
      "                'to a topple over the rock and a subsequent slide into the '\n",
      "                'grass.',\n",
      "  'label': 'NEUTRAL',\n",
      "  'probabilities': [0.004938497673720121,\n",
      "                    0.9942446351051331,\n",
      "                    0.0008168751373887062]},\n",
      " {'premise': 'A group of people are standing on a grassy hillside, with a '\n",
      "             'rocky area and trees A group of people are hiking up a steep '\n",
      "             'hillside, with a rocky outcropping A group of people are riding '\n",
      "             'bikes on a trail through a grassy field. A group of people are '\n",
      "             'riding bikes on a mountain trail. A person in a red jacket is '\n",
      "             'riding a dirt bike through a grassy area with trees. A person in '\n",
      "             'an orange jacket is riding a motorcycle through a grassy area '\n",
      "             'with trees. A person in an orange jacket is riding a bicycle '\n",
      "             'through a grassy area with a dog. A group of people riding '\n",
      "             'bicycles on a grassy hill.',\n",
      "  'hypothesis': 'There were no other riders involved; the sole cyclist lost '\n",
      "                'control and crashed on the challenging mountain biking trail, '\n",
      "                'as shown by the solitary outcome.',\n",
      "  'label': 'CONTRADICTION',\n",
      "  'probabilities': [0.9166039228439331,\n",
      "                    0.0810236930847168,\n",
      "                    0.002372311893850565]}]\n",
      "Task 3:\n"
     ]
    },
    {
     "data": {
      "text/html": [
       "<video controls src='https://ubc-cv-sherlock.s3.us-west-2.amazonaws.com/oops/oops_val_v3/823_B_event.mp4' width='500' height='400'>"
      ],
      "text/plain": [
       "<IPython.core.display.HTML object>"
      ]
     },
     "metadata": {},
     "output_type": "display_data"
    },
    {
     "name": "stdout",
     "output_type": "stream",
     "text": [
      "[{'premise': 'A group of people are standing on a grassy hillside, with a rocky area and trees A group of people are hiking up a steep hillside, with a rocky outcropping A group of people are riding bikes on a trail through a grassy field. A group of people are riding bikes on a mountain trail. A group of people are riding bikes on a mountain trail. A group of people are gathered in a grassy field, with a bicycle lying on the ground A person is falling down a hillside, surrounded by grass and trees. A person in a red jacket is riding a motorcycle through a grassy area with trees and rocks A person in a red jacket is riding a dirt bike through a grassy area with trees. A person in an orange jacket is riding a motorcycle through a grassy area with trees. A person in an orange jacket is riding a bicycle through a grassy area with a dog. A group of people riding bicycles on a grassy hill.', 'hypothesis': 'The mountain biker loses control and crashes, sliding down the slope after hitting a rock, indicated by the dust and dislodged bicycle.', 'label': 'NEUTRAL', 'probabilities': [0.09439022839069366, 0.9022059440612793, 0.0034037611912935972]}]\n",
      "Task 1:\n"
     ]
    },
    {
     "data": {
      "text/html": [
       "<video controls src='https://ubc-cv-sherlock.s3.us-west-2.amazonaws.com/oops/oops_val_v3/828_A_preevent.mp4' width='500' height='400'>"
      ],
      "text/plain": [
       "<IPython.core.display.HTML object>"
      ]
     },
     "metadata": {},
     "output_type": "display_data"
    },
    {
     "name": "stdout",
     "output_type": "stream",
     "text": [
      "[{'premise': 'A brown volkswagen truck is parked in a snowy landscape with '\n",
      "             'trees and a boat in A brown volkswagen truck is parked in a '\n",
      "             'snowy area with trees in the background. A snowboarder is '\n",
      "             'performing a trick in the air, with a brown car and a white boat '\n",
      "             'A brown pickup truck is stuck in a snowy field.',\n",
      "  'hypothesis': 'A person on a bike attempts a stunt, loses balance, and falls '\n",
      "                'into the snow, while onlookers react with surprise or '\n",
      "                'laughter.',\n",
      "  'label': 'CONTRADICTION',\n",
      "  'probabilities': [0.6063408255577087,\n",
      "                    0.36124733090400696,\n",
      "                    0.032411765307188034]},\n",
      " {'premise': 'A brown volkswagen truck is parked in a snowy landscape with '\n",
      "             'trees and a boat in A brown volkswagen truck is parked in a '\n",
      "             'snowy area with trees in the background. A snowboarder is '\n",
      "             'performing a trick in the air, with a brown car and a white boat '\n",
      "             'A brown pickup truck is stuck in a snowy field.',\n",
      "  'hypothesis': 'The biker successfully completes a trick on the snowy ramp, '\n",
      "                'impressing the audience and earning applause for their '\n",
      "                'skillful maneuver.',\n",
      "  'label': 'NEUTRAL',\n",
      "  'probabilities': [0.0018441625870764256,\n",
      "                    0.9972220659255981,\n",
      "                    0.0009337439551018178]},\n",
      " {'premise': 'A brown volkswagen truck is parked in a snowy landscape with '\n",
      "             'trees and a boat in A brown volkswagen truck is parked in a '\n",
      "             'snowy area with trees in the background. A snowboarder is '\n",
      "             'performing a trick in the air, with a brown car and a white boat '\n",
      "             'A brown pickup truck is stuck in a snowy field.',\n",
      "  'hypothesis': \"The bike's wheels slip on the icy surface, causing the rider \"\n",
      "                'to swerve unexpectedly and crash into the nearby tree, '\n",
      "                'startling the spectators.',\n",
      "  'label': 'NEUTRAL',\n",
      "  'probabilities': [0.11206471174955368,\n",
      "                    0.88593989610672,\n",
      "                    0.001995332073420286]}]\n",
      "Task 2:\n"
     ]
    },
    {
     "data": {
      "text/html": [
       "<video controls src='https://ubc-cv-sherlock.s3.us-west-2.amazonaws.com/oops/oops_val_v3/828_C_postevent.mp4' width='500' height='400'>"
      ],
      "text/plain": [
       "<IPython.core.display.HTML object>"
      ]
     },
     "metadata": {},
     "output_type": "display_data"
    },
    {
     "name": "stdout",
     "output_type": "stream",
     "text": [
      "[{'premise': 'A brown volkswagen truck is parked in a snowy landscape with '\n",
      "             'trees and a boat in A brown volkswagen truck is parked in a '\n",
      "             'snowy area with trees in the background. A snowboarder is '\n",
      "             'performing a trick in the air, with a brown car and a white boat '\n",
      "             'A brown pickup truck is stuck in a snowy field. A group of '\n",
      "             'people standing in the snow, with one person pointing at '\n",
      "             'something. A group of people are standing in the snow, watching '\n",
      "             'a person riding a bicycle. A person is performing a stunt on a '\n",
      "             'bicycle, while others watch and take pictures. The frame is '\n",
      "             'blurry and shows a snowy landscape with trees and a person in '\n",
      "             'the foreground',\n",
      "  'hypothesis': 'The biker, attempting a jump from a snowy ramp, fails and '\n",
      "                'falls midair, resulting in an unplanned landing in the snow.',\n",
      "  'label': 'NEUTRAL',\n",
      "  'probabilities': [0.4110196828842163,\n",
      "                    0.5859420895576477,\n",
      "                    0.003038166556507349]},\n",
      " {'premise': 'A brown volkswagen truck is parked in a snowy landscape with '\n",
      "             'trees and a boat in A brown volkswagen truck is parked in a '\n",
      "             'snowy area with trees in the background. A snowboarder is '\n",
      "             'performing a trick in the air, with a brown car and a white boat '\n",
      "             'A brown pickup truck is stuck in a snowy field. A group of '\n",
      "             'people standing in the snow, with one person pointing at '\n",
      "             'something. A group of people are standing in the snow, watching '\n",
      "             'a person riding a bicycle. A person is performing a stunt on a '\n",
      "             'bicycle, while others watch and take pictures. The frame is '\n",
      "             'blurry and shows a snowy landscape with trees and a person in '\n",
      "             'the foreground',\n",
      "  'hypothesis': 'Executing the snowy ramp jump, the rider loses balance in '\n",
      "                'midair and experiences an unintended dismount onto the snow.',\n",
      "  'label': 'NEUTRAL',\n",
      "  'probabilities': [0.23392030596733093,\n",
      "                    0.7600327134132385,\n",
      "                    0.006046958267688751]},\n",
      " {'premise': 'A brown volkswagen truck is parked in a snowy landscape with '\n",
      "             'trees and a boat in A brown volkswagen truck is parked in a '\n",
      "             'snowy area with trees in the background. A snowboarder is '\n",
      "             'performing a trick in the air, with a brown car and a white boat '\n",
      "             'A brown pickup truck is stuck in a snowy field. A group of '\n",
      "             'people standing in the snow, with one person pointing at '\n",
      "             'something. A group of people are standing in the snow, watching '\n",
      "             'a person riding a bicycle. A person is performing a stunt on a '\n",
      "             'bicycle, while others watch and take pictures. The frame is '\n",
      "             'blurry and shows a snowy landscape with trees and a person in '\n",
      "             'the foreground',\n",
      "  'hypothesis': 'While attempting a trick, the cyclist is unable to maintain '\n",
      "                'control after lift-off, leading to an unexpected fall into '\n",
      "                'the snow.',\n",
      "  'label': 'NEUTRAL',\n",
      "  'probabilities': [0.10749807208776474,\n",
      "                    0.8883548974990845,\n",
      "                    0.004147056955844164]}]\n",
      "Task 3:\n"
     ]
    },
    {
     "data": {
      "text/html": [
       "<video controls src='https://ubc-cv-sherlock.s3.us-west-2.amazonaws.com/oops/oops_val_v3/828_B_event.mp4' width='500' height='400'>"
      ],
      "text/plain": [
       "<IPython.core.display.HTML object>"
      ]
     },
     "metadata": {},
     "output_type": "display_data"
    },
    {
     "name": "stdout",
     "output_type": "stream",
     "text": [
      "[{'premise': 'A brown volkswagen truck is parked in a snowy landscape with trees and a boat in A brown volkswagen truck is parked in a snowy area with trees in the background. A snowboarder is performing a trick in the air, with a brown car and a white boat A brown pickup truck is stuck in a snowy field. A brown pickup truck is driving through a snowy landscape with a ski ramp in the background. A man is snowboarding in front of a brown truck with the word \"volkswagen A group of people standing in the snow, with some taking pictures and others watching. A group of people in winter clothing, standing in a snowy area, with some of them holding A group of people standing in the snow, with one person pointing at something. A group of people are standing in the snow, watching a person riding a bicycle. A person is performing a stunt on a bicycle, while others watch and take pictures. The frame is blurry and shows a snowy landscape with trees and a person in the foreground', 'hypothesis': 'Attempting a biking trick on a snowy course, the cyclist misjudges the jump, leading to an overhead flip and a snowy crash, as onlookers watch.', 'label': 'NEUTRAL', 'probabilities': [0.12714152038097382, 0.8684422969818115, 0.004416243638843298]}]\n",
      "Task 1:\n"
     ]
    },
    {
     "data": {
      "text/html": [
       "<video controls src='https://ubc-cv-sherlock.s3.us-west-2.amazonaws.com/oops/oops_val_v3/831_A_preevent.mp4' width='500' height='400'>"
      ],
      "text/plain": [
       "<IPython.core.display.HTML object>"
      ]
     },
     "metadata": {},
     "output_type": "display_data"
    },
    {
     "name": "stdout",
     "output_type": "stream",
     "text": [
      "[{'premise': 'A young child riding a green scooter on a sidewalk. A young '\n",
      "             'child riding a green scooter on a sidewalk. A young boy wearing '\n",
      "             'a green helmet is riding a green scooter on a street. A young '\n",
      "             'child wearing a helmet is riding a green scooter on a street.',\n",
      "  'hypothesis': \"The child might misjudge the scooter's balance, leading to a \"\n",
      "                'fall. A quick step off or a stumble could cause the child to '\n",
      "                'lose stability.',\n",
      "  'label': 'NEUTRAL',\n",
      "  'probabilities': [0.0005970358615741134,\n",
      "                    0.9869317412376404,\n",
      "                    0.012471220456063747]},\n",
      " {'premise': 'A young child riding a green scooter on a sidewalk. A young '\n",
      "             'child riding a green scooter on a sidewalk. A young boy wearing '\n",
      "             'a green helmet is riding a green scooter on a street. A young '\n",
      "             'child wearing a helmet is riding a green scooter on a street.',\n",
      "  'hypothesis': 'The scooter could hit an unseen obstacle, like a small rock '\n",
      "                'or crack, causing it to stop abruptly and potentially '\n",
      "                'throwing the child off balance.',\n",
      "  'label': 'NEUTRAL',\n",
      "  'probabilities': [0.0006526772631332278,\n",
      "                    0.9974265694618225,\n",
      "                    0.001920700422488153]},\n",
      " {'premise': 'A young child riding a green scooter on a sidewalk. A young '\n",
      "             'child riding a green scooter on a sidewalk. A young boy wearing '\n",
      "             'a green helmet is riding a green scooter on a street. A young '\n",
      "             'child wearing a helmet is riding a green scooter on a street.',\n",
      "  'hypothesis': 'The child could successfully navigate the scooter and '\n",
      "                'continue riding without incident, showing improved '\n",
      "                'coordination and balance as they move along.',\n",
      "  'label': 'NEUTRAL',\n",
      "  'probabilities': [0.0014610934304073453,\n",
      "                    0.997642457485199,\n",
      "                    0.0008964210865087807]}]\n",
      "Task 2:\n"
     ]
    },
    {
     "data": {
      "text/html": [
       "<video controls src='https://ubc-cv-sherlock.s3.us-west-2.amazonaws.com/oops/oops_val_v3/831_C_postevent.mp4' width='500' height='400'>"
      ],
      "text/plain": [
       "<IPython.core.display.HTML object>"
      ]
     },
     "metadata": {},
     "output_type": "display_data"
    },
    {
     "name": "stdout",
     "output_type": "stream",
     "text": [
      "[{'premise': 'A young child riding a green scooter on a sidewalk. A young '\n",
      "             'child riding a green scooter on a sidewalk. A young boy wearing '\n",
      "             'a green helmet is riding a green scooter on a street. A young '\n",
      "             'child wearing a helmet is riding a green scooter on a street. A '\n",
      "             'young boy wearing a green helmet with spikes and a white shirt '\n",
      "             'with a dinosaur print A young boy wearing a green helmet with '\n",
      "             'spikes and a white shirt with a horse design. A young child '\n",
      "             'wearing a green helmet with spikes and a white shirt with a '\n",
      "             'dinosaur print A young child wearing a green helmet with a blue '\n",
      "             'and white shirt and blue jeans.',\n",
      "  'hypothesis': \"The child's attempt to ride the scooter ended with a loss of \"\n",
      "                'balance, leading them to step off and regain footing on the '\n",
      "                'ground.',\n",
      "  'label': 'NEUTRAL',\n",
      "  'probabilities': [0.12122838199138641,\n",
      "                    0.876397967338562,\n",
      "                    0.0023736832663416862]},\n",
      " {'premise': 'A young child riding a green scooter on a sidewalk. A young '\n",
      "             'child riding a green scooter on a sidewalk. A young boy wearing '\n",
      "             'a green helmet is riding a green scooter on a street. A young '\n",
      "             'child wearing a helmet is riding a green scooter on a street. A '\n",
      "             'young boy wearing a green helmet with spikes and a white shirt '\n",
      "             'with a dinosaur print A young boy wearing a green helmet with '\n",
      "             'spikes and a white shirt with a horse design. A young child '\n",
      "             'wearing a green helmet with spikes and a white shirt with a '\n",
      "             'dinosaur print A young child wearing a green helmet with a blue '\n",
      "             'and white shirt and blue jeans.',\n",
      "  'hypothesis': 'The scooter came to an unexpected halt, possibly due to the '\n",
      "                \"child's weight shift or an unseen obstacle, causing them to \"\n",
      "                'stumble forward.',\n",
      "  'label': 'NEUTRAL',\n",
      "  'probabilities': [0.003225906752049923,\n",
      "                    0.996026873588562,\n",
      "                    0.0007471519056707621]},\n",
      " {'premise': 'A young child riding a green scooter on a sidewalk. A young '\n",
      "             'child riding a green scooter on a sidewalk. A young boy wearing '\n",
      "             'a green helmet is riding a green scooter on a street. A young '\n",
      "             'child wearing a helmet is riding a green scooter on a street. A '\n",
      "             'young boy wearing a green helmet with spikes and a white shirt '\n",
      "             'with a dinosaur print A young boy wearing a green helmet with '\n",
      "             'spikes and a white shirt with a horse design. A young child '\n",
      "             'wearing a green helmet with spikes and a white shirt with a '\n",
      "             'dinosaur print A young child wearing a green helmet with a blue '\n",
      "             'and white shirt and blue jeans.',\n",
      "  'hypothesis': 'Despite initial instability, the child managed to dismount '\n",
      "                'the scooter without injury, showcasing quick reflexes and an '\n",
      "                'ability to recover from a potential fall.',\n",
      "  'label': 'NEUTRAL',\n",
      "  'probabilities': [0.0028011705726385117,\n",
      "                    0.9964853525161743,\n",
      "                    0.0007135096821002662]}]\n",
      "Task 3:\n"
     ]
    },
    {
     "data": {
      "text/html": [
       "<video controls src='https://ubc-cv-sherlock.s3.us-west-2.amazonaws.com/oops/oops_val_v3/831_B_event.mp4' width='500' height='400'>"
      ],
      "text/plain": [
       "<IPython.core.display.HTML object>"
      ]
     },
     "metadata": {},
     "output_type": "display_data"
    },
    {
     "name": "stdout",
     "output_type": "stream",
     "text": [
      "[{'premise': 'A young child riding a green scooter on a sidewalk. A young child riding a green scooter on a sidewalk. A young boy wearing a green helmet is riding a green scooter on a street. A young child wearing a helmet is riding a green scooter on a street. A young child wearing a helmet is riding a green scooter on a street. A child is lying on the ground, wearing a green helmet with black spots. A child is crouching on the ground, wearing a helmet, and appears to be playing with A young boy wearing a green helmet with spikes and a white shirt with a dinosaur print A young boy wearing a green helmet with spikes and a white shirt with a dinosaur print A young boy wearing a green helmet with spikes and a white shirt with a horse design. A young child wearing a green helmet with spikes and a white shirt with a dinosaur print A young child wearing a green helmet with a blue and white shirt and blue jeans.', 'hypothesis': 'The child riding the scooter encountered an imbalance, stepping off awkwardly, which resulted in a tumble to the pavement.', 'label': 'NEUTRAL', 'probabilities': [0.02038576453924179, 0.9786828756332397, 0.000931410351768136]}]\n",
      "Task 1:\n"
     ]
    },
    {
     "data": {
      "text/html": [
       "<video controls src='https://ubc-cv-sherlock.s3.us-west-2.amazonaws.com/oops/oops_val_v3/859_A_preevent.mp4' width='500' height='400'>"
      ],
      "text/plain": [
       "<IPython.core.display.HTML object>"
      ]
     },
     "metadata": {},
     "output_type": "display_data"
    },
    {
     "name": "stdout",
     "output_type": "stream",
     "text": [
      "[{'premise': 'A man is standing in a room with a deer, and there are chairs '\n",
      "             'and a table in the A man is holding a deer on a leash in a room '\n",
      "             'with chairs and a table. A man is holding a dog on a leash in a '\n",
      "             'backyard. A man is playing with a dog in a room with chairs and '\n",
      "             'a table.',\n",
      "  'hypothesis': 'The person dodges aside, the dog grabs the toy, and they '\n",
      "                'playfully continue tug-of-war, demonstrating a common and '\n",
      "                'playful interaction between humans and pets.',\n",
      "  'label': 'NEUTRAL',\n",
      "  'probabilities': [0.35868358612060547,\n",
      "                    0.6378336548805237,\n",
      "                    0.0034827885683625937]},\n",
      " {'premise': 'A man is standing in a room with a deer, and there are chairs '\n",
      "             'and a table in the A man is holding a deer on a leash in a room '\n",
      "             'with chairs and a table. A man is holding a dog on a leash in a '\n",
      "             'backyard. A man is playing with a dog in a room with chairs and '\n",
      "             'a table.',\n",
      "  'hypothesis': 'The dog loses its grip, the toy flings away, and both the '\n",
      "                'person and the dog chase after it, leading to a humorous '\n",
      "                'moment of playful pursuit.',\n",
      "  'label': 'NEUTRAL',\n",
      "  'probabilities': [0.13369625806808472,\n",
      "                    0.863676130771637,\n",
      "                    0.0026275988202542067]},\n",
      " {'premise': 'A man is standing in a room with a deer, and there are chairs '\n",
      "             'and a table in the A man is holding a deer on a leash in a room '\n",
      "             'with chairs and a table. A man is holding a dog on a leash in a '\n",
      "             'backyard. A man is playing with a dog in a room with chairs and '\n",
      "             'a table.',\n",
      "  'hypothesis': 'The person gently lets go of the toy, allowing the dog to '\n",
      "                'triumphantly run off with it, perhaps ending the game or '\n",
      "                \"signaling a reward for the dog's persistence.\",\n",
      "  'label': 'NEUTRAL',\n",
      "  'probabilities': [0.16460762917995453,\n",
      "                    0.833554208278656,\n",
      "                    0.0018381166737526655]}]\n",
      "Task 2:\n"
     ]
    },
    {
     "data": {
      "text/html": [
       "<video controls src='https://ubc-cv-sherlock.s3.us-west-2.amazonaws.com/oops/oops_val_v3/859_C_postevent.mp4' width='500' height='400'>"
      ],
      "text/plain": [
       "<IPython.core.display.HTML object>"
      ]
     },
     "metadata": {},
     "output_type": "display_data"
    },
    {
     "name": "stdout",
     "output_type": "stream",
     "text": [
      "[{'premise': 'A man is standing in a room with a deer, and there are chairs '\n",
      "             'and a table in the A man is holding a deer on a leash in a room '\n",
      "             'with chairs and a table. A man is holding a dog on a leash in a '\n",
      "             'backyard. A man is playing with a dog in a room with chairs and '\n",
      "             'a table. A deer is running through a room with green carpet and '\n",
      "             'furniture. A dog is running through a room with green carpeting, '\n",
      "             'past a white chair and a table. A dog is running through a room '\n",
      "             'with green carpeting, white chairs, and a white table. A dog is '\n",
      "             'running through a room with green carpeting, knocking over a '\n",
      "             'person who is lying',\n",
      "  'hypothesis': 'The person accidentally throws the toy behind while dodging '\n",
      "                'the dog, creating an unexpected twist in their playful '\n",
      "                'tug-of-war game.',\n",
      "  'label': 'NEUTRAL',\n",
      "  'probabilities': [0.3374142348766327,\n",
      "                    0.658367395401001,\n",
      "                    0.004218317102640867]},\n",
      " {'premise': 'A man is standing in a room with a deer, and there are chairs '\n",
      "             'and a table in the A man is holding a deer on a leash in a room '\n",
      "             'with chairs and a table. A man is holding a dog on a leash in a '\n",
      "             'backyard. A man is playing with a dog in a room with chairs and '\n",
      "             'a table. A deer is running through a room with green carpet and '\n",
      "             'furniture. A dog is running through a room with green carpeting, '\n",
      "             'past a white chair and a table. A dog is running through a room '\n",
      "             'with green carpeting, white chairs, and a white table. A dog is '\n",
      "             'running through a room with green carpeting, knocking over a '\n",
      "             'person who is lying',\n",
      "  'hypothesis': \"The dog's energetic pull overpowers the person, causing them \"\n",
      "                'to lose balance and fall backward, turning a play session '\n",
      "                'into a comical tumble.',\n",
      "  'label': 'NEUTRAL',\n",
      "  'probabilities': [0.0012878694105893373,\n",
      "                    0.9744173288345337,\n",
      "                    0.024294769391417503]},\n",
      " {'premise': 'A man is standing in a room with a deer, and there are chairs '\n",
      "             'and a table in the A man is holding a deer on a leash in a room '\n",
      "             'with chairs and a table. A man is holding a dog on a leash in a '\n",
      "             'backyard. A man is playing with a dog in a room with chairs and '\n",
      "             'a table. A deer is running through a room with green carpet and '\n",
      "             'furniture. A dog is running through a room with green carpeting, '\n",
      "             'past a white chair and a table. A dog is running through a room '\n",
      "             'with green carpeting, white chairs, and a white table. A dog is '\n",
      "             'running through a room with green carpeting, knocking over a '\n",
      "             'person who is lying',\n",
      "  'hypothesis': 'The struggle for the toy results in both the person and the '\n",
      "                'dog losing their grip, leading to a funny and chaotic '\n",
      "                'scramble for the object.',\n",
      "  'label': 'NEUTRAL',\n",
      "  'probabilities': [0.020499520003795624,\n",
      "                    0.9766115546226501,\n",
      "                    0.0028888352680951357]}]\n",
      "Task 3:\n"
     ]
    },
    {
     "data": {
      "text/html": [
       "<video controls src='https://ubc-cv-sherlock.s3.us-west-2.amazonaws.com/oops/oops_val_v3/859_B_event.mp4' width='500' height='400'>"
      ],
      "text/plain": [
       "<IPython.core.display.HTML object>"
      ]
     },
     "metadata": {},
     "output_type": "display_data"
    },
    {
     "name": "stdout",
     "output_type": "stream",
     "text": [
      "[{'premise': 'A man is standing in a room with a deer, and there are chairs and a table in the A man is holding a deer on a leash in a room with chairs and a table. A man is holding a dog on a leash in a backyard. A man is playing with a dog in a room with chairs and a table. A man is playing with a dog in a room with chairs and a table. A man is playing with a dog in a room with green carpeting and white chairs. A dog is running across a green carpeted floor in a room with various furniture and crates. A deer is running through a room with green carpeting and furniture. A deer is running through a room with green carpet and furniture. A dog is running through a room with green carpeting, past a white chair and a table. A dog is running through a room with green carpeting, white chairs, and a white table. A dog is running through a room with green carpeting, knocking over a person who is lying', 'hypothesis': \"During a tug-of-war game, the dog's pull causes the person to spin and release the toy, leading to an accidental fall, while the dog retrieves the toy triumphantly.\", 'label': 'NEUTRAL', 'probabilities': [0.16922180354595184, 0.8193501830101013, 0.01142801996320486]}]\n",
      "Task 1:\n"
     ]
    },
    {
     "data": {
      "text/html": [
       "<video controls src='https://ubc-cv-sherlock.s3.us-west-2.amazonaws.com/oops/oops_val_v3/860_A_preevent.mp4' width='500' height='400'>"
      ],
      "text/plain": [
       "<IPython.core.display.HTML object>"
      ]
     },
     "metadata": {},
     "output_type": "display_data"
    },
    {
     "name": "stdout",
     "output_type": "stream",
     "text": [
      "[{'premise': 'A young girl is pouring water from a plastic jug onto a white '\n",
      "             'towel on a kitchen counter. A young girl is pouring milk from a '\n",
      "             'jug into a glass on a kitchen counter. A young girl is sitting '\n",
      "             'at a kitchen counter, holding a plastic bag and looking at it. A '\n",
      "             'young girl is pouring water from a pitcher into a glass on a '\n",
      "             'kitchen counter.',\n",
      "  'hypothesis': 'The volcano experiment erupts, spewing foam onto the counter '\n",
      "                'as a classic baking soda and vinegar reaction demonstrates a '\n",
      "                'chemical change for a science project.',\n",
      "  'label': 'CONTRADICTION',\n",
      "  'probabilities': [0.7326022982597351,\n",
      "                    0.25933605432510376,\n",
      "                    0.008061584085226059]},\n",
      " {'premise': 'A young girl is pouring water from a plastic jug onto a white '\n",
      "             'towel on a kitchen counter. A young girl is pouring milk from a '\n",
      "             'jug into a glass on a kitchen counter. A young girl is sitting '\n",
      "             'at a kitchen counter, holding a plastic bag and looking at it. A '\n",
      "             'young girl is pouring water from a pitcher into a glass on a '\n",
      "             'kitchen counter.',\n",
      "  'hypothesis': 'A curious cat jumps onto the counter, startlingly hits the '\n",
      "                'vinegar, causing it to spill and interact with the baking '\n",
      "                'soda, creating an unplanned mess.',\n",
      "  'label': 'CONTRADICTION',\n",
      "  'probabilities': [0.7802372574806213,\n",
      "                    0.21369178593158722,\n",
      "                    0.006070955656468868]},\n",
      " {'premise': 'A young girl is pouring water from a plastic jug onto a white '\n",
      "             'towel on a kitchen counter. A young girl is pouring milk from a '\n",
      "             'jug into a glass on a kitchen counter. A young girl is sitting '\n",
      "             'at a kitchen counter, holding a plastic bag and looking at it. A '\n",
      "             'young girl is pouring water from a pitcher into a glass on a '\n",
      "             'kitchen counter.',\n",
      "  'hypothesis': 'The scene is for an instructional video; a person carefully '\n",
      "                'adds dye to the vinegar before pouring it into the volcano, '\n",
      "                'teaching viewers how to make colored foam.',\n",
      "  'label': 'NEUTRAL',\n",
      "  'probabilities': [0.0595838837325573,\n",
      "                    0.9381078481674194,\n",
      "                    0.0023083302658051252]}]\n",
      "Task 2:\n"
     ]
    },
    {
     "data": {
      "text/html": [
       "<video controls src='https://ubc-cv-sherlock.s3.us-west-2.amazonaws.com/oops/oops_val_v3/860_C_postevent.mp4' width='500' height='400'>"
      ],
      "text/plain": [
       "<IPython.core.display.HTML object>"
      ]
     },
     "metadata": {},
     "output_type": "display_data"
    },
    {
     "name": "stdout",
     "output_type": "stream",
     "text": [
      "[]\n",
      "Task 3:\n"
     ]
    },
    {
     "data": {
      "text/html": [
       "<video controls src='https://ubc-cv-sherlock.s3.us-west-2.amazonaws.com/oops/oops_val_v3/860_B_event.mp4' width='500' height='400'>"
      ],
      "text/plain": [
       "<IPython.core.display.HTML object>"
      ]
     },
     "metadata": {},
     "output_type": "display_data"
    },
    {
     "name": "stdout",
     "output_type": "stream",
     "text": [
      "[{'premise': 'A young girl is pouring water from a plastic jug onto a white towel on a kitchen counter. A young girl is pouring milk from a jug into a glass on a kitchen counter. A young girl is sitting at a kitchen counter, holding a plastic bag and looking at it. A young girl is pouring water from a pitcher into a glass on a kitchen counter. A young girl is pouring water from a pitcher into a glass on a kitchen counter. A blurry image of a kitchen counter with a towel and a spoon rest on it. A kitchen scene with a black countertop, a stainless steel refrigerator, a microwave A kitchen scene with a black countertop, a stainless steel refrigerator, a microwave A kitchen scene with a black countertop, a stainless steel refrigerator, a microwave A kitchen scene with a black countertop, a stainless steel refrigerator, a microwave A kitchen scene with a black countertop, a stainless steel refrigerator, a microwave A kitchen scene with a black countertop, a stainless steel refrigerator, a microwave', 'hypothesis': 'Vinegar was poured into a small volcano setup to cause a chemical reaction with baking soda, simulating an eruption for a science experiment or educational demonstration.', 'label': 'NEUTRAL', 'probabilities': [0.1423758715391159, 0.8464389443397522, 0.011185173876583576]}]\n",
      "Task 1:\n"
     ]
    },
    {
     "data": {
      "text/html": [
       "<video controls src='https://ubc-cv-sherlock.s3.us-west-2.amazonaws.com/oops/oops_val_v3/870_A_preevent.mp4' width='500' height='400'>"
      ],
      "text/plain": [
       "<IPython.core.display.HTML object>"
      ]
     },
     "metadata": {},
     "output_type": "display_data"
    },
    {
     "name": "stdout",
     "output_type": "stream",
     "text": [
      "[{'premise': 'A shirtless man is performing a handstand on a green platform in '\n",
      "             'a gym. A shirtless man is performing a handstand on a green mat '\n",
      "             'in a gym, with a green A shirtless man is performing a handstand '\n",
      "             'on a green mat, with his feet on a black A shirtless man is '\n",
      "             'performing a handstand on a green mat.',\n",
      "  'hypothesis': 'The man could continue his push-up routine, impressively '\n",
      "                'maintaining his form and displaying his strength and balance '\n",
      "                'on the mat.',\n",
      "  'label': 'NEUTRAL',\n",
      "  'probabilities': [0.00357501651160419,\n",
      "                    0.9954373240470886,\n",
      "                    0.0009877047268673778]},\n",
      " {'premise': 'A shirtless man is performing a handstand on a green platform in '\n",
      "             'a gym. A shirtless man is performing a handstand on a green mat '\n",
      "             'in a gym, with a green A shirtless man is performing a handstand '\n",
      "             'on a green mat, with his feet on a black A shirtless man is '\n",
      "             'performing a handstand on a green mat.',\n",
      "  'hypothesis': 'The man might lose his balance and potentially fall onto the '\n",
      "                'mat, showing the difficulty and risk involved in performing '\n",
      "                'strenuous exercises.',\n",
      "  'label': 'NEUTRAL',\n",
      "  'probabilities': [0.0006910908850841224,\n",
      "                    0.9975479245185852,\n",
      "                    0.001760873943567276]},\n",
      " {'premise': 'A shirtless man is performing a handstand on a green platform in '\n",
      "             'a gym. A shirtless man is performing a handstand on a green mat '\n",
      "             'in a gym, with a green A shirtless man is performing a handstand '\n",
      "             'on a green mat, with his feet on a black A shirtless man is '\n",
      "             'performing a handstand on a green mat.',\n",
      "  'hypothesis': 'He could transition into a dynamic movement, like a backflip '\n",
      "                'or jump to his feet, demonstrating skillful control and '\n",
      "                'advanced fitness ability.',\n",
      "  'label': 'NEUTRAL',\n",
      "  'probabilities': [0.0012571739498525858,\n",
      "                    0.9977288842201233,\n",
      "                    0.0010138984071090817]}]\n",
      "Task 2:\n"
     ]
    },
    {
     "data": {
      "text/html": [
       "<video controls src='https://ubc-cv-sherlock.s3.us-west-2.amazonaws.com/oops/oops_val_v3/870_C_postevent.mp4' width='500' height='400'>"
      ],
      "text/plain": [
       "<IPython.core.display.HTML object>"
      ]
     },
     "metadata": {},
     "output_type": "display_data"
    },
    {
     "name": "stdout",
     "output_type": "stream",
     "text": [
      "[{'premise': 'A shirtless man is performing a handstand on a green platform in '\n",
      "             'a gym. A shirtless man is performing a handstand on a green mat '\n",
      "             'in a gym, with a green A shirtless man is performing a handstand '\n",
      "             'on a green mat, with his feet on a black A shirtless man is '\n",
      "             'performing a handstand on a green mat. A man is standing on a '\n",
      "             'black platform with a green railing, looking at another man who '\n",
      "             'is A person is standing on a ramp with a skateboard. The frame '\n",
      "             'shows a black object with a green logo in the background, and '\n",
      "             'there are two black tires The image is blurry and shows a black '\n",
      "             'object with a shiny surface, possibly a piece of equipment',\n",
      "  'hypothesis': 'The man continued his fitness routine, seamlessly '\n",
      "                'transitioning from push-ups to a dynamic jumping movement '\n",
      "                'over the block, showing agility and training expertise.',\n",
      "  'label': 'CONTRADICTION',\n",
      "  'probabilities': [0.8737195134162903,\n",
      "                    0.12298757582902908,\n",
      "                    0.003292903071269393]},\n",
      " {'premise': 'A shirtless man is performing a handstand on a green platform in '\n",
      "             'a gym. A shirtless man is performing a handstand on a green mat '\n",
      "             'in a gym, with a green A shirtless man is performing a handstand '\n",
      "             'on a green mat, with his feet on a black A shirtless man is '\n",
      "             'performing a handstand on a green mat. A man is standing on a '\n",
      "             'black platform with a green railing, looking at another man who '\n",
      "             'is A person is standing on a ramp with a skateboard. The frame '\n",
      "             'shows a black object with a green logo in the background, and '\n",
      "             'there are two black tires The image is blurry and shows a black '\n",
      "             'object with a shiny surface, possibly a piece of equipment',\n",
      "  'hypothesis': 'Rather than losing balance, the man executed a calculated '\n",
      "                'leap, demonstrating the power of his workout and control in '\n",
      "                'his movements.',\n",
      "  'label': 'CONTRADICTION',\n",
      "  'probabilities': [0.7267634868621826,\n",
      "                    0.26841112971305847,\n",
      "                    0.004825330339372158]},\n",
      " {'premise': 'A shirtless man is performing a handstand on a green platform in '\n",
      "             'a gym. A shirtless man is performing a handstand on a green mat '\n",
      "             'in a gym, with a green A shirtless man is performing a handstand '\n",
      "             'on a green mat, with his feet on a black A shirtless man is '\n",
      "             'performing a handstand on a green mat. A man is standing on a '\n",
      "             'black platform with a green railing, looking at another man who '\n",
      "             'is A person is standing on a ramp with a skateboard. The frame '\n",
      "             'shows a black object with a green logo in the background, and '\n",
      "             'there are two black tires The image is blurry and shows a black '\n",
      "             'object with a shiny surface, possibly a piece of equipment',\n",
      "  'hypothesis': 'Instead of a simple exercise, the sequence escalated to an '\n",
      "                'acrobatic display as the man jumped the obstacle, indicating '\n",
      "                'a high level of athletic skill.',\n",
      "  'label': 'CONTRADICTION',\n",
      "  'probabilities': [0.5228848457336426,\n",
      "                    0.46603959798812866,\n",
      "                    0.011075548827648163]}]\n",
      "Task 3:\n"
     ]
    },
    {
     "data": {
      "text/html": [
       "<video controls src='https://ubc-cv-sherlock.s3.us-west-2.amazonaws.com/oops/oops_val_v3/870_B_event.mp4' width='500' height='400'>"
      ],
      "text/plain": [
       "<IPython.core.display.HTML object>"
      ]
     },
     "metadata": {},
     "output_type": "display_data"
    },
    {
     "name": "stdout",
     "output_type": "stream",
     "text": [
      "[{'premise': 'A shirtless man is performing a handstand on a green platform in a gym. A shirtless man is performing a handstand on a green mat in a gym, with a green A shirtless man is performing a handstand on a green mat, with his feet on a black A shirtless man is performing a handstand on a green mat. A shirtless man is performing a handstand on a green mat. A shirtless man is performing a stunt on a platform with green and black surfaces. A person is standing on a staircase in a room with a green railing. A man in a black shirt stands at the top of a staircase, looking down at another man A man is standing on a black platform with a green railing, looking at another man who is A person is standing on a ramp with a skateboard. The frame shows a black object with a green logo in the background, and there are two black tires The image is blurry and shows a black object with a shiny surface, possibly a piece of equipment', 'hypothesis': 'Integrating all frame information, a person performs a series of push-ups, followed by a dynamic leap over a sizeable block, demonstrating impressive physical coordination and fitness.', 'label': 'NEUTRAL', 'probabilities': [0.1248447373509407, 0.8680100440979004, 0.007145219016820192]}]\n",
      "Task 1:\n"
     ]
    },
    {
     "data": {
      "text/html": [
       "<video controls src='https://ubc-cv-sherlock.s3.us-west-2.amazonaws.com/oops/oops_val_v3/881_A_preevent.mp4' width='500' height='400'>"
      ],
      "text/plain": [
       "<IPython.core.display.HTML object>"
      ]
     },
     "metadata": {},
     "output_type": "display_data"
    },
    {
     "name": "stdout",
     "output_type": "stream",
     "text": [
      "[{'premise': 'A person is jumping in the air with their arms outstretched. A '\n",
      "             'person is performing a gymnastics trick on a blue mat. A woman '\n",
      "             'is performing a gymnastics routine on a blue mat. A person is '\n",
      "             'falling off a blue mat onto the grass.',\n",
      "  'hypothesis': 'The individual completes a successful flip, standing back up, '\n",
      "                'due to the momentum and balance displayed in their current '\n",
      "                'form and position.',\n",
      "  'label': 'CONTRADICTION',\n",
      "  'probabilities': [0.8465976715087891,\n",
      "                    0.15113112330436707,\n",
      "                    0.0022711160127073526]},\n",
      " {'premise': 'A person is jumping in the air with their arms outstretched. A '\n",
      "             'person is performing a gymnastics trick on a blue mat. A woman '\n",
      "             'is performing a gymnastics routine on a blue mat. A person is '\n",
      "             'falling off a blue mat onto the grass.',\n",
      "  'hypothesis': 'The person loses balance and falls onto the mat, indicated by '\n",
      "                'the slight backward tilt, which may throw off the execution '\n",
      "                'of the maneuver.',\n",
      "  'label': 'NEUTRAL',\n",
      "  'probabilities': [0.0007437998428940773,\n",
      "                    0.9859683513641357,\n",
      "                    0.0132878627628088]},\n",
      " {'premise': 'A person is jumping in the air with their arms outstretched. A '\n",
      "             'person is performing a gymnastics trick on a blue mat. A woman '\n",
      "             'is performing a gymnastics routine on a blue mat. A person is '\n",
      "             'falling off a blue mat onto the grass.',\n",
      "  'hypothesis': 'The individual could over-rotate and land beyond the mat, '\n",
      "                'suggested by the speed and trajectory of the current motion '\n",
      "                'in the initial frames.',\n",
      "  'label': 'NEUTRAL',\n",
      "  'probabilities': [0.013625782914459705,\n",
      "                    0.9500924944877625,\n",
      "                    0.036281708627939224]}]\n",
      "Task 2:\n"
     ]
    },
    {
     "data": {
      "text/html": [
       "<video controls src='https://ubc-cv-sherlock.s3.us-west-2.amazonaws.com/oops/oops_val_v3/881_C_postevent.mp4' width='500' height='400'>"
      ],
      "text/plain": [
       "<IPython.core.display.HTML object>"
      ]
     },
     "metadata": {},
     "output_type": "display_data"
    },
    {
     "name": "stdout",
     "output_type": "stream",
     "text": [
      "[{'premise': 'A person is jumping in the air with their arms outstretched. A '\n",
      "             'person is performing a gymnastics trick on a blue mat. A woman '\n",
      "             'is performing a gymnastics routine on a blue mat. A person is '\n",
      "             'falling off a blue mat onto the grass. A man is performing a '\n",
      "             'back break exercise on a blue mat. A man is standing on a blue '\n",
      "             'mat, wearing a black shirt with white stripes, and has A man is '\n",
      "             'standing on a blue mat with his arms outstretched. A man is '\n",
      "             'standing on a blue mat with his arms outstretched.',\n",
      "  'hypothesis': 'The person begins a cartwheel, with a caption suggesting a '\n",
      "                'potential accident, but completes the movement successfully.',\n",
      "  'label': 'NEUTRAL',\n",
      "  'probabilities': [0.34424272179603577, 0.6143798828125, 0.04137741029262543]},\n",
      " {'premise': 'A person is jumping in the air with their arms outstretched. A '\n",
      "             'person is performing a gymnastics trick on a blue mat. A woman '\n",
      "             'is performing a gymnastics routine on a blue mat. A person is '\n",
      "             'falling off a blue mat onto the grass. A man is performing a '\n",
      "             'back break exercise on a blue mat. A man is standing on a blue '\n",
      "             'mat, wearing a black shirt with white stripes, and has A man is '\n",
      "             'standing on a blue mat with his arms outstretched. A man is '\n",
      "             'standing on a blue mat with his arms outstretched.',\n",
      "  'hypothesis': 'Midway through the cartwheel, the individual maintains '\n",
      "                'balance, dispelling the suggestion of falling off balance '\n",
      "                'from the caption.',\n",
      "  'label': 'CONTRADICTION',\n",
      "  'probabilities': [0.9369910359382629,\n",
      "                    0.058683719485998154,\n",
      "                    0.004325293004512787]},\n",
      " {'premise': 'A person is jumping in the air with their arms outstretched. A '\n",
      "             'person is performing a gymnastics trick on a blue mat. A woman '\n",
      "             'is performing a gymnastics routine on a blue mat. A person is '\n",
      "             'falling off a blue mat onto the grass. A man is performing a '\n",
      "             'back break exercise on a blue mat. A man is standing on a blue '\n",
      "             'mat, wearing a black shirt with white stripes, and has A man is '\n",
      "             'standing on a blue mat with his arms outstretched. A man is '\n",
      "             'standing on a blue mat with his arms outstretched.',\n",
      "  'hypothesis': 'Completing the cartwheel, the person lands upright on the '\n",
      "                'mats, contradicting the anticipation of an over-rotation or '\n",
      "                'falling created by the initial frames and caption.',\n",
      "  'label': 'CONTRADICTION',\n",
      "  'probabilities': [0.8755024075508118,\n",
      "                    0.1134425476193428,\n",
      "                    0.011055049486458302]}]\n",
      "Task 3:\n"
     ]
    },
    {
     "data": {
      "text/html": [
       "<video controls src='https://ubc-cv-sherlock.s3.us-west-2.amazonaws.com/oops/oops_val_v3/881_B_event.mp4' width='500' height='400'>"
      ],
      "text/plain": [
       "<IPython.core.display.HTML object>"
      ]
     },
     "metadata": {},
     "output_type": "display_data"
    },
    {
     "name": "stdout",
     "output_type": "stream",
     "text": [
      "[{'premise': 'A person is jumping in the air with their arms outstretched. A person is performing a gymnastics trick on a blue mat. A woman is performing a gymnastics routine on a blue mat. A person is falling off a blue mat onto the grass. A person is performing a handstand on a blue mat. A man is lying on his back on a blue mat, with his legs in the air, in A man is performing a backflip on a blue mat in a backyard. A man is running on a blue mat with a wooden fence in the background. A man is performing a back break exercise on a blue mat. A man is standing on a blue mat, wearing a black shirt with white stripes, and has A man is standing on a blue mat with his arms outstretched. A man is standing on a blue mat with his arms outstretched.', 'hypothesis': 'Despite the alarming caption, the person executes a cartwheel and lands securely on their feet, showcasing a successful completion of the movement.', 'label': 'NEUTRAL', 'probabilities': [0.2478119283914566, 0.7498490214347839, 0.0023390036076307297]}]\n",
      "Task 1:\n"
     ]
    },
    {
     "data": {
      "text/html": [
       "<video controls src='https://ubc-cv-sherlock.s3.us-west-2.amazonaws.com/oops/oops_val_v3/890_A_preevent.mp4' width='500' height='400'>"
      ],
      "text/plain": [
       "<IPython.core.display.HTML object>"
      ]
     },
     "metadata": {},
     "output_type": "display_data"
    },
    {
     "name": "stdout",
     "output_type": "stream",
     "text": [
      "[{'premise': 'The image shows a nighttime city street with illuminated signs, '\n",
      "             'cars, and a dark sky The image shows a nighttime city street '\n",
      "             \"with a McDonald's sign, a traffic light, and The image shows a \"\n",
      "             'nighttime city street with illuminated signs, buildings, and '\n",
      "             'traffic lights, The image shows a nighttime city street with a '\n",
      "             \"McDonald's restaurant on the left, a cross\",\n",
      "  'hypothesis': 'A car enters the intersection unexpectedly, causing others to '\n",
      "                'brake sharply and honk, as they navigate around it to prevent '\n",
      "                'a collision.',\n",
      "  'label': 'NEUTRAL',\n",
      "  'probabilities': [0.06624950468540192,\n",
      "                    0.9319392442703247,\n",
      "                    0.001811228459700942]},\n",
      " {'premise': 'The image shows a nighttime city street with illuminated signs, '\n",
      "             'cars, and a dark sky The image shows a nighttime city street '\n",
      "             \"with a McDonald's sign, a traffic light, and The image shows a \"\n",
      "             'nighttime city street with illuminated signs, buildings, and '\n",
      "             'traffic lights, The image shows a nighttime city street with a '\n",
      "             \"McDonald's restaurant on the left, a cross\",\n",
      "  'hypothesis': 'An emergency vehicle, such as an ambulance, appears with '\n",
      "                'flashing lights, leading other vehicles to clear a path by '\n",
      "                'moving to the side of the road.',\n",
      "  'label': 'NEUTRAL',\n",
      "  'probabilities': [0.010933808982372284,\n",
      "                    0.9862098097801208,\n",
      "                    0.0028564149979501963]},\n",
      " {'premise': 'The image shows a nighttime city street with illuminated signs, '\n",
      "             'cars, and a dark sky The image shows a nighttime city street '\n",
      "             \"with a McDonald's sign, a traffic light, and The image shows a \"\n",
      "             'nighttime city street with illuminated signs, buildings, and '\n",
      "             'traffic lights, The image shows a nighttime city street with a '\n",
      "             \"McDonald's restaurant on the left, a cross\",\n",
      "  'hypothesis': 'Traffic flows smoothly without incident, with vehicles '\n",
      "                'obeying traffic signals and lights, and pedestrians crossing '\n",
      "                'at the designated crosswalk when permitted.',\n",
      "  'label': 'NEUTRAL',\n",
      "  'probabilities': [0.2814205288887024,\n",
      "                    0.7148908972740173,\n",
      "                    0.003688603872433305]}]\n",
      "Task 2:\n"
     ]
    },
    {
     "data": {
      "text/html": [
       "<video controls src='https://ubc-cv-sherlock.s3.us-west-2.amazonaws.com/oops/oops_val_v3/890_C_postevent.mp4' width='500' height='400'>"
      ],
      "text/plain": [
       "<IPython.core.display.HTML object>"
      ]
     },
     "metadata": {},
     "output_type": "display_data"
    },
    {
     "name": "stdout",
     "output_type": "stream",
     "text": [
      "[{'premise': 'The image shows a nighttime city street with illuminated signs, '\n",
      "             'cars, and a dark sky The image shows a nighttime city street '\n",
      "             \"with a McDonald's sign, a traffic light, and The image shows a \"\n",
      "             'nighttime city street with illuminated signs, buildings, and '\n",
      "             'traffic lights, The image shows a nighttime city street with a '\n",
      "             \"McDonald's restaurant on the left, a cross The image shows a \"\n",
      "             'nighttime street scene with a white van driving through an '\n",
      "             'intersection, illuminated The image shows a nighttime street '\n",
      "             'scene with a white van driving through an intersection, '\n",
      "             'illuminated The image shows a nighttime city street scene with a '\n",
      "             'white van driving through an intersection, illum This is a '\n",
      "             'nighttime street scene with a crosswalk, traffic lights, and '\n",
      "             'vehicles.',\n",
      "  'hypothesis': 'A car suddenly makes a left turn, ignoring the red light, '\n",
      "                'leading to a near-collision with another vehicle proceeding '\n",
      "                'through the intersection on a green light.',\n",
      "  'label': 'NEUTRAL',\n",
      "  'probabilities': [0.00797098595649004,\n",
      "                    0.9913262724876404,\n",
      "                    0.0007026407984085381]},\n",
      " {'premise': 'The image shows a nighttime city street with illuminated signs, '\n",
      "             'cars, and a dark sky The image shows a nighttime city street '\n",
      "             \"with a McDonald's sign, a traffic light, and The image shows a \"\n",
      "             'nighttime city street with illuminated signs, buildings, and '\n",
      "             'traffic lights, The image shows a nighttime city street with a '\n",
      "             \"McDonald's restaurant on the left, a cross The image shows a \"\n",
      "             'nighttime street scene with a white van driving through an '\n",
      "             'intersection, illuminated The image shows a nighttime street '\n",
      "             'scene with a white van driving through an intersection, '\n",
      "             'illuminated The image shows a nighttime city street scene with a '\n",
      "             'white van driving through an intersection, illum This is a '\n",
      "             'nighttime street scene with a crosswalk, traffic lights, and '\n",
      "             'vehicles.',\n",
      "  'hypothesis': 'An emergency vehicle with flashing lights enters the '\n",
      "                'intersection, traffic stops and yields right-of-way allowing '\n",
      "                'it to pass through quickly and safely.',\n",
      "  'label': 'NEUTRAL',\n",
      "  'probabilities': [0.0046144104562699795,\n",
      "                    0.9946237802505493,\n",
      "                    0.000761761621106416]},\n",
      " {'premise': 'The image shows a nighttime city street with illuminated signs, '\n",
      "             'cars, and a dark sky The image shows a nighttime city street '\n",
      "             \"with a McDonald's sign, a traffic light, and The image shows a \"\n",
      "             'nighttime city street with illuminated signs, buildings, and '\n",
      "             'traffic lights, The image shows a nighttime city street with a '\n",
      "             \"McDonald's restaurant on the left, a cross The image shows a \"\n",
      "             'nighttime street scene with a white van driving through an '\n",
      "             'intersection, illuminated The image shows a nighttime street '\n",
      "             'scene with a white van driving through an intersection, '\n",
      "             'illuminated The image shows a nighttime city street scene with a '\n",
      "             'white van driving through an intersection, illum This is a '\n",
      "             'nighttime street scene with a crosswalk, traffic lights, and '\n",
      "             'vehicles.',\n",
      "  'hypothesis': 'All vehicles at the intersection obey traffic signals '\n",
      "                'correctly, with no unexpected incidents; traffic flows '\n",
      "                'smoothly without emergency interruptions or rule violations.',\n",
      "  'label': 'NEUTRAL',\n",
      "  'probabilities': [0.008003436028957367,\n",
      "                    0.9910975694656372,\n",
      "                    0.0008989630732685328]}]\n",
      "Task 3:\n"
     ]
    },
    {
     "data": {
      "text/html": [
       "<video controls src='https://ubc-cv-sherlock.s3.us-west-2.amazonaws.com/oops/oops_val_v3/890_B_event.mp4' width='500' height='400'>"
      ],
      "text/plain": [
       "<IPython.core.display.HTML object>"
      ]
     },
     "metadata": {},
     "output_type": "display_data"
    },
    {
     "name": "stdout",
     "output_type": "stream",
     "text": [
      "[{'premise': \"The image shows a nighttime city street with illuminated signs, cars, and a dark sky The image shows a nighttime city street with a McDonald's sign, a traffic light, and The image shows a nighttime city street with illuminated signs, buildings, and traffic lights, The image shows a nighttime city street with a McDonald's restaurant on the left, a cross The image shows a nighttime city street with illuminated streetlights, a McDonald's sign A nighttime street scene with a crosswalk, traffic lights, and a building in the background. A nighttime street scene with a white truck driving through an intersection. This is a nighttime street scene with a white van driving through an intersection. The image shows a nighttime street scene with a white van driving through an intersection, illuminated The image shows a nighttime street scene with a white van driving through an intersection, illuminated The image shows a nighttime city street scene with a white van driving through an intersection, illum This is a nighttime street scene with a crosswalk, traffic lights, and vehicles.\", 'hypothesis': 'An emergency vehicle with flashing lights navigates through the intersection against the traffic light, while other vehicles yield to allow it to pass safely.', 'label': 'NEUTRAL', 'probabilities': [0.006534187588840723, 0.9922454953193665, 0.0012203127844259143]}]\n"
     ]
    }
   ],
   "source": [
    "import pprint\n",
    "for item in data[:20]:\n",
    "    # Task 1\n",
    "    idx = item[\"id\"]\n",
    "    print(\"Task 1:\")\n",
    "    video_display(f\"{idx}_A_preevent.mp4\")\n",
    "    pprint.pp(item['task1_nli_results'])\n",
    " \n",
    "    # Task 2\n",
    "    idx = item[\"id\"]\n",
    "    print(\"Task 2:\")\n",
    "    video_display(f\"{idx}_C_postevent.mp4\")\n",
    "    pprint.pp(item['task2_nli_results'])\n",
    "    \n",
    "    # Task 3\n",
    "    idx = item[\"id\"]\n",
    "    print(\"Task 3:\")\n",
    "    video_display(f\"{idx}_B_event.mp4\")\n",
    "    print(item['task3_nli_results'])\n",
    "\n",
    "\n",
    "\n",
    "\n"
   ]
  }
 ],
 "metadata": {
  "kernelspec": {
   "display_name": "var",
   "language": "python",
   "name": "python3"
  },
  "language_info": {
   "codemirror_mode": {
    "name": "ipython",
    "version": 3
   },
   "file_extension": ".py",
   "mimetype": "text/x-python",
   "name": "python",
   "nbconvert_exporter": "python",
   "pygments_lexer": "ipython3",
   "version": "3.10.4"
  }
 },
 "nbformat": 4,
 "nbformat_minor": 2
}
